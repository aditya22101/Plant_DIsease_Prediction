{
 "cells": [
  {
   "cell_type": "markdown",
   "metadata": {
    "id": "c8VSns6fO6Pg"
   },
   "source": [
    "**Seeding for reproducibility**"
   ]
  },
  {
   "cell_type": "code",
   "execution_count": 5,
   "metadata": {},
   "outputs": [
    {
     "name": "stdout",
     "output_type": "stream",
     "text": [
      "Requirement already satisfied: numpy in c:\\users\\adity\\anaconda3\\lib\\site-packages (1.26.4)Note: you may need to restart the kernel to use updated packages.\n",
      "\n"
     ]
    }
   ],
   "source": [
    "pip install numpy"
   ]
  },
  {
   "cell_type": "code",
   "execution_count": 6,
   "metadata": {},
   "outputs": [
    {
     "name": "stdout",
     "output_type": "stream",
     "text": [
      "Requirement already satisfied: tensorflow in c:\\users\\adity\\anaconda3\\lib\\site-packages (2.17.0)\n",
      "Requirement already satisfied: tensorflow-intel==2.17.0 in c:\\users\\adity\\anaconda3\\lib\\site-packages (from tensorflow) (2.17.0)\n",
      "Requirement already satisfied: absl-py>=1.0.0 in c:\\users\\adity\\anaconda3\\lib\\site-packages (from tensorflow-intel==2.17.0->tensorflow) (2.1.0)\n",
      "Requirement already satisfied: astunparse>=1.6.0 in c:\\users\\adity\\anaconda3\\lib\\site-packages (from tensorflow-intel==2.17.0->tensorflow) (1.6.3)\n",
      "Requirement already satisfied: flatbuffers>=24.3.25 in c:\\users\\adity\\anaconda3\\lib\\site-packages (from tensorflow-intel==2.17.0->tensorflow) (24.3.25)\n",
      "Requirement already satisfied: gast!=0.5.0,!=0.5.1,!=0.5.2,>=0.2.1 in c:\\users\\adity\\anaconda3\\lib\\site-packages (from tensorflow-intel==2.17.0->tensorflow) (0.6.0)\n",
      "Requirement already satisfied: google-pasta>=0.1.1 in c:\\users\\adity\\anaconda3\\lib\\site-packages (from tensorflow-intel==2.17.0->tensorflow) (0.2.0)\n",
      "Requirement already satisfied: h5py>=3.10.0 in c:\\users\\adity\\anaconda3\\lib\\site-packages (from tensorflow-intel==2.17.0->tensorflow) (3.11.0)\n",
      "Requirement already satisfied: libclang>=13.0.0 in c:\\users\\adity\\anaconda3\\lib\\site-packages (from tensorflow-intel==2.17.0->tensorflow) (18.1.1)\n",
      "Requirement already satisfied: ml-dtypes<0.5.0,>=0.3.1 in c:\\users\\adity\\anaconda3\\lib\\site-packages (from tensorflow-intel==2.17.0->tensorflow) (0.4.1)\n",
      "Requirement already satisfied: opt-einsum>=2.3.2 in c:\\users\\adity\\anaconda3\\lib\\site-packages (from tensorflow-intel==2.17.0->tensorflow) (3.4.0)\n",
      "Requirement already satisfied: packaging in c:\\users\\adity\\anaconda3\\lib\\site-packages (from tensorflow-intel==2.17.0->tensorflow) (23.2)\n",
      "Requirement already satisfied: protobuf!=4.21.0,!=4.21.1,!=4.21.2,!=4.21.3,!=4.21.4,!=4.21.5,<5.0.0dev,>=3.20.3 in c:\\users\\adity\\anaconda3\\lib\\site-packages (from tensorflow-intel==2.17.0->tensorflow) (3.20.3)\n",
      "Requirement already satisfied: requests<3,>=2.21.0 in c:\\users\\adity\\anaconda3\\lib\\site-packages (from tensorflow-intel==2.17.0->tensorflow) (2.32.2)\n",
      "Requirement already satisfied: setuptools in c:\\users\\adity\\anaconda3\\lib\\site-packages (from tensorflow-intel==2.17.0->tensorflow) (69.5.1)\n",
      "Requirement already satisfied: six>=1.12.0 in c:\\users\\adity\\anaconda3\\lib\\site-packages (from tensorflow-intel==2.17.0->tensorflow) (1.16.0)\n",
      "Requirement already satisfied: termcolor>=1.1.0 in c:\\users\\adity\\anaconda3\\lib\\site-packages (from tensorflow-intel==2.17.0->tensorflow) (2.4.0)\n",
      "Requirement already satisfied: typing-extensions>=3.6.6 in c:\\users\\adity\\anaconda3\\lib\\site-packages (from tensorflow-intel==2.17.0->tensorflow) (4.11.0)\n",
      "Requirement already satisfied: wrapt>=1.11.0 in c:\\users\\adity\\anaconda3\\lib\\site-packages (from tensorflow-intel==2.17.0->tensorflow) (1.14.1)\n",
      "Requirement already satisfied: grpcio<2.0,>=1.24.3 in c:\\users\\adity\\anaconda3\\lib\\site-packages (from tensorflow-intel==2.17.0->tensorflow) (1.66.2)\n",
      "Requirement already satisfied: tensorboard<2.18,>=2.17 in c:\\users\\adity\\anaconda3\\lib\\site-packages (from tensorflow-intel==2.17.0->tensorflow) (2.17.1)\n",
      "Requirement already satisfied: keras>=3.2.0 in c:\\users\\adity\\anaconda3\\lib\\site-packages (from tensorflow-intel==2.17.0->tensorflow) (3.5.0)\n",
      "Requirement already satisfied: numpy<2.0.0,>=1.26.0 in c:\\users\\adity\\anaconda3\\lib\\site-packages (from tensorflow-intel==2.17.0->tensorflow) (1.26.4)\n",
      "Requirement already satisfied: wheel<1.0,>=0.23.0 in c:\\users\\adity\\anaconda3\\lib\\site-packages (from astunparse>=1.6.0->tensorflow-intel==2.17.0->tensorflow) (0.43.0)\n",
      "Requirement already satisfied: rich in c:\\users\\adity\\anaconda3\\lib\\site-packages (from keras>=3.2.0->tensorflow-intel==2.17.0->tensorflow) (13.3.5)\n",
      "Requirement already satisfied: namex in c:\\users\\adity\\anaconda3\\lib\\site-packages (from keras>=3.2.0->tensorflow-intel==2.17.0->tensorflow) (0.0.8)\n",
      "Requirement already satisfied: optree in c:\\users\\adity\\anaconda3\\lib\\site-packages (from keras>=3.2.0->tensorflow-intel==2.17.0->tensorflow) (0.12.1)\n",
      "Requirement already satisfied: charset-normalizer<4,>=2 in c:\\users\\adity\\anaconda3\\lib\\site-packages (from requests<3,>=2.21.0->tensorflow-intel==2.17.0->tensorflow) (2.0.4)\n",
      "Requirement already satisfied: idna<4,>=2.5 in c:\\users\\adity\\anaconda3\\lib\\site-packages (from requests<3,>=2.21.0->tensorflow-intel==2.17.0->tensorflow) (3.7)\n",
      "Requirement already satisfied: urllib3<3,>=1.21.1 in c:\\users\\adity\\anaconda3\\lib\\site-packages (from requests<3,>=2.21.0->tensorflow-intel==2.17.0->tensorflow) (2.2.2)\n",
      "Requirement already satisfied: certifi>=2017.4.17 in c:\\users\\adity\\anaconda3\\lib\\site-packages (from requests<3,>=2.21.0->tensorflow-intel==2.17.0->tensorflow) (2024.6.2)\n",
      "Requirement already satisfied: markdown>=2.6.8 in c:\\users\\adity\\anaconda3\\lib\\site-packages (from tensorboard<2.18,>=2.17->tensorflow-intel==2.17.0->tensorflow) (3.4.1)\n",
      "Requirement already satisfied: tensorboard-data-server<0.8.0,>=0.7.0 in c:\\users\\adity\\anaconda3\\lib\\site-packages (from tensorboard<2.18,>=2.17->tensorflow-intel==2.17.0->tensorflow) (0.7.2)\n",
      "Requirement already satisfied: werkzeug>=1.0.1 in c:\\users\\adity\\anaconda3\\lib\\site-packages (from tensorboard<2.18,>=2.17->tensorflow-intel==2.17.0->tensorflow) (3.0.3)\n",
      "Requirement already satisfied: MarkupSafe>=2.1.1 in c:\\users\\adity\\anaconda3\\lib\\site-packages (from werkzeug>=1.0.1->tensorboard<2.18,>=2.17->tensorflow-intel==2.17.0->tensorflow) (2.1.3)\n",
      "Requirement already satisfied: markdown-it-py<3.0.0,>=2.2.0 in c:\\users\\adity\\anaconda3\\lib\\site-packages (from rich->keras>=3.2.0->tensorflow-intel==2.17.0->tensorflow) (2.2.0)\n",
      "Requirement already satisfied: pygments<3.0.0,>=2.13.0 in c:\\users\\adity\\anaconda3\\lib\\site-packages (from rich->keras>=3.2.0->tensorflow-intel==2.17.0->tensorflow) (2.15.1)\n",
      "Requirement already satisfied: mdurl~=0.1 in c:\\users\\adity\\anaconda3\\lib\\site-packages (from markdown-it-py<3.0.0,>=2.2.0->rich->keras>=3.2.0->tensorflow-intel==2.17.0->tensorflow) (0.1.0)\n",
      "Note: you may need to restart the kernel to use updated packages.\n"
     ]
    }
   ],
   "source": [
    "pip install tensorflow"
   ]
  },
  {
   "cell_type": "code",
   "execution_count": 7,
   "metadata": {
    "id": "JSu8kpnEHDPB"
   },
   "outputs": [],
   "source": [
    "# Set seeds for reproducibility\n",
    "import random\n",
    "random.seed(0)\n",
    "\n",
    "import numpy as np\n",
    "np.random.seed(0)\n",
    "\n",
    "import tensorflow as tf\n",
    "tf.random.set_seed(0)"
   ]
  },
  {
   "cell_type": "markdown",
   "metadata": {
    "id": "Eyqk5_8AO1Kr"
   },
   "source": [
    "**Importing the dependencies**"
   ]
  },
  {
   "cell_type": "code",
   "execution_count": 9,
   "metadata": {
    "id": "16dILovOOFy0"
   },
   "outputs": [],
   "source": [
    "import os\n",
    "import json\n",
    "from zipfile import ZipFile\n",
    "from PIL import Image\n",
    "\n",
    "import numpy as np\n",
    "import matplotlib.pyplot as plt\n",
    "import matplotlib.image as mpimg\n",
    "from tensorflow.keras.preprocessing.image import ImageDataGenerator\n",
    "from tensorflow.keras import layers, models"
   ]
  },
  {
   "cell_type": "markdown",
   "metadata": {
    "id": "7gAnTOlEPR8a"
   },
   "source": [
    "**Data Curation**"
   ]
  },
  {
   "cell_type": "markdown",
   "metadata": {
    "id": "GT4tQUqBs90l"
   },
   "source": [
    "Upload the kaggle.json file"
   ]
  },
  {
   "cell_type": "code",
   "execution_count": 10,
   "metadata": {
    "colab": {
     "base_uri": "https://localhost:8080/"
    },
    "id": "FKWvyGVDtALx",
    "outputId": "f565ec66-6b79-4d7f-ce6f-ecb12f388e37"
   },
   "outputs": [
    {
     "name": "stdout",
     "output_type": "stream",
     "text": [
      "Requirement already satisfied: kaggle in c:\\users\\adity\\anaconda3\\lib\\site-packages (1.6.17)\n",
      "Requirement already satisfied: six>=1.10 in c:\\users\\adity\\anaconda3\\lib\\site-packages (from kaggle) (1.16.0)\n",
      "Requirement already satisfied: certifi>=2023.7.22 in c:\\users\\adity\\anaconda3\\lib\\site-packages (from kaggle) (2024.6.2)\n",
      "Requirement already satisfied: python-dateutil in c:\\users\\adity\\anaconda3\\lib\\site-packages (from kaggle) (2.9.0.post0)\n",
      "Requirement already satisfied: requests in c:\\users\\adity\\anaconda3\\lib\\site-packages (from kaggle) (2.32.2)\n",
      "Requirement already satisfied: tqdm in c:\\users\\adity\\anaconda3\\lib\\site-packages (from kaggle) (4.66.4)\n",
      "Requirement already satisfied: python-slugify in c:\\users\\adity\\anaconda3\\lib\\site-packages (from kaggle) (5.0.2)\n",
      "Requirement already satisfied: urllib3 in c:\\users\\adity\\anaconda3\\lib\\site-packages (from kaggle) (2.2.2)\n",
      "Requirement already satisfied: bleach in c:\\users\\adity\\anaconda3\\lib\\site-packages (from kaggle) (4.1.0)\n",
      "Requirement already satisfied: packaging in c:\\users\\adity\\anaconda3\\lib\\site-packages (from bleach->kaggle) (23.2)\n",
      "Requirement already satisfied: webencodings in c:\\users\\adity\\anaconda3\\lib\\site-packages (from bleach->kaggle) (0.5.1)\n",
      "Requirement already satisfied: text-unidecode>=1.3 in c:\\users\\adity\\anaconda3\\lib\\site-packages (from python-slugify->kaggle) (1.3)\n",
      "Requirement already satisfied: charset-normalizer<4,>=2 in c:\\users\\adity\\anaconda3\\lib\\site-packages (from requests->kaggle) (2.0.4)\n",
      "Requirement already satisfied: idna<4,>=2.5 in c:\\users\\adity\\anaconda3\\lib\\site-packages (from requests->kaggle) (3.7)\n",
      "Requirement already satisfied: colorama in c:\\users\\adity\\anaconda3\\lib\\site-packages (from tqdm->kaggle) (0.4.6)\n"
     ]
    }
   ],
   "source": [
    "!pip install kaggle"
   ]
  },
  {
   "cell_type": "code",
   "execution_count": 14,
   "metadata": {
    "id": "ZM5gnAAVtH0s"
   },
   "outputs": [],
   "source": [
    "kaggle_credentials = json.load(open(r\"C:\\Users\\adity\\Downloads\\kaggle.json\"))\n"
   ]
  },
  {
   "cell_type": "code",
   "execution_count": 16,
   "metadata": {
    "id": "xWS6H5mPtNa_"
   },
   "outputs": [],
   "source": [
    "# setup Kaggle API key as environment variables\n",
    "os.environ['KAGGLE_USERNAME'] = kaggle_credentials[\"username\"]\n",
    "os.environ['KAGGLE_KEY'] = kaggle_credentials[\"key\"]"
   ]
  },
  {
   "cell_type": "code",
   "execution_count": 17,
   "metadata": {
    "colab": {
     "base_uri": "https://localhost:8080/"
    },
    "id": "ypPVDLobtUr5",
    "outputId": "53a70f81-a8ed-4287-f1f5-678b465142d0"
   },
   "outputs": [
    {
     "name": "stdout",
     "output_type": "stream",
     "text": [
      "Dataset URL: https://www.kaggle.com/datasets/abdallahalidev/plantvillage-dataset"
     ]
    },
    {
     "name": "stderr",
     "output_type": "stream",
     "text": [
      "\n",
      "  0%|          | 0.00/2.04G [00:00<?, ?B/s]\n",
      "  0%|          | 1.00M/2.04G [00:01<55:04, 662kB/s]\n",
      "  0%|          | 2.00M/2.04G [00:01<27:08, 1.34MB/s]\n",
      "  0%|          | 3.00M/2.04G [00:01<17:22, 2.10MB/s]\n",
      "  0%|          | 4.00M/2.04G [00:02<12:47, 2.85MB/s]\n",
      "  0%|          | 5.00M/2.04G [00:02<10:16, 3.55MB/s]\n",
      "  0%|          | 6.00M/2.04G [00:02<08:36, 4.22MB/s]\n",
      "  0%|          | 7.00M/2.04G [00:02<07:36, 4.78MB/s]\n",
      "  0%|          | 8.00M/2.04G [00:02<07:06, 5.12MB/s]\n",
      "  0%|          | 9.00M/2.04G [00:02<06:47, 5.35MB/s]\n",
      "  0%|          | 10.0M/2.04G [00:03<06:27, 5.62MB/s]\n",
      "  1%|          | 11.0M/2.04G [00:03<05:44, 6.32MB/s]\n",
      "  1%|          | 12.0M/2.04G [00:03<05:03, 7.16MB/s]\n",
      "  1%|          | 14.0M/2.04G [00:03<04:35, 7.89MB/s]\n",
      "  1%|          | 15.0M/2.04G [00:03<04:24, 8.23MB/s]\n",
      "  1%|          | 16.0M/2.04G [00:03<04:45, 7.61MB/s]\n",
      "  1%|          | 17.0M/2.04G [00:04<04:55, 7.34MB/s]\n",
      "  1%|          | 18.0M/2.04G [00:04<05:03, 7.15MB/s]\n",
      "  1%|          | 19.0M/2.04G [00:04<05:07, 7.05MB/s]\n",
      "  1%|          | 20.0M/2.04G [00:04<05:35, 6.47MB/s]\n",
      "  1%|          | 21.0M/2.04G [00:04<05:58, 6.05MB/s]\n",
      "  1%|          | 22.0M/2.04G [00:05<07:09, 5.04MB/s]\n",
      "  1%|          | 23.0M/2.04G [00:05<08:34, 4.20MB/s]\n",
      "  1%|          | 24.0M/2.04G [00:05<07:31, 4.79MB/s]\n",
      "  1%|          | 25.0M/2.04G [00:05<08:23, 4.30MB/s]\n",
      "  1%|          | 26.0M/2.04G [00:05<07:08, 5.04MB/s]\n",
      "  1%|▏         | 27.0M/2.04G [00:06<06:46, 5.31MB/s]\n",
      "  1%|▏         | 28.0M/2.04G [00:06<06:29, 5.55MB/s]\n",
      "  1%|▏         | 29.0M/2.04G [00:06<06:19, 5.69MB/s]\n",
      "  1%|▏         | 30.0M/2.04G [00:06<06:16, 5.73MB/s]\n",
      "  1%|▏         | 31.0M/2.04G [00:06<06:05, 5.91MB/s]\n",
      "  2%|▏         | 32.0M/2.04G [00:06<06:00, 5.98MB/s]\n",
      "  2%|▏         | 33.0M/2.04G [00:07<05:32, 6.47MB/s]\n",
      "  2%|▏         | 35.0M/2.04G [00:07<04:00, 8.95MB/s]\n",
      "  2%|▏         | 38.0M/2.04G [00:07<02:40, 13.4MB/s]\n",
      "  2%|▏         | 41.0M/2.04G [00:07<02:12, 16.2MB/s]\n",
      "  2%|▏         | 43.0M/2.04G [00:07<02:17, 15.6MB/s]\n",
      "  2%|▏         | 45.0M/2.04G [00:07<02:17, 15.6MB/s]\n",
      "  2%|▏         | 47.0M/2.04G [00:07<02:20, 15.2MB/s]\n",
      "  2%|▏         | 49.0M/2.04G [00:08<02:15, 15.8MB/s]\n",
      "  2%|▏         | 51.0M/2.04G [00:08<02:15, 15.8MB/s]\n",
      "  3%|▎         | 53.0M/2.04G [00:08<02:59, 11.9MB/s]\n",
      "  3%|▎         | 55.0M/2.04G [00:08<02:37, 13.6MB/s]\n",
      "  3%|▎         | 57.0M/2.04G [00:08<02:36, 13.6MB/s]\n",
      "  3%|▎         | 59.0M/2.04G [00:08<02:26, 14.5MB/s]\n",
      "  3%|▎         | 61.0M/2.04G [00:08<02:21, 15.1MB/s]\n",
      "  3%|▎         | 63.0M/2.04G [00:09<02:54, 12.2MB/s]\n",
      "  3%|▎         | 65.0M/2.04G [00:09<02:46, 12.7MB/s]\n",
      "  3%|▎         | 67.0M/2.04G [00:09<02:32, 13.9MB/s]\n",
      "  3%|▎         | 69.0M/2.04G [00:09<02:21, 15.0MB/s]\n",
      "  3%|▎         | 71.0M/2.04G [00:09<02:25, 14.5MB/s]\n",
      "  3%|▎         | 73.0M/2.04G [00:09<02:31, 13.9MB/s]\n",
      "  4%|▎         | 75.0M/2.04G [00:10<02:26, 14.4MB/s]\n",
      "  4%|▎         | 77.0M/2.04G [00:10<02:26, 14.4MB/s]\n",
      "  4%|▍         | 79.0M/2.04G [00:10<02:21, 14.9MB/s]\n",
      "  4%|▍         | 81.0M/2.04G [00:10<02:16, 15.4MB/s]\n",
      "  4%|▍         | 83.0M/2.04G [00:10<02:20, 15.0MB/s]\n",
      "  4%|▍         | 85.0M/2.04G [00:10<02:17, 15.3MB/s]\n",
      "  4%|▍         | 87.0M/2.04G [00:10<02:12, 15.8MB/s]\n",
      "  4%|▍         | 89.0M/2.04G [00:10<02:17, 15.2MB/s]\n",
      "  4%|▍         | 91.0M/2.04G [00:11<02:16, 15.3MB/s]\n",
      "  4%|▍         | 93.0M/2.04G [00:11<02:17, 15.2MB/s]\n",
      "  5%|▍         | 95.0M/2.04G [00:11<02:27, 14.2MB/s]\n",
      "  5%|▍         | 97.0M/2.04G [00:11<02:26, 14.3MB/s]\n",
      "  5%|▍         | 99.0M/2.04G [00:11<02:53, 12.0MB/s]\n",
      "  5%|▍         | 101M/2.04G [00:12<02:57, 11.8MB/s] \n",
      "  5%|▍         | 103M/2.04G [00:12<02:50, 12.2MB/s]\n",
      "  5%|▌         | 105M/2.04G [00:12<02:42, 12.8MB/s]\n",
      "  5%|▌         | 107M/2.04G [00:12<02:41, 12.9MB/s]\n",
      "  5%|▌         | 109M/2.04G [00:12<02:36, 13.2MB/s]\n",
      "  5%|▌         | 111M/2.04G [00:12<02:35, 13.3MB/s]\n",
      "  5%|▌         | 113M/2.04G [00:12<02:33, 13.5MB/s]\n",
      "  6%|▌         | 115M/2.04G [00:13<02:34, 13.4MB/s]\n",
      "  6%|▌         | 117M/2.04G [00:13<02:31, 13.7MB/s]\n",
      "  6%|▌         | 119M/2.04G [00:13<02:35, 13.3MB/s]\n",
      "  6%|▌         | 121M/2.04G [00:13<02:26, 14.1MB/s]\n",
      "  6%|▌         | 123M/2.04G [00:13<02:44, 12.5MB/s]\n",
      "  6%|▌         | 125M/2.04G [00:13<02:51, 12.0MB/s]\n",
      "  6%|▌         | 127M/2.04G [00:14<02:49, 12.2MB/s]\n",
      "  6%|▌         | 129M/2.04G [00:14<02:49, 12.1MB/s]\n",
      "  6%|▋         | 131M/2.04G [00:14<02:59, 11.4MB/s]\n",
      "  6%|▋         | 133M/2.04G [00:14<03:12, 10.6MB/s]\n",
      "  6%|▋         | 135M/2.04G [00:14<03:37, 9.43MB/s]\n",
      "  7%|▋         | 136M/2.04G [00:15<04:01, 8.49MB/s]\n",
      "  7%|▋         | 137M/2.04G [00:15<04:22, 7.79MB/s]\n",
      "  7%|▋         | 138M/2.04G [00:15<05:12, 6.54MB/s]\n",
      "  7%|▋         | 139M/2.04G [00:15<05:50, 5.83MB/s]\n",
      "  7%|▋         | 140M/2.04G [00:16<05:47, 5.88MB/s]\n",
      "  7%|▋         | 141M/2.04G [00:16<05:45, 5.91MB/s]\n",
      "  7%|▋         | 142M/2.04G [00:16<05:43, 5.93MB/s]\n",
      "  7%|▋         | 143M/2.04G [00:16<05:48, 5.85MB/s]\n",
      "  7%|▋         | 144M/2.04G [00:16<05:40, 5.98MB/s]\n",
      "  7%|▋         | 145M/2.04G [00:16<05:47, 5.86MB/s]\n",
      "  7%|▋         | 146M/2.04G [00:17<05:49, 5.83MB/s]\n",
      "  7%|▋         | 147M/2.04G [00:17<05:41, 5.97MB/s]\n",
      "  7%|▋         | 148M/2.04G [00:17<05:45, 5.88MB/s]\n",
      "  7%|▋         | 149M/2.04G [00:17<05:51, 5.78MB/s]\n",
      "  7%|▋         | 150M/2.04G [00:17<06:00, 5.64MB/s]\n",
      "  7%|▋         | 151M/2.04G [00:18<06:04, 5.57MB/s]\n",
      "  7%|▋         | 152M/2.04G [00:18<06:10, 5.48MB/s]\n",
      "  7%|▋         | 153M/2.04G [00:18<06:41, 5.05MB/s]\n",
      "  7%|▋         | 154M/2.04G [00:18<06:42, 5.04MB/s]\n",
      "  7%|▋         | 155M/2.04G [00:18<06:38, 5.09MB/s]\n",
      "  7%|▋         | 156M/2.04G [00:19<07:02, 4.79MB/s]\n",
      "  8%|▊         | 157M/2.04G [00:19<07:27, 4.52MB/s]\n",
      "  8%|▊         | 158M/2.04G [00:19<06:26, 5.24MB/s]\n",
      "  8%|▊         | 160M/2.04G [00:19<04:25, 7.63MB/s]\n",
      "  8%|▊         | 163M/2.04G [00:19<02:46, 12.1MB/s]\n",
      "  8%|▊         | 166M/2.04G [00:19<02:16, 14.7MB/s]\n",
      "  8%|▊         | 168M/2.04G [00:20<02:15, 14.9MB/s]\n",
      "  8%|▊         | 170M/2.04G [00:20<02:07, 15.8MB/s]\n",
      "  8%|▊         | 172M/2.04G [00:20<02:15, 14.8MB/s]\n",
      "  8%|▊         | 174M/2.04G [00:20<02:07, 15.7MB/s]\n",
      "  8%|▊         | 176M/2.04G [00:20<02:03, 16.3MB/s]\n",
      "  9%|▊         | 178M/2.04G [00:20<02:04, 16.1MB/s]\n",
      "  9%|▊         | 181M/2.04G [00:20<01:58, 16.9MB/s]\n",
      "  9%|▉         | 183M/2.04G [00:20<02:08, 15.6MB/s]\n",
      "  9%|▉         | 185M/2.04G [00:21<01:59, 16.7MB/s]\n",
      "  9%|▉         | 187M/2.04G [00:21<02:00, 16.5MB/s]\n",
      "  9%|▉         | 189M/2.04G [00:21<01:54, 17.4MB/s]\n",
      "  9%|▉         | 191M/2.04G [00:21<02:13, 14.9MB/s]\n",
      "  9%|▉         | 193M/2.04G [00:21<02:37, 12.6MB/s]\n",
      "  9%|▉         | 195M/2.04G [00:21<02:23, 13.9MB/s]\n",
      "  9%|▉         | 197M/2.04G [00:22<02:21, 14.0MB/s]\n",
      " 10%|▉         | 199M/2.04G [00:22<02:25, 13.6MB/s]\n",
      " 10%|▉         | 201M/2.04G [00:22<02:23, 13.8MB/s]\n",
      " 10%|▉         | 203M/2.04G [00:22<02:25, 13.6MB/s]\n",
      " 10%|▉         | 205M/2.04G [00:22<02:22, 13.8MB/s]\n",
      " 10%|▉         | 207M/2.04G [00:22<02:26, 13.4MB/s]\n",
      " 10%|█         | 209M/2.04G [00:22<02:27, 13.4MB/s]\n",
      " 10%|█         | 211M/2.04G [00:23<02:27, 13.4MB/s]\n",
      " 10%|█         | 213M/2.04G [00:23<02:27, 13.3MB/s]\n",
      " 10%|█         | 215M/2.04G [00:23<02:18, 14.2MB/s]\n",
      " 10%|█         | 218M/2.04G [00:23<01:57, 16.6MB/s]\n",
      " 11%|█         | 220M/2.04G [00:23<02:03, 15.8MB/s]\n",
      " 11%|█         | 223M/2.04G [00:23<01:44, 18.7MB/s]\n",
      " 11%|█         | 225M/2.04G [00:23<01:49, 17.8MB/s]\n",
      " 11%|█         | 227M/2.04G [00:24<02:08, 15.2MB/s]\n",
      " 11%|█         | 229M/2.04G [00:24<02:01, 16.0MB/s]\n",
      " 11%|█         | 231M/2.04G [00:24<02:23, 13.5MB/s]\n",
      " 11%|█         | 234M/2.04G [00:24<02:02, 15.9MB/s]\n",
      " 11%|█▏        | 236M/2.04G [00:24<02:09, 15.0MB/s]\n",
      " 11%|█▏        | 238M/2.04G [00:24<02:06, 15.3MB/s]\n",
      " 11%|█▏        | 240M/2.04G [00:25<02:03, 15.7MB/s]\n",
      " 12%|█▏        | 242M/2.04G [00:25<01:56, 16.6MB/s]\n",
      " 12%|█▏        | 244M/2.04G [00:25<01:56, 16.6MB/s]\n",
      " 12%|█▏        | 246M/2.04G [00:25<01:55, 16.7MB/s]\n",
      " 12%|█▏        | 248M/2.04G [00:25<01:52, 17.1MB/s]\n",
      " 12%|█▏        | 250M/2.04G [00:25<01:53, 16.9MB/s]\n",
      " 12%|█▏        | 252M/2.04G [00:25<01:51, 17.2MB/s]\n",
      " 12%|█▏        | 254M/2.04G [00:25<01:47, 17.9MB/s]\n",
      " 12%|█▏        | 256M/2.04G [00:25<01:44, 18.3MB/s]\n",
      " 12%|█▏        | 258M/2.04G [00:26<01:43, 18.6MB/s]\n",
      " 12%|█▏        | 260M/2.04G [00:26<01:49, 17.5MB/s]\n",
      " 13%|█▎        | 262M/2.04G [00:26<02:19, 13.8MB/s]\n",
      " 13%|█▎        | 264M/2.04G [00:26<02:20, 13.6MB/s]\n",
      " 13%|█▎        | 266M/2.04G [00:26<02:17, 13.9MB/s]\n",
      " 13%|█▎        | 268M/2.04G [00:26<02:26, 13.0MB/s]\n",
      " 13%|█▎        | 270M/2.04G [00:27<02:30, 12.7MB/s]\n",
      " 13%|█▎        | 272M/2.04G [00:27<02:41, 11.8MB/s]\n",
      " 13%|█▎        | 274M/2.04G [00:27<03:13, 9.85MB/s]\n",
      " 13%|█▎        | 276M/2.04G [00:27<02:51, 11.1MB/s]\n",
      " 13%|█▎        | 278M/2.04G [00:27<03:16, 9.63MB/s]\n",
      " 13%|█▎        | 280M/2.04G [00:28<03:34, 8.84MB/s]\n",
      " 13%|█▎        | 281M/2.04G [00:28<03:42, 8.50MB/s]\n",
      " 14%|█▎        | 282M/2.04G [00:28<03:51, 8.18MB/s]\n",
      " 14%|█▎        | 283M/2.04G [00:28<04:22, 7.22MB/s]\n",
      " 14%|█▎        | 284M/2.04G [00:28<04:39, 6.77MB/s]\n",
      " 14%|█▎        | 285M/2.04G [00:29<04:38, 6.78MB/s]\n",
      " 14%|█▎        | 286M/2.04G [00:29<04:43, 6.65MB/s]\n",
      " 14%|█▎        | 287M/2.04G [00:29<04:47, 6.56MB/s]\n",
      " 14%|█▍        | 288M/2.04G [00:29<04:55, 6.39MB/s]\n",
      " 14%|█▍        | 289M/2.04G [00:29<04:57, 6.34MB/s]\n",
      " 14%|█▍        | 290M/2.04G [00:29<04:59, 6.30MB/s]\n",
      " 14%|█▍        | 291M/2.04G [00:30<05:11, 6.05MB/s]\n",
      " 14%|█▍        | 292M/2.04G [00:30<05:21, 5.86MB/s]\n",
      " 14%|█▍        | 293M/2.04G [00:30<05:40, 5.53MB/s]\n",
      " 14%|█▍        | 294M/2.04G [00:30<06:11, 5.07MB/s]\n",
      " 14%|█▍        | 295M/2.04G [00:31<06:26, 4.86MB/s]\n",
      " 14%|█▍        | 296M/2.04G [00:31<06:10, 5.07MB/s]\n",
      " 14%|█▍        | 297M/2.04G [00:31<05:21, 5.84MB/s]\n",
      " 14%|█▍        | 299M/2.04G [00:31<04:01, 7.77MB/s]\n",
      " 14%|█▍        | 302M/2.04G [00:31<02:56, 10.6MB/s]\n",
      " 15%|█▍        | 304M/2.04G [00:31<02:36, 12.0MB/s]\n",
      " 15%|█▍        | 306M/2.04G [00:31<02:24, 13.0MB/s]\n",
      " 15%|█▍        | 308M/2.04G [00:32<02:25, 12.8MB/s]\n",
      " 15%|█▍        | 310M/2.04G [00:32<02:31, 12.3MB/s]\n",
      " 15%|█▍        | 312M/2.04G [00:32<02:48, 11.1MB/s]\n",
      " 15%|█▌        | 314M/2.04G [00:32<03:03, 10.1MB/s]\n",
      " 15%|█▌        | 316M/2.04G [00:33<03:08, 9.86MB/s]\n",
      " 15%|█▌        | 317M/2.04G [00:33<03:10, 9.74MB/s]\n",
      " 15%|█▌        | 318M/2.04G [00:33<03:11, 9.69MB/s]\n",
      " 15%|█▌        | 319M/2.04G [00:33<03:14, 9.55MB/s]\n",
      " 15%|█▌        | 320M/2.04G [00:33<03:49, 8.08MB/s]\n",
      " 15%|█▌        | 321M/2.04G [00:33<04:02, 7.64MB/s]\n",
      " 15%|█▌        | 322M/2.04G [00:33<04:46, 6.47MB/s]\n",
      " 15%|█▌        | 323M/2.04G [00:34<04:49, 6.38MB/s]\n",
      " 16%|█▌        | 324M/2.04G [00:34<04:18, 7.15MB/s]\n",
      " 16%|█▌        | 326M/2.04G [00:34<03:16, 9.42MB/s]\n",
      " 16%|█▌        | 329M/2.04G [00:34<02:14, 13.7MB/s]\n",
      " 16%|█▌        | 332M/2.04G [00:34<01:52, 16.4MB/s]\n",
      " 16%|█▌        | 334M/2.04G [00:34<02:03, 14.8MB/s]\n",
      " 16%|█▌        | 336M/2.04G [00:35<02:36, 11.7MB/s]\n",
      " 16%|█▌        | 338M/2.04G [00:35<02:22, 12.8MB/s]\n",
      " 16%|█▋        | 341M/2.04G [00:35<02:05, 14.6MB/s]\n",
      " 16%|█▋        | 343M/2.04G [00:35<02:14, 13.6MB/s]\n",
      " 17%|█▋        | 346M/2.04G [00:35<02:05, 14.6MB/s]\n",
      " 17%|█▋        | 348M/2.04G [00:35<01:55, 15.8MB/s]\n",
      " 17%|█▋        | 350M/2.04G [00:36<02:13, 13.6MB/s]\n",
      " 17%|█▋        | 353M/2.04G [00:36<02:02, 14.9MB/s]\n",
      " 17%|█▋        | 355M/2.04G [00:36<02:15, 13.4MB/s]\n",
      " 17%|█▋        | 357M/2.04G [00:36<02:29, 12.1MB/s]\n",
      " 17%|█▋        | 359M/2.04G [00:36<02:39, 11.3MB/s]\n",
      " 17%|█▋        | 361M/2.04G [00:36<02:28, 12.2MB/s]\n",
      " 17%|█▋        | 364M/2.04G [00:37<02:07, 14.2MB/s]\n",
      " 18%|█▊        | 367M/2.04G [00:37<01:46, 16.9MB/s]\n",
      " 18%|█▊        | 369M/2.04G [00:37<02:04, 14.4MB/s]\n",
      " 18%|█▊        | 371M/2.04G [00:37<02:14, 13.4MB/s]\n",
      " 18%|█▊        | 373M/2.04G [00:37<02:11, 13.7MB/s]\n",
      " 18%|█▊        | 376M/2.04G [00:37<02:02, 14.7MB/s]\n",
      " 18%|█▊        | 379M/2.04G [00:38<01:45, 16.9MB/s]\n",
      " 18%|█▊        | 381M/2.04G [00:38<01:59, 15.0MB/s]\n",
      " 18%|█▊        | 383M/2.04G [00:38<02:12, 13.5MB/s]\n",
      " 18%|█▊        | 385M/2.04G [00:38<02:25, 12.2MB/s]\n",
      " 19%|█▊        | 387M/2.04G [00:38<02:29, 11.9MB/s]\n",
      " 19%|█▊        | 389M/2.04G [00:39<02:34, 11.5MB/s]\n",
      " 19%|█▊        | 391M/2.04G [00:39<02:33, 11.6MB/s]\n",
      " 19%|█▉        | 393M/2.04G [00:39<02:40, 11.1MB/s]\n",
      " 19%|█▉        | 395M/2.04G [00:39<02:42, 11.0MB/s]\n",
      " 19%|█▉        | 397M/2.04G [00:40<03:10, 9.31MB/s]\n",
      " 19%|█▉        | 398M/2.04G [00:40<03:19, 8.88MB/s]\n",
      " 19%|█▉        | 399M/2.04G [00:40<03:29, 8.45MB/s]\n",
      " 19%|█▉        | 400M/2.04G [00:40<03:27, 8.53MB/s]\n",
      " 19%|█▉        | 402M/2.04G [00:40<02:56, 10.0MB/s]\n",
      " 19%|█▉        | 404M/2.04G [00:40<02:28, 11.9MB/s]\n",
      " 19%|█▉        | 407M/2.04G [00:40<01:51, 15.8MB/s]\n",
      " 20%|█▉        | 409M/2.04G [00:40<02:00, 14.7MB/s]\n",
      " 20%|█▉        | 411M/2.04G [00:41<02:00, 14.6MB/s]\n",
      " 20%|█▉        | 414M/2.04G [00:41<01:44, 16.8MB/s]\n",
      " 20%|█▉        | 416M/2.04G [00:41<01:44, 16.8MB/s]\n",
      " 20%|██        | 418M/2.04G [00:41<02:10, 13.4MB/s]\n",
      " 20%|██        | 420M/2.04G [00:41<01:58, 14.8MB/s]\n",
      " 20%|██        | 422M/2.04G [00:41<02:17, 12.7MB/s]\n",
      " 20%|██        | 424M/2.04G [00:42<02:36, 11.2MB/s]\n",
      " 20%|██        | 426M/2.04G [00:42<03:11, 9.12MB/s]\n",
      " 20%|██        | 428M/2.04G [00:42<03:02, 9.51MB/s]\n",
      " 21%|██        | 430M/2.04G [00:42<03:01, 9.58MB/s]\n",
      " 21%|██        | 433M/2.04G [00:43<02:23, 12.1MB/s]\n",
      " 21%|██        | 435M/2.04G [00:43<02:36, 11.1MB/s]\n",
      " 21%|██        | 437M/2.04G [00:43<02:43, 10.6MB/s]\n",
      " 21%|██        | 439M/2.04G [00:43<03:05, 9.30MB/s]\n",
      " 21%|██        | 440M/2.04G [00:43<03:13, 8.92MB/s]\n",
      " 21%|██        | 441M/2.04G [00:44<03:11, 9.03MB/s]\n",
      " 21%|██        | 442M/2.04G [00:44<03:17, 8.72MB/s]\n",
      " 21%|██        | 443M/2.04G [00:44<03:44, 7.70MB/s]\n",
      " 21%|██▏       | 444M/2.04G [00:44<03:45, 7.65MB/s]\n",
      " 21%|██▏       | 445M/2.04G [00:44<04:05, 7.01MB/s]\n",
      " 21%|██▏       | 446M/2.04G [00:44<04:30, 6.36MB/s]\n",
      " 21%|██▏       | 447M/2.04G [00:45<04:44, 6.06MB/s]\n",
      " 21%|██▏       | 448M/2.04G [00:45<04:23, 6.54MB/s]\n",
      " 22%|██▏       | 449M/2.04G [00:45<04:04, 7.04MB/s]\n",
      " 22%|██▏       | 450M/2.04G [00:45<03:54, 7.34MB/s]\n",
      " 22%|██▏       | 451M/2.04G [00:45<04:08, 6.92MB/s]\n",
      " 22%|██▏       | 452M/2.04G [00:45<03:52, 7.38MB/s]\n",
      " 22%|██▏       | 453M/2.04G [00:45<03:53, 7.35MB/s]\n",
      " 22%|██▏       | 454M/2.04G [00:46<03:54, 7.29MB/s]\n",
      " 22%|██▏       | 455M/2.04G [00:46<03:51, 7.38MB/s]\n",
      " 22%|██▏       | 456M/2.04G [00:46<03:54, 7.28MB/s]\n",
      " 22%|██▏       | 457M/2.04G [00:46<03:57, 7.21MB/s]\n",
      " 22%|██▏       | 458M/2.04G [00:46<03:57, 7.18MB/s]\n",
      " 22%|██▏       | 459M/2.04G [00:46<04:16, 6.67MB/s]\n",
      " 22%|██▏       | 461M/2.04G [00:47<03:30, 8.12MB/s]\n",
      " 22%|██▏       | 462M/2.04G [00:47<05:47, 4.90MB/s]\n",
      " 22%|██▏       | 465M/2.04G [00:47<03:38, 7.79MB/s]\n",
      " 22%|██▏       | 466M/2.04G [00:47<03:36, 7.87MB/s]\n",
      " 22%|██▏       | 467M/2.04G [00:48<04:17, 6.61MB/s]\n",
      " 22%|██▏       | 469M/2.04G [00:48<03:35, 7.89MB/s]\n",
      " 23%|██▎       | 471M/2.04G [00:48<03:00, 9.41MB/s]\n",
      " 23%|██▎       | 474M/2.04G [00:48<02:09, 13.1MB/s]\n",
      " 23%|██▎       | 476M/2.04G [00:48<02:06, 13.4MB/s]\n",
      " 23%|██▎       | 479M/2.04G [00:48<01:51, 15.2MB/s]\n",
      " 23%|██▎       | 481M/2.04G [00:48<01:43, 16.3MB/s]\n",
      " 23%|██▎       | 483M/2.04G [00:49<02:12, 12.7MB/s]\n",
      " 23%|██▎       | 485M/2.04G [00:49<01:59, 14.0MB/s]\n",
      " 23%|██▎       | 487M/2.04G [00:49<02:00, 13.9MB/s]\n",
      " 23%|██▎       | 489M/2.04G [00:49<01:59, 14.0MB/s]\n",
      " 24%|██▎       | 491M/2.04G [00:49<01:58, 14.1MB/s]\n",
      " 24%|██▎       | 493M/2.04G [00:49<02:06, 13.2MB/s]\n",
      " 24%|██▎       | 495M/2.04G [00:50<02:25, 11.5MB/s]\n",
      " 24%|██▍       | 498M/2.04G [00:50<02:07, 13.1MB/s]\n",
      " 24%|██▍       | 500M/2.04G [00:50<02:03, 13.5MB/s]\n",
      " 24%|██▍       | 502M/2.04G [00:50<02:14, 12.4MB/s]\n",
      " 24%|██▍       | 504M/2.04G [00:50<02:11, 12.6MB/s]\n",
      " 24%|██▍       | 506M/2.04G [00:51<02:57, 9.34MB/s]\n",
      " 24%|██▍       | 508M/2.04G [00:51<02:41, 10.3MB/s]\n",
      " 24%|██▍       | 510M/2.04G [00:51<02:32, 10.9MB/s]\n",
      " 25%|██▍       | 512M/2.04G [00:51<02:14, 12.3MB/s]\n",
      " 25%|██▍       | 514M/2.04G [00:51<02:16, 12.1MB/s]\n",
      " 25%|██▍       | 516M/2.04G [00:52<02:14, 12.2MB/s]\n",
      " 25%|██▍       | 518M/2.04G [00:52<02:14, 12.2MB/s]\n",
      " 25%|██▍       | 520M/2.04G [00:52<02:20, 11.7MB/s]\n",
      " 25%|██▌       | 522M/2.04G [00:52<02:26, 11.2MB/s]\n",
      " 25%|██▌       | 524M/2.04G [00:52<02:20, 11.7MB/s]\n",
      " 25%|██▌       | 526M/2.04G [00:52<02:05, 13.1MB/s]\n",
      " 25%|██▌       | 528M/2.04G [00:52<01:57, 14.0MB/s]\n",
      " 25%|██▌       | 530M/2.04G [00:53<01:49, 15.0MB/s]\n",
      " 25%|██▌       | 532M/2.04G [00:53<01:46, 15.4MB/s]\n",
      " 26%|██▌       | 534M/2.04G [00:53<01:41, 16.1MB/s]\n",
      " 26%|██▌       | 536M/2.04G [00:53<01:50, 14.8MB/s]\n",
      " 26%|██▌       | 538M/2.04G [00:53<01:58, 13.7MB/s]\n",
      " 26%|██▌       | 540M/2.04G [00:53<02:01, 13.3MB/s]\n",
      " 26%|██▌       | 542M/2.04G [00:54<02:05, 12.9MB/s]\n",
      " 26%|██▌       | 544M/2.04G [00:54<02:21, 11.4MB/s]\n",
      " 26%|██▌       | 546M/2.04G [00:54<02:26, 11.0MB/s]\n",
      " 26%|██▌       | 548M/2.04G [00:54<02:30, 10.8MB/s]\n",
      " 26%|██▋       | 550M/2.04G [00:55<02:56, 9.14MB/s]\n",
      " 26%|██▋       | 551M/2.04G [00:55<03:10, 8.45MB/s]\n",
      " 26%|██▋       | 552M/2.04G [00:55<03:55, 6.84MB/s]\n",
      " 26%|██▋       | 553M/2.04G [00:55<04:02, 6.64MB/s]\n",
      " 27%|██▋       | 554M/2.04G [00:55<04:08, 6.46MB/s]\n",
      " 27%|██▋       | 555M/2.04G [00:56<04:34, 5.85MB/s]\n",
      " 27%|██▋       | 556M/2.04G [00:56<04:52, 5.49MB/s]\n",
      " 27%|██▋       | 557M/2.04G [00:56<05:17, 5.05MB/s]\n",
      " 27%|██▋       | 558M/2.04G [00:56<05:28, 4.88MB/s]\n",
      " 27%|██▋       | 559M/2.04G [00:57<06:11, 4.31MB/s]\n",
      " 27%|██▋       | 560M/2.04G [00:57<06:51, 3.90MB/s]\n",
      " 27%|██▋       | 561M/2.04G [00:57<09:19, 2.86MB/s]\n",
      " 27%|██▋       | 562M/2.04G [00:58<11:06, 2.40MB/s]\n",
      " 27%|██▋       | 563M/2.04G [00:58<09:21, 2.85MB/s]\n",
      " 27%|██▋       | 564M/2.04G [00:58<08:08, 3.27MB/s]\n",
      " 27%|██▋       | 565M/2.04G [00:59<07:19, 3.63MB/s]\n",
      " 27%|██▋       | 566M/2.04G [00:59<07:12, 3.69MB/s]\n",
      " 27%|██▋       | 567M/2.04G [00:59<06:59, 3.80MB/s]\n",
      " 27%|██▋       | 568M/2.04G [00:59<06:43, 3.95MB/s]\n",
      " 27%|██▋       | 569M/2.04G [01:00<06:35, 4.03MB/s]\n",
      " 27%|██▋       | 570M/2.04G [01:00<06:53, 3.85MB/s]\n",
      " 27%|██▋       | 571M/2.04G [01:00<06:23, 4.15MB/s]\n",
      " 27%|██▋       | 572M/2.04G [01:00<05:42, 4.64MB/s]\n",
      " 27%|██▋       | 573M/2.04G [01:01<05:14, 5.05MB/s]\n",
      " 27%|██▋       | 574M/2.04G [01:01<05:03, 5.23MB/s]\n",
      " 28%|██▊       | 575M/2.04G [01:01<04:57, 5.34MB/s]\n",
      " 28%|██▊       | 576M/2.04G [01:01<04:57, 5.33MB/s]\n",
      " 28%|██▊       | 577M/2.04G [01:01<05:11, 5.09MB/s]\n",
      " 28%|██▊       | 578M/2.04G [01:02<05:19, 4.96MB/s]\n",
      " 28%|██▊       | 579M/2.04G [01:02<05:58, 4.42MB/s]\n",
      " 28%|██▊       | 580M/2.04G [01:02<06:27, 4.08MB/s]\n",
      " 28%|██▊       | 581M/2.04G [01:02<06:34, 4.01MB/s]\n",
      " 28%|██▊       | 582M/2.04G [01:03<07:36, 3.46MB/s]\n",
      " 28%|██▊       | 583M/2.04G [01:03<09:53, 2.66MB/s]\n",
      " 28%|██▊       | 584M/2.04G [01:04<12:08, 2.16MB/s]\n",
      " 28%|██▊       | 585M/2.04G [01:05<12:09, 2.16MB/s]\n",
      " 28%|██▊       | 586M/2.04G [01:05<12:05, 2.17MB/s]\n",
      " 28%|██▊       | 587M/2.04G [01:06<11:35, 2.26MB/s]\n",
      " 28%|██▊       | 588M/2.04G [01:06<09:45, 2.69MB/s]\n",
      " 28%|██▊       | 589M/2.04G [01:06<08:00, 3.27MB/s]\n",
      " 28%|██▊       | 590M/2.04G [01:06<06:50, 3.83MB/s]\n",
      " 28%|██▊       | 592M/2.04G [01:06<04:43, 5.54MB/s]\n",
      " 28%|██▊       | 594M/2.04G [01:06<03:43, 7.01MB/s]\n",
      " 29%|██▊       | 596M/2.04G [01:07<03:11, 8.16MB/s]\n",
      " 29%|██▊       | 597M/2.04G [01:07<03:07, 8.34MB/s]\n",
      " 29%|██▊       | 599M/2.04G [01:07<02:53, 9.02MB/s]\n",
      " 29%|██▊       | 600M/2.04G [01:07<03:04, 8.47MB/s]\n",
      " 29%|██▉       | 601M/2.04G [01:07<03:23, 7.66MB/s]\n",
      " 29%|██▉       | 602M/2.04G [01:07<03:29, 7.43MB/s]\n",
      " 29%|██▉       | 603M/2.04G [01:08<04:01, 6.44MB/s]\n",
      " 29%|██▉       | 604M/2.04G [01:08<04:32, 5.72MB/s]\n",
      " 29%|██▉       | 605M/2.04G [01:08<05:06, 5.07MB/s]\n",
      " 29%|██▉       | 606M/2.04G [01:08<05:22, 4.81MB/s]\n",
      " 29%|██▉       | 607M/2.04G [01:09<05:12, 4.98MB/s]\n",
      " 29%|██▉       | 608M/2.04G [01:09<05:34, 4.64MB/s]\n",
      " 29%|██▉       | 609M/2.04G [01:09<05:43, 4.51MB/s]\n",
      " 29%|██▉       | 610M/2.04G [01:09<06:05, 4.25MB/s]\n",
      " 29%|██▉       | 611M/2.04G [01:10<06:37, 3.89MB/s]\n",
      " 29%|██▉       | 612M/2.04G [01:10<07:40, 3.36MB/s]\n",
      " 29%|██▉       | 613M/2.04G [01:10<07:57, 3.24MB/s]\n",
      " 29%|██▉       | 614M/2.04G [01:11<08:08, 3.16MB/s]\n",
      " 29%|██▉       | 615M/2.04G [01:11<09:25, 2.73MB/s]\n",
      " 30%|██▉       | 616M/2.04G [01:12<08:21, 3.08MB/s]\n",
      " 30%|██▉       | 617M/2.04G [01:12<06:49, 3.77MB/s]\n",
      " 30%|██▉       | 618M/2.04G [01:12<05:55, 4.34MB/s]\n",
      " 30%|██▉       | 619M/2.04G [01:12<05:04, 5.07MB/s]\n",
      " 30%|██▉       | 620M/2.04G [01:12<05:18, 4.83MB/s]\n",
      " 30%|██▉       | 621M/2.04G [01:12<05:22, 4.76MB/s]\n",
      " 30%|██▉       | 622M/2.04G [01:13<05:31, 4.64MB/s]\n",
      " 30%|██▉       | 623M/2.04G [01:13<05:03, 5.07MB/s]\n",
      " 30%|██▉       | 624M/2.04G [01:13<04:27, 5.75MB/s]\n",
      " 30%|██▉       | 626M/2.04G [01:13<03:52, 6.60MB/s]\n",
      " 30%|███       | 627M/2.04G [01:13<03:41, 6.91MB/s]\n",
      " 30%|███       | 628M/2.04G [01:13<03:24, 7.50MB/s]\n",
      " 30%|███       | 629M/2.04G [01:14<03:35, 7.11MB/s]\n",
      " 30%|███       | 630M/2.04G [01:14<03:46, 6.76MB/s]\n",
      " 30%|███       | 631M/2.04G [01:14<03:52, 6.56MB/s]\n",
      " 30%|███       | 632M/2.04G [01:14<04:02, 6.30MB/s]\n",
      " 30%|███       | 633M/2.04G [01:14<03:55, 6.48MB/s]\n",
      " 30%|███       | 635M/2.04G [01:15<03:13, 7.86MB/s]\n",
      " 31%|███       | 637M/2.04G [01:15<02:49, 8.98MB/s]\n",
      " 31%|███       | 639M/2.04G [01:15<02:21, 10.7MB/s]\n",
      " 31%|███       | 641M/2.04G [01:15<02:23, 10.6MB/s]\n",
      " 31%|███       | 643M/2.04G [01:15<02:24, 10.5MB/s]\n",
      " 31%|███       | 645M/2.04G [01:15<02:22, 10.6MB/s]\n",
      " 31%|███       | 647M/2.04G [01:16<02:20, 10.7MB/s]\n",
      " 31%|███       | 649M/2.04G [01:16<02:36, 9.64MB/s]\n",
      " 31%|███       | 650M/2.04G [01:16<03:03, 8.20MB/s]\n",
      " 31%|███       | 652M/2.04G [01:16<02:51, 8.78MB/s]\n",
      " 31%|███▏      | 653M/2.04G [01:16<02:57, 8.49MB/s]\n",
      " 31%|███▏      | 654M/2.04G [01:17<03:07, 8.03MB/s]\n",
      " 31%|███▏      | 655M/2.04G [01:17<03:12, 7.79MB/s]\n",
      " 31%|███▏      | 656M/2.04G [01:17<03:17, 7.59MB/s]\n",
      " 31%|███▏      | 657M/2.04G [01:17<03:19, 7.52MB/s]\n",
      " 32%|███▏      | 658M/2.04G [01:17<03:32, 7.07MB/s]\n",
      " 32%|███▏      | 659M/2.04G [01:17<03:41, 6.76MB/s]\n",
      " 32%|███▏      | 660M/2.04G [01:18<04:07, 6.06MB/s]\n",
      " 32%|███▏      | 661M/2.04G [01:18<04:41, 5.32MB/s]\n",
      " 32%|███▏      | 662M/2.04G [01:18<05:51, 4.26MB/s]\n",
      " 32%|███▏      | 663M/2.04G [01:19<06:52, 3.62MB/s]\n",
      " 32%|███▏      | 664M/2.04G [01:19<07:32, 3.30MB/s]\n",
      " 32%|███▏      | 665M/2.04G [01:19<08:28, 2.93MB/s]\n",
      " 32%|███▏      | 666M/2.04G [01:20<10:19, 2.41MB/s]\n",
      " 32%|███▏      | 667M/2.04G [01:21<16:33, 1.50MB/s]\n",
      " 32%|███▏      | 668M/2.04G [01:24<31:13, 795kB/s] \n",
      " 32%|███▏      | 669M/2.04G [01:25<24:22, 1.02MB/s]\n",
      " 32%|███▏      | 671M/2.04G [01:25<14:01, 1.76MB/s]\n",
      " 32%|███▏      | 673M/2.04G [01:25<09:12, 2.69MB/s]\n",
      " 32%|███▏      | 674M/2.04G [01:25<07:41, 3.21MB/s]\n",
      " 32%|███▏      | 676M/2.04G [01:25<05:18, 4.65MB/s]\n",
      " 32%|███▏      | 678M/2.04G [01:25<04:18, 5.72MB/s]\n",
      " 33%|███▎      | 679M/2.04G [01:25<04:09, 5.93MB/s]\n",
      " 33%|███▎      | 680M/2.04G [01:26<03:52, 6.35MB/s]\n",
      " 33%|███▎      | 681M/2.04G [01:26<03:53, 6.31MB/s]\n",
      " 33%|███▎      | 682M/2.04G [01:26<04:03, 6.04MB/s]\n",
      " 33%|███▎      | 683M/2.04G [01:26<04:02, 6.09MB/s]\n",
      " 33%|███▎      | 685M/2.04G [01:26<03:06, 7.88MB/s]\n",
      " 33%|███▎      | 687M/2.04G [01:26<02:38, 9.27MB/s]\n",
      " 33%|███▎      | 689M/2.04G [01:27<02:25, 10.1MB/s]\n",
      " 33%|███▎      | 691M/2.04G [01:27<02:29, 9.79MB/s]\n",
      " 33%|███▎      | 692M/2.04G [01:27<02:42, 9.02MB/s]\n",
      " 33%|███▎      | 693M/2.04G [01:27<02:44, 8.92MB/s]\n",
      " 33%|███▎      | 694M/2.04G [01:27<02:55, 8.32MB/s]\n",
      " 33%|███▎      | 695M/2.04G [01:27<03:02, 8.00MB/s]\n",
      " 33%|███▎      | 696M/2.04G [01:28<03:01, 8.06MB/s]\n",
      " 33%|███▎      | 698M/2.04G [01:28<02:38, 9.21MB/s]\n",
      " 34%|███▎      | 700M/2.04G [01:28<02:16, 10.6MB/s]\n",
      " 34%|███▎      | 702M/2.04G [01:28<01:57, 12.4MB/s]\n",
      " 34%|███▎      | 704M/2.04G [01:28<01:47, 13.5MB/s]\n",
      " 34%|███▍      | 706M/2.04G [01:28<01:36, 14.9MB/s]\n",
      " 34%|███▍      | 708M/2.04G [01:28<02:03, 11.8MB/s]\n",
      " 34%|███▍      | 710M/2.04G [01:29<02:00, 12.0MB/s]\n",
      " 34%|███▍      | 712M/2.04G [01:29<02:16, 10.6MB/s]\n",
      " 34%|███▍      | 714M/2.04G [01:29<01:59, 12.1MB/s]\n",
      " 34%|███▍      | 716M/2.04G [01:29<01:57, 12.2MB/s]\n",
      " 34%|███▍      | 718M/2.04G [01:29<01:59, 12.0MB/s]\n",
      " 34%|███▍      | 720M/2.04G [01:30<02:27, 9.74MB/s]\n",
      " 35%|███▍      | 722M/2.04G [01:30<02:03, 11.6MB/s]\n",
      " 35%|███▍      | 724M/2.04G [01:30<01:59, 12.0MB/s]\n",
      " 35%|███▍      | 726M/2.04G [01:30<01:56, 12.2MB/s]\n",
      " 35%|███▍      | 728M/2.04G [01:30<02:01, 11.8MB/s]\n",
      " 35%|███▍      | 730M/2.04G [01:30<02:00, 11.8MB/s]\n",
      " 35%|███▌      | 732M/2.04G [01:31<02:01, 11.7MB/s]\n",
      " 35%|███▌      | 734M/2.04G [01:31<02:04, 11.4MB/s]\n",
      " 35%|███▌      | 736M/2.04G [01:31<01:50, 12.8MB/s]\n",
      " 35%|███▌      | 738M/2.04G [01:31<01:44, 13.5MB/s]\n",
      " 35%|███▌      | 740M/2.04G [01:31<02:15, 10.5MB/s]\n",
      " 36%|███▌      | 742M/2.04G [01:32<01:55, 12.2MB/s]\n",
      " 36%|███▌      | 744M/2.04G [01:32<01:51, 12.6MB/s]\n",
      " 36%|███▌      | 746M/2.04G [01:32<01:44, 13.4MB/s]\n",
      " 36%|███▌      | 748M/2.04G [01:32<01:41, 13.9MB/s]\n",
      " 36%|███▌      | 750M/2.04G [01:32<01:43, 13.6MB/s]\n",
      " 36%|███▌      | 752M/2.04G [01:32<01:36, 14.6MB/s]\n",
      " 36%|███▌      | 754M/2.04G [01:32<01:38, 14.2MB/s]\n",
      " 36%|███▌      | 756M/2.04G [01:33<01:34, 14.8MB/s]\n",
      " 36%|███▋      | 758M/2.04G [01:33<01:33, 15.0MB/s]\n",
      " 36%|███▋      | 760M/2.04G [01:33<01:29, 15.5MB/s]\n",
      " 36%|███▋      | 762M/2.04G [01:33<01:30, 15.4MB/s]\n",
      " 37%|███▋      | 765M/2.04G [01:33<01:25, 16.2MB/s]\n",
      " 37%|███▋      | 767M/2.04G [01:33<01:24, 16.4MB/s]\n",
      " 37%|███▋      | 769M/2.04G [01:33<01:21, 16.9MB/s]\n",
      " 37%|███▋      | 771M/2.04G [01:33<01:20, 17.3MB/s]\n",
      " 37%|███▋      | 773M/2.04G [01:34<01:24, 16.3MB/s]\n",
      " 37%|███▋      | 775M/2.04G [01:34<01:24, 16.4MB/s]\n",
      " 37%|███▋      | 777M/2.04G [01:34<01:25, 16.1MB/s]\n",
      " 37%|███▋      | 779M/2.04G [01:34<01:26, 15.9MB/s]\n",
      " 37%|███▋      | 781M/2.04G [01:34<01:27, 15.6MB/s]\n",
      " 38%|███▊      | 783M/2.04G [01:34<01:43, 13.2MB/s]\n",
      " 38%|███▊      | 785M/2.04G [01:35<01:48, 12.6MB/s]\n",
      " 38%|███▊      | 787M/2.04G [01:35<01:54, 11.9MB/s]\n",
      " 38%|███▊      | 789M/2.04G [01:35<01:58, 11.5MB/s]\n",
      " 38%|███▊      | 791M/2.04G [01:35<02:04, 11.0MB/s]\n",
      " 38%|███▊      | 793M/2.04G [01:35<02:02, 11.1MB/s]\n",
      " 38%|███▊      | 795M/2.04G [01:36<02:02, 11.1MB/s]\n",
      " 38%|███▊      | 797M/2.04G [01:36<02:08, 10.6MB/s]\n",
      " 38%|███▊      | 799M/2.04G [01:36<02:07, 10.6MB/s]\n",
      " 38%|███▊      | 801M/2.04G [01:36<02:01, 11.1MB/s]\n",
      " 38%|███▊      | 803M/2.04G [01:36<01:54, 11.8MB/s]\n",
      " 39%|███▊      | 805M/2.04G [01:36<01:44, 12.9MB/s]\n",
      " 39%|███▊      | 807M/2.04G [01:37<01:45, 12.8MB/s]\n",
      " 39%|███▊      | 809M/2.04G [01:37<01:45, 12.7MB/s]\n",
      " 39%|███▉      | 811M/2.04G [01:37<01:46, 12.5MB/s]\n",
      " 39%|███▉      | 813M/2.04G [01:37<01:48, 12.3MB/s]\n",
      " 39%|███▉      | 815M/2.04G [01:37<01:51, 12.0MB/s]\n",
      " 39%|███▉      | 817M/2.04G [01:37<01:59, 11.2MB/s]\n",
      " 39%|███▉      | 819M/2.04G [01:38<02:13, 9.93MB/s]\n",
      " 39%|███▉      | 820M/2.04G [01:38<02:28, 8.97MB/s]\n",
      " 39%|███▉      | 821M/2.04G [01:38<02:31, 8.79MB/s]\n",
      " 39%|███▉      | 822M/2.04G [01:38<02:49, 7.83MB/s]\n",
      " 39%|███▉      | 823M/2.04G [01:38<03:08, 7.05MB/s]\n",
      " 39%|███▉      | 824M/2.04G [01:39<03:25, 6.46MB/s]\n",
      " 40%|███▉      | 825M/2.04G [01:39<03:37, 6.08MB/s]\n",
      " 40%|███▉      | 826M/2.04G [01:39<04:00, 5.50MB/s]\n",
      " 40%|███▉      | 827M/2.04G [01:39<03:55, 5.62MB/s]\n",
      " 40%|███▉      | 828M/2.04G [01:39<03:58, 5.55MB/s]\n",
      " 40%|███▉      | 829M/2.04G [01:40<04:02, 5.44MB/s]\n",
      " 40%|███▉      | 830M/2.04G [01:40<04:06, 5.36MB/s]\n",
      " 40%|███▉      | 831M/2.04G [01:40<04:16, 5.15MB/s]\n",
      " 40%|███▉      | 832M/2.04G [01:40<04:33, 4.81MB/s]\n",
      " 40%|███▉      | 833M/2.04G [01:41<04:41, 4.67MB/s]\n",
      " 40%|███▉      | 834M/2.04G [01:41<05:05, 4.30MB/s]\n",
      " 40%|███▉      | 835M/2.04G [01:41<05:31, 3.96MB/s]\n",
      " 40%|████      | 836M/2.04G [01:41<05:10, 4.23MB/s]\n",
      " 40%|████      | 837M/2.04G [01:41<04:19, 5.05MB/s]\n",
      " 40%|████      | 839M/2.04G [01:42<03:19, 6.57MB/s]\n",
      " 40%|████      | 840M/2.04G [01:42<03:02, 7.18MB/s]\n",
      " 40%|████      | 841M/2.04G [01:42<02:53, 7.52MB/s]\n",
      " 40%|████      | 842M/2.04G [01:42<02:49, 7.71MB/s]\n",
      " 40%|████      | 843M/2.04G [01:42<02:43, 7.98MB/s]\n",
      " 40%|████      | 844M/2.04G [01:42<02:51, 7.60MB/s]\n",
      " 40%|████      | 845M/2.04G [01:42<02:59, 7.25MB/s]\n",
      " 41%|████      | 846M/2.04G [01:43<03:12, 6.76MB/s]\n",
      " 41%|████      | 847M/2.04G [01:43<03:23, 6.39MB/s]\n",
      " 41%|████      | 848M/2.04G [01:43<03:12, 6.77MB/s]\n",
      " 41%|████      | 849M/2.04G [01:43<02:53, 7.50MB/s]\n",
      " 41%|████      | 850M/2.04G [01:43<02:49, 7.65MB/s]\n",
      " 41%|████      | 851M/2.04G [01:43<02:46, 7.81MB/s]\n",
      " 41%|████      | 852M/2.04G [01:43<02:44, 7.87MB/s]\n",
      " 41%|████      | 853M/2.04G [01:44<02:56, 7.33MB/s]\n",
      " 41%|████      | 854M/2.04G [01:44<03:04, 7.02MB/s]\n",
      " 41%|████      | 855M/2.04G [01:44<03:41, 5.84MB/s]\n",
      " 41%|████      | 856M/2.04G [01:44<03:35, 6.00MB/s]\n",
      " 41%|████      | 857M/2.04G [01:44<03:17, 6.54MB/s]\n",
      " 41%|████      | 858M/2.04G [01:44<03:04, 6.99MB/s]\n",
      " 41%|████      | 859M/2.04G [01:45<03:01, 7.11MB/s]\n",
      " 41%|████      | 860M/2.04G [01:45<02:58, 7.21MB/s]\n",
      " 41%|████      | 861M/2.04G [01:45<02:59, 7.19MB/s]\n",
      " 41%|████▏     | 862M/2.04G [01:45<02:57, 7.26MB/s]\n",
      " 41%|████▏     | 863M/2.04G [01:45<03:01, 7.07MB/s]\n",
      " 41%|████▏     | 864M/2.04G [01:45<03:02, 7.02MB/s]\n",
      " 41%|████▏     | 865M/2.04G [01:45<02:55, 7.30MB/s]\n",
      " 41%|████▏     | 866M/2.04G [01:46<02:52, 7.41MB/s]\n",
      " 42%|████▏     | 867M/2.04G [01:46<02:51, 7.48MB/s]\n",
      " 42%|████▏     | 868M/2.04G [01:46<02:46, 7.67MB/s]\n",
      " 42%|████▏     | 869M/2.04G [01:46<02:46, 7.65MB/s]\n",
      " 42%|████▏     | 870M/2.04G [01:46<02:45, 7.73MB/s]\n",
      " 42%|████▏     | 871M/2.04G [01:46<02:48, 7.59MB/s]\n",
      " 42%|████▏     | 872M/2.04G [01:46<02:47, 7.61MB/s]\n",
      " 42%|████▏     | 873M/2.04G [01:47<02:49, 7.51MB/s]\n",
      " 42%|████▏     | 874M/2.04G [01:47<03:00, 7.07MB/s]\n",
      " 42%|████▏     | 875M/2.04G [01:47<02:57, 7.17MB/s]\n",
      " 42%|████▏     | 876M/2.04G [01:47<03:02, 6.97MB/s]\n",
      " 42%|████▏     | 877M/2.04G [01:47<03:02, 6.95MB/s]\n",
      " 42%|████▏     | 878M/2.04G [01:47<03:06, 6.82MB/s]\n",
      " 42%|████▏     | 879M/2.04G [01:47<03:10, 6.66MB/s]\n",
      " 42%|████▏     | 880M/2.04G [01:48<03:15, 6.49MB/s]\n",
      " 42%|████▏     | 881M/2.04G [01:48<03:11, 6.61MB/s]\n",
      " 42%|████▏     | 882M/2.04G [01:48<03:14, 6.51MB/s]\n",
      " 42%|████▏     | 883M/2.04G [01:48<03:18, 6.36MB/s]\n",
      " 42%|████▏     | 884M/2.04G [01:48<03:34, 5.88MB/s]\n",
      " 42%|████▏     | 885M/2.04G [01:49<03:58, 5.29MB/s]\n",
      " 42%|████▏     | 886M/2.04G [01:49<04:32, 4.63MB/s]\n",
      " 42%|████▏     | 887M/2.04G [01:49<05:27, 3.85MB/s]\n",
      " 43%|████▎     | 888M/2.04G [01:50<05:24, 3.87MB/s]\n",
      " 43%|████▎     | 889M/2.04G [01:50<05:24, 3.88MB/s]\n",
      " 43%|████▎     | 890M/2.04G [01:50<05:19, 3.93MB/s]\n",
      " 43%|████▎     | 891M/2.04G [01:50<05:14, 3.99MB/s]\n",
      " 43%|████▎     | 892M/2.04G [01:50<04:35, 4.54MB/s]\n",
      " 43%|████▎     | 894M/2.04G [01:51<03:12, 6.49MB/s]\n",
      " 43%|████▎     | 896M/2.04G [01:51<02:31, 8.28MB/s]\n",
      " 43%|████▎     | 898M/2.04G [01:51<02:16, 9.16MB/s]\n",
      " 43%|████▎     | 900M/2.04G [01:51<01:53, 11.0MB/s]\n",
      " 43%|████▎     | 902M/2.04G [01:51<01:51, 11.2MB/s]\n",
      " 43%|████▎     | 904M/2.04G [01:51<01:47, 11.6MB/s]\n",
      " 43%|████▎     | 906M/2.04G [01:52<01:53, 10.9MB/s]\n",
      " 43%|████▎     | 908M/2.04G [01:52<01:54, 10.8MB/s]\n",
      " 44%|████▎     | 910M/2.04G [01:52<02:00, 10.2MB/s]\n",
      " 44%|████▎     | 912M/2.04G [01:52<02:18, 8.89MB/s]\n",
      " 44%|████▍     | 914M/2.04G [01:53<02:07, 9.63MB/s]\n",
      " 44%|████▍     | 915M/2.04G [01:53<02:07, 9.63MB/s]\n",
      " 44%|████▍     | 916M/2.04G [01:53<02:07, 9.64MB/s]\n",
      " 44%|████▍     | 917M/2.04G [01:53<02:06, 9.74MB/s]\n",
      " 44%|████▍     | 918M/2.04G [01:53<02:07, 9.64MB/s]\n",
      " 44%|████▍     | 919M/2.04G [01:53<02:15, 9.05MB/s]\n",
      " 44%|████▍     | 920M/2.04G [01:53<02:15, 9.05MB/s]\n",
      " 44%|████▍     | 921M/2.04G [01:53<02:17, 8.92MB/s]\n",
      " 44%|████▍     | 922M/2.04G [01:54<02:18, 8.80MB/s]\n",
      " 44%|████▍     | 923M/2.04G [01:54<02:17, 8.91MB/s]\n",
      " 44%|████▍     | 924M/2.04G [01:54<02:12, 9.23MB/s]\n",
      " 44%|████▍     | 926M/2.04G [01:54<01:57, 10.4MB/s]\n",
      " 44%|████▍     | 928M/2.04G [01:54<01:49, 11.1MB/s]\n",
      " 45%|████▍     | 930M/2.04G [01:54<01:48, 11.2MB/s]\n",
      " 45%|████▍     | 932M/2.04G [01:54<01:46, 11.4MB/s]\n",
      " 45%|████▍     | 934M/2.04G [01:55<01:52, 10.7MB/s]\n",
      " 45%|████▍     | 936M/2.04G [01:55<02:20, 8.61MB/s]\n",
      " 45%|████▍     | 937M/2.04G [01:55<02:16, 8.84MB/s]\n",
      " 45%|████▍     | 938M/2.04G [01:55<02:32, 7.89MB/s]\n",
      " 45%|████▍     | 939M/2.04G [01:55<02:44, 7.33MB/s]\n",
      " 45%|████▌     | 940M/2.04G [01:56<03:30, 5.72MB/s]\n",
      " 45%|████▌     | 941M/2.04G [01:56<03:15, 6.15MB/s]\n",
      " 45%|████▌     | 942M/2.04G [01:56<02:58, 6.74MB/s]\n",
      " 45%|████▌     | 943M/2.04G [01:56<02:54, 6.88MB/s]\n",
      " 45%|████▌     | 944M/2.04G [01:56<02:46, 7.20MB/s]\n",
      " 45%|████▌     | 945M/2.04G [01:56<02:53, 6.90MB/s]\n",
      " 45%|████▌     | 946M/2.04G [01:57<03:22, 5.90MB/s]\n",
      " 45%|████▌     | 947M/2.04G [01:57<03:21, 5.94MB/s]\n",
      " 45%|████▌     | 948M/2.04G [01:57<03:38, 5.47MB/s]\n",
      " 45%|████▌     | 949M/2.04G [01:57<03:52, 5.13MB/s]\n",
      " 45%|████▌     | 950M/2.04G [01:58<04:05, 4.87MB/s]\n",
      " 46%|████▌     | 951M/2.04G [01:58<04:19, 4.59MB/s]\n",
      " 46%|████▌     | 952M/2.04G [01:58<04:13, 4.69MB/s]\n",
      " 46%|████▌     | 953M/2.04G [01:58<03:48, 5.21MB/s]\n",
      " 46%|████▌     | 954M/2.04G [01:58<03:43, 5.32MB/s]\n",
      " 46%|████▌     | 955M/2.04G [01:59<03:51, 5.14MB/s]\n",
      " 46%|████▌     | 956M/2.04G [01:59<04:19, 4.58MB/s]\n",
      " 46%|████▌     | 957M/2.04G [01:59<04:21, 4.53MB/s]\n",
      " 46%|████▌     | 958M/2.04G [01:59<04:32, 4.35MB/s]\n",
      " 46%|████▌     | 959M/2.04G [02:00<04:51, 4.07MB/s]\n",
      " 46%|████▌     | 960M/2.04G [02:00<05:04, 3.88MB/s]\n",
      " 46%|████▌     | 961M/2.04G [02:00<05:01, 3.92MB/s]\n",
      " 46%|████▌     | 962M/2.04G [02:01<05:18, 3.71MB/s]\n",
      " 46%|████▌     | 963M/2.04G [02:01<05:51, 3.36MB/s]\n",
      " 46%|████▌     | 964M/2.04G [02:02<07:50, 2.50MB/s]\n",
      " 46%|████▌     | 965M/2.04G [02:02<08:57, 2.19MB/s]\n",
      " 46%|████▋     | 966M/2.04G [02:03<08:07, 2.41MB/s]\n",
      " 46%|████▋     | 967M/2.04G [02:03<06:31, 3.00MB/s]\n",
      " 46%|████▋     | 968M/2.04G [02:03<05:24, 3.62MB/s]\n",
      " 46%|████▋     | 969M/2.04G [02:03<04:43, 4.13MB/s]\n",
      " 46%|████▋     | 970M/2.04G [02:03<04:44, 4.12MB/s]\n",
      " 47%|████▋     | 971M/2.04G [02:04<04:57, 3.94MB/s]\n",
      " 47%|████▋     | 972M/2.04G [02:04<04:21, 4.48MB/s]\n",
      " 47%|████▋     | 973M/2.04G [02:04<04:02, 4.82MB/s]\n",
      " 47%|████▋     | 974M/2.04G [02:04<03:53, 5.01MB/s]\n",
      " 47%|████▋     | 975M/2.04G [02:04<03:39, 5.31MB/s]\n",
      " 47%|████▋     | 976M/2.04G [02:04<03:30, 5.54MB/s]\n",
      " 47%|████▋     | 977M/2.04G [02:05<03:23, 5.72MB/s]\n",
      " 47%|████▋     | 978M/2.04G [02:05<03:21, 5.77MB/s]\n",
      " 47%|████▋     | 979M/2.04G [02:05<03:10, 6.10MB/s]\n",
      " 47%|████▋     | 981M/2.04G [02:05<02:21, 8.21MB/s]\n",
      " 47%|████▋     | 983M/2.04G [02:05<01:58, 9.75MB/s]\n",
      " 47%|████▋     | 985M/2.04G [02:05<01:44, 11.1MB/s]\n",
      " 47%|████▋     | 987M/2.04G [02:06<01:36, 12.0MB/s]\n",
      " 47%|████▋     | 989M/2.04G [02:06<01:33, 12.4MB/s]\n",
      " 47%|████▋     | 991M/2.04G [02:06<01:36, 11.9MB/s]\n",
      " 48%|████▊     | 993M/2.04G [02:06<01:37, 11.8MB/s]\n",
      " 48%|████▊     | 995M/2.04G [02:06<01:35, 12.0MB/s]\n",
      " 48%|████▊     | 997M/2.04G [02:06<01:31, 12.5MB/s]\n",
      " 48%|████▊     | 999M/2.04G [02:07<01:32, 12.3MB/s]\n",
      " 48%|████▊     | 0.98G/2.04G [02:07<01:27, 13.0MB/s]\n",
      " 48%|████▊     | 0.98G/2.04G [02:07<01:22, 13.8MB/s]\n",
      " 48%|████▊     | 0.98G/2.04G [02:07<01:21, 13.9MB/s]\n",
      " 48%|████▊     | 0.98G/2.04G [02:07<01:37, 11.6MB/s]\n",
      " 48%|████▊     | 0.99G/2.04G [02:08<02:00, 9.40MB/s]\n",
      " 48%|████▊     | 0.99G/2.04G [02:08<02:36, 7.21MB/s]\n",
      " 49%|████▊     | 0.99G/2.04G [02:08<02:14, 8.38MB/s]\n",
      " 49%|████▊     | 0.99G/2.04G [02:08<01:57, 9.61MB/s]\n",
      " 49%|████▊     | 0.99G/2.04G [02:08<01:48, 10.3MB/s]\n",
      " 49%|████▉     | 1.00G/2.04G [02:09<01:40, 11.1MB/s]\n",
      " 49%|████▉     | 1.00G/2.04G [02:09<01:39, 11.3MB/s]\n",
      " 49%|████▉     | 1.00G/2.04G [02:09<01:36, 11.6MB/s]\n",
      " 49%|████▉     | 1.00G/2.04G [02:09<01:33, 11.9MB/s]\n",
      " 49%|████▉     | 1.00G/2.04G [02:09<01:32, 12.0MB/s]\n",
      " 49%|████▉     | 1.00G/2.04G [02:09<01:30, 12.2MB/s]\n",
      " 49%|████▉     | 1.01G/2.04G [02:10<01:27, 12.6MB/s]\n",
      " 49%|████▉     | 1.01G/2.04G [02:10<01:26, 12.8MB/s]\n",
      " 50%|████▉     | 1.01G/2.04G [02:10<01:27, 12.7MB/s]\n",
      " 50%|████▉     | 1.01G/2.04G [02:10<01:27, 12.7MB/s]\n",
      " 50%|████▉     | 1.01G/2.04G [02:10<01:26, 12.7MB/s]\n",
      " 50%|████▉     | 1.02G/2.04G [02:10<01:27, 12.6MB/s]\n",
      " 50%|████▉     | 1.02G/2.04G [02:11<01:29, 12.3MB/s]\n",
      " 50%|█████     | 1.02G/2.04G [02:11<01:25, 12.8MB/s]\n",
      " 50%|█████     | 1.02G/2.04G [02:11<01:20, 13.5MB/s]\n",
      " 50%|█████     | 1.02G/2.04G [02:11<01:13, 14.7MB/s]\n",
      " 50%|█████     | 1.03G/2.04G [02:11<01:12, 14.9MB/s]\n",
      " 50%|█████     | 1.03G/2.04G [02:11<01:36, 11.3MB/s]\n",
      " 51%|█████     | 1.03G/2.04G [02:12<01:14, 14.6MB/s]\n",
      " 51%|█████     | 1.03G/2.04G [02:12<01:10, 15.4MB/s]\n",
      " 51%|█████     | 1.04G/2.04G [02:12<01:14, 14.4MB/s]\n",
      " 51%|█████     | 1.04G/2.04G [02:12<01:06, 16.1MB/s]\n",
      " 51%|█████     | 1.04G/2.04G [02:12<01:10, 15.1MB/s]\n",
      " 51%|█████     | 1.04G/2.04G [02:12<01:11, 14.9MB/s]\n",
      " 51%|█████     | 1.04G/2.04G [02:13<01:16, 13.9MB/s]\n",
      " 51%|█████▏    | 1.05G/2.04G [02:13<01:26, 12.3MB/s]\n",
      " 51%|█████▏    | 1.05G/2.04G [02:13<01:56, 9.10MB/s]\n",
      " 52%|█████▏    | 1.05G/2.04G [02:13<01:44, 10.2MB/s]\n",
      " 52%|█████▏    | 1.05G/2.04G [02:13<01:38, 10.7MB/s]\n",
      " 52%|█████▏    | 1.05G/2.04G [02:14<01:31, 11.5MB/s]\n",
      " 52%|█████▏    | 1.06G/2.04G [02:14<01:35, 11.0MB/s]\n",
      " 52%|█████▏    | 1.06G/2.04G [02:14<01:26, 12.1MB/s]\n",
      " 52%|█████▏    | 1.06G/2.04G [02:14<01:26, 12.1MB/s]\n",
      " 52%|█████▏    | 1.06G/2.04G [02:14<01:25, 12.3MB/s]\n",
      " 52%|█████▏    | 1.06G/2.04G [02:14<01:24, 12.4MB/s]\n",
      " 52%|█████▏    | 1.07G/2.04G [02:15<01:24, 12.4MB/s]\n",
      " 52%|█████▏    | 1.07G/2.04G [02:15<01:23, 12.4MB/s]\n",
      " 52%|█████▏    | 1.07G/2.04G [02:15<01:19, 13.1MB/s]\n",
      " 53%|█████▎    | 1.07G/2.04G [02:15<01:12, 14.3MB/s]\n",
      " 53%|█████▎    | 1.07G/2.04G [02:15<01:11, 14.4MB/s]\n",
      " 53%|█████▎    | 1.08G/2.04G [02:15<01:10, 14.7MB/s]\n",
      " 53%|█████▎    | 1.08G/2.04G [02:16<02:21, 7.27MB/s]\n",
      " 53%|█████▎    | 1.08G/2.04G [02:16<02:03, 8.36MB/s]\n",
      " 53%|█████▎    | 1.08G/2.04G [02:16<01:47, 9.60MB/s]\n",
      " 53%|█████▎    | 1.08G/2.04G [02:16<01:37, 10.5MB/s]\n",
      " 53%|█████▎    | 1.09G/2.04G [02:17<01:29, 11.4MB/s]\n",
      " 53%|█████▎    | 1.09G/2.04G [02:17<01:20, 12.7MB/s]\n",
      " 53%|█████▎    | 1.09G/2.04G [02:17<01:17, 13.2MB/s]\n",
      " 54%|█████▎    | 1.09G/2.04G [02:17<01:07, 15.2MB/s]\n",
      " 54%|█████▎    | 1.09G/2.04G [02:17<01:30, 11.3MB/s]\n",
      " 54%|█████▍    | 1.10G/2.04G [02:18<01:27, 11.6MB/s]\n",
      " 54%|█████▍    | 1.10G/2.04G [02:18<01:27, 11.5MB/s]\n",
      " 54%|█████▍    | 1.10G/2.04G [02:18<01:31, 11.0MB/s]\n",
      " 54%|█████▍    | 1.10G/2.04G [02:18<01:35, 10.6MB/s]\n",
      " 54%|█████▍    | 1.10G/2.04G [02:18<01:37, 10.3MB/s]\n",
      " 54%|█████▍    | 1.11G/2.04G [02:18<01:24, 11.8MB/s]\n",
      " 54%|█████▍    | 1.11G/2.04G [02:19<01:27, 11.5MB/s]\n",
      " 54%|█████▍    | 1.11G/2.04G [02:19<01:29, 11.1MB/s]\n",
      " 55%|█████▍    | 1.11G/2.04G [02:19<01:40, 9.85MB/s]\n",
      " 55%|█████▍    | 1.11G/2.04G [02:19<01:26, 11.4MB/s]\n",
      " 55%|█████▍    | 1.12G/2.04G [02:19<01:33, 10.6MB/s]\n",
      " 55%|█████▍    | 1.12G/2.04G [02:20<01:27, 11.3MB/s]\n",
      " 55%|█████▍    | 1.12G/2.04G [02:20<01:45, 9.32MB/s]\n",
      " 55%|█████▌    | 1.12G/2.04G [02:20<02:00, 8.18MB/s]\n",
      " 55%|█████▌    | 1.12G/2.04G [02:20<01:57, 8.36MB/s]\n",
      " 55%|█████▌    | 1.12G/2.04G [02:20<01:35, 10.3MB/s]\n",
      " 55%|█████▌    | 1.13G/2.04G [02:21<01:26, 11.3MB/s]\n",
      " 55%|█████▌    | 1.13G/2.04G [02:21<01:14, 13.2MB/s]\n",
      " 55%|█████▌    | 1.13G/2.04G [02:21<01:06, 14.7MB/s]\n",
      " 56%|█████▌    | 1.13G/2.04G [02:21<01:02, 15.5MB/s]\n",
      " 56%|█████▌    | 1.13G/2.04G [02:21<01:06, 14.7MB/s]\n",
      " 56%|█████▌    | 1.14G/2.04G [02:21<01:11, 13.6MB/s]\n",
      " 56%|█████▌    | 1.14G/2.04G [02:21<01:10, 13.7MB/s]\n",
      " 56%|█████▌    | 1.14G/2.04G [02:22<01:09, 14.0MB/s]\n",
      " 56%|█████▌    | 1.14G/2.04G [02:22<01:07, 14.2MB/s]\n",
      " 56%|█████▌    | 1.14G/2.04G [02:22<01:09, 13.8MB/s]\n",
      " 56%|█████▌    | 1.15G/2.04G [02:22<01:03, 15.1MB/s]\n",
      " 56%|█████▋    | 1.15G/2.04G [02:22<00:55, 17.2MB/s]\n",
      " 56%|█████▋    | 1.15G/2.04G [02:22<01:06, 14.4MB/s]\n",
      " 57%|█████▋    | 1.15G/2.04G [02:23<01:05, 14.6MB/s]\n",
      " 57%|█████▋    | 1.16G/2.04G [02:23<00:59, 15.9MB/s]\n",
      " 57%|█████▋    | 1.16G/2.04G [02:23<00:59, 16.0MB/s]\n",
      " 57%|█████▋    | 1.16G/2.04G [02:23<00:59, 15.8MB/s]\n",
      " 57%|█████▋    | 1.16G/2.04G [02:23<00:58, 16.0MB/s]\n",
      " 57%|█████▋    | 1.16G/2.04G [02:23<00:59, 15.7MB/s]\n",
      " 57%|█████▋    | 1.17G/2.04G [02:23<00:59, 15.6MB/s]\n",
      " 57%|█████▋    | 1.17G/2.04G [02:24<00:55, 17.0MB/s]\n",
      " 57%|█████▋    | 1.17G/2.04G [02:24<01:06, 14.0MB/s]\n",
      " 58%|█████▊    | 1.17G/2.04G [02:24<01:06, 14.0MB/s]\n",
      " 58%|█████▊    | 1.17G/2.04G [02:24<01:15, 12.4MB/s]\n",
      " 58%|█████▊    | 1.18G/2.04G [02:24<01:22, 11.3MB/s]\n",
      " 58%|█████▊    | 1.18G/2.04G [02:25<01:36, 9.55MB/s]\n",
      " 58%|█████▊    | 1.18G/2.04G [02:25<01:34, 9.73MB/s]\n",
      " 58%|█████▊    | 1.18G/2.04G [02:25<01:38, 9.38MB/s]\n",
      " 58%|█████▊    | 1.18G/2.04G [02:25<01:43, 8.92MB/s]\n",
      " 58%|█████▊    | 1.18G/2.04G [02:25<01:46, 8.65MB/s]\n",
      " 58%|█████▊    | 1.18G/2.04G [02:25<01:50, 8.29MB/s]\n",
      " 58%|█████▊    | 1.19G/2.04G [02:26<01:59, 7.64MB/s]\n",
      " 58%|█████▊    | 1.19G/2.04G [02:26<02:04, 7.35MB/s]\n",
      " 58%|█████▊    | 1.19G/2.04G [02:26<02:17, 6.65MB/s]\n",
      " 58%|█████▊    | 1.19G/2.04G [02:26<02:22, 6.40MB/s]\n",
      " 58%|█████▊    | 1.19G/2.04G [02:26<02:07, 7.17MB/s]\n",
      " 58%|█████▊    | 1.19G/2.04G [02:26<01:58, 7.68MB/s]\n",
      " 58%|█████▊    | 1.19G/2.04G [02:26<02:11, 6.94MB/s]\n",
      " 59%|█████▊    | 1.19G/2.04G [02:27<01:44, 8.68MB/s]\n",
      " 59%|█████▊    | 1.19G/2.04G [02:27<01:43, 8.73MB/s]\n",
      " 59%|█████▊    | 1.20G/2.04G [02:27<01:42, 8.84MB/s]\n",
      " 59%|█████▊    | 1.20G/2.04G [02:27<01:45, 8.61MB/s]\n",
      " 59%|█████▊    | 1.20G/2.04G [02:27<02:07, 7.08MB/s]\n",
      " 59%|█████▉    | 1.20G/2.04G [02:27<01:56, 7.75MB/s]\n",
      " 59%|█████▉    | 1.20G/2.04G [02:27<01:48, 8.30MB/s]\n",
      " 59%|█████▉    | 1.20G/2.04G [02:28<01:23, 10.7MB/s]\n",
      " 59%|█████▉    | 1.20G/2.04G [02:28<01:02, 14.4MB/s]\n",
      " 59%|█████▉    | 1.21G/2.04G [02:28<01:06, 13.5MB/s]\n",
      " 59%|█████▉    | 1.21G/2.04G [02:28<01:14, 11.9MB/s]\n",
      " 59%|█████▉    | 1.21G/2.04G [02:28<01:05, 13.6MB/s]\n",
      " 59%|█████▉    | 1.21G/2.04G [02:28<01:00, 14.6MB/s]\n",
      " 60%|█████▉    | 1.21G/2.04G [02:28<00:57, 15.3MB/s]\n",
      " 60%|█████▉    | 1.22G/2.04G [02:29<00:59, 14.9MB/s]\n",
      " 60%|█████▉    | 1.22G/2.04G [02:29<01:06, 13.2MB/s]\n",
      " 60%|█████▉    | 1.22G/2.04G [02:29<01:03, 14.0MB/s]\n",
      " 60%|█████▉    | 1.22G/2.04G [02:29<01:00, 14.5MB/s]\n",
      " 60%|██████    | 1.22G/2.04G [02:29<01:02, 14.1MB/s]\n",
      " 60%|██████    | 1.23G/2.04G [02:29<01:01, 14.1MB/s]\n",
      " 60%|██████    | 1.23G/2.04G [02:29<00:58, 14.9MB/s]\n",
      " 60%|██████    | 1.23G/2.04G [02:30<00:58, 14.8MB/s]\n",
      " 60%|██████    | 1.23G/2.04G [02:30<00:56, 15.2MB/s]\n",
      " 61%|██████    | 1.23G/2.04G [02:30<00:52, 16.5MB/s]\n",
      " 61%|██████    | 1.24G/2.04G [02:30<00:52, 16.4MB/s]\n",
      " 61%|██████    | 1.24G/2.04G [02:30<00:51, 16.6MB/s]\n",
      " 61%|██████    | 1.24G/2.04G [02:30<00:52, 16.4MB/s]\n",
      " 61%|██████    | 1.24G/2.04G [02:30<00:52, 16.4MB/s]\n",
      " 61%|██████    | 1.24G/2.04G [02:31<00:51, 16.4MB/s]\n",
      " 61%|██████    | 1.25G/2.04G [02:31<00:54, 15.5MB/s]\n",
      " 61%|██████    | 1.25G/2.04G [02:31<00:58, 14.4MB/s]\n",
      " 61%|██████▏   | 1.25G/2.04G [02:31<00:59, 14.2MB/s]\n",
      " 61%|██████▏   | 1.25G/2.04G [02:31<01:02, 13.5MB/s]\n",
      " 61%|██████▏   | 1.25G/2.04G [02:31<01:04, 13.0MB/s]\n",
      " 62%|██████▏   | 1.26G/2.04G [02:32<01:08, 12.3MB/s]\n",
      " 62%|██████▏   | 1.26G/2.04G [02:32<01:08, 12.2MB/s]\n",
      " 62%|██████▏   | 1.26G/2.04G [02:32<01:13, 11.4MB/s]\n",
      " 62%|██████▏   | 1.26G/2.04G [02:32<01:26, 9.60MB/s]\n",
      " 62%|██████▏   | 1.26G/2.04G [02:32<01:24, 9.90MB/s]\n",
      " 62%|██████▏   | 1.26G/2.04G [02:33<01:25, 9.74MB/s]\n",
      " 62%|██████▏   | 1.27G/2.04G [02:33<01:25, 9.75MB/s]\n",
      " 62%|██████▏   | 1.27G/2.04G [02:33<01:19, 10.3MB/s]\n",
      " 62%|██████▏   | 1.27G/2.04G [02:33<01:22, 10.0MB/s]\n",
      " 62%|██████▏   | 1.27G/2.04G [02:33<01:25, 9.65MB/s]\n",
      " 62%|██████▏   | 1.27G/2.04G [02:33<01:29, 9.17MB/s]\n",
      " 62%|██████▏   | 1.27G/2.04G [02:34<01:32, 8.87MB/s]\n",
      " 63%|██████▎   | 1.27G/2.04G [02:34<01:36, 8.49MB/s]\n",
      " 63%|██████▎   | 1.28G/2.04G [02:34<01:22, 9.88MB/s]\n",
      " 63%|██████▎   | 1.28G/2.04G [02:34<01:22, 9.95MB/s]\n",
      " 63%|██████▎   | 1.28G/2.04G [02:34<01:20, 10.1MB/s]\n",
      " 63%|██████▎   | 1.28G/2.04G [02:34<01:23, 9.80MB/s]\n",
      " 63%|██████▎   | 1.28G/2.04G [02:34<01:24, 9.65MB/s]\n",
      " 63%|██████▎   | 1.28G/2.04G [02:35<01:32, 8.77MB/s]\n",
      " 63%|██████▎   | 1.28G/2.04G [02:35<01:37, 8.30MB/s]\n",
      " 63%|██████▎   | 1.28G/2.04G [02:35<01:39, 8.13MB/s]\n",
      " 63%|██████▎   | 1.29G/2.04G [02:35<01:42, 7.90MB/s]\n",
      " 63%|██████▎   | 1.29G/2.04G [02:35<01:37, 8.31MB/s]\n",
      " 63%|██████▎   | 1.29G/2.04G [02:35<01:36, 8.32MB/s]\n",
      " 63%|██████▎   | 1.29G/2.04G [02:36<01:18, 10.2MB/s]\n",
      " 63%|██████▎   | 1.29G/2.04G [02:36<01:14, 10.7MB/s]\n",
      " 63%|██████▎   | 1.29G/2.04G [02:36<01:31, 8.77MB/s]\n",
      " 64%|██████▎   | 1.29G/2.04G [02:36<01:58, 6.72MB/s]\n",
      " 64%|██████▎   | 1.30G/2.04G [02:37<02:11, 6.05MB/s]\n",
      " 64%|██████▎   | 1.30G/2.04G [02:37<02:36, 5.10MB/s]\n",
      " 64%|██████▎   | 1.30G/2.04G [02:37<02:55, 4.52MB/s]\n",
      " 64%|██████▎   | 1.30G/2.04G [02:37<03:03, 4.33MB/s]\n",
      " 64%|██████▎   | 1.30G/2.04G [02:38<03:13, 4.10MB/s]\n",
      " 64%|██████▍   | 1.30G/2.04G [02:38<03:20, 3.96MB/s]\n",
      " 64%|██████▍   | 1.30G/2.04G [02:38<03:33, 3.70MB/s]\n",
      " 64%|██████▍   | 1.30G/2.04G [02:39<04:50, 2.72MB/s]\n",
      " 64%|██████▍   | 1.30G/2.04G [02:39<04:10, 3.15MB/s]\n",
      " 64%|██████▍   | 1.30G/2.04G [02:39<03:23, 3.87MB/s]\n",
      " 64%|██████▍   | 1.31G/2.04G [02:39<02:53, 4.53MB/s]\n",
      " 64%|██████▍   | 1.31G/2.04G [02:40<02:31, 5.19MB/s]\n",
      " 64%|██████▍   | 1.31G/2.04G [02:40<02:25, 5.40MB/s]\n",
      " 64%|██████▍   | 1.31G/2.04G [02:40<02:17, 5.72MB/s]\n",
      " 64%|██████▍   | 1.31G/2.04G [02:40<02:13, 5.85MB/s]\n",
      " 64%|██████▍   | 1.31G/2.04G [02:40<02:03, 6.35MB/s]\n",
      " 64%|██████▍   | 1.31G/2.04G [02:40<02:00, 6.49MB/s]\n",
      " 64%|██████▍   | 1.31G/2.04G [02:41<01:58, 6.60MB/s]\n",
      " 64%|██████▍   | 1.31G/2.04G [02:41<01:47, 7.23MB/s]\n",
      " 64%|██████▍   | 1.31G/2.04G [02:41<01:38, 7.93MB/s]\n",
      " 65%|██████▍   | 1.32G/2.04G [02:41<01:33, 8.28MB/s]\n",
      " 65%|██████▍   | 1.32G/2.04G [02:41<01:13, 10.6MB/s]\n",
      " 65%|██████▍   | 1.32G/2.04G [02:41<01:10, 11.0MB/s]\n",
      " 65%|██████▍   | 1.32G/2.04G [02:41<01:10, 11.0MB/s]\n",
      " 65%|██████▍   | 1.32G/2.04G [02:42<01:12, 10.6MB/s]\n",
      " 65%|██████▍   | 1.33G/2.04G [02:42<01:18, 9.80MB/s]\n",
      " 65%|██████▌   | 1.33G/2.04G [02:42<01:19, 9.57MB/s]\n",
      " 65%|██████▌   | 1.33G/2.04G [02:42<01:25, 8.90MB/s]\n",
      " 65%|██████▌   | 1.33G/2.04G [02:42<01:18, 9.76MB/s]\n",
      " 65%|██████▌   | 1.33G/2.04G [02:42<01:22, 9.28MB/s]\n",
      " 65%|██████▌   | 1.33G/2.04G [02:43<01:11, 10.6MB/s]\n",
      " 65%|██████▌   | 1.33G/2.04G [02:43<01:10, 10.8MB/s]\n",
      " 66%|██████▌   | 1.34G/2.04G [02:43<01:10, 10.7MB/s]\n",
      " 66%|██████▌   | 1.34G/2.04G [02:43<01:10, 10.7MB/s]\n",
      " 66%|██████▌   | 1.34G/2.04G [02:43<01:10, 10.6MB/s]\n",
      " 66%|██████▌   | 1.34G/2.04G [02:44<01:10, 10.6MB/s]\n",
      " 66%|██████▌   | 1.34G/2.04G [02:44<01:05, 11.4MB/s]\n",
      " 66%|██████▌   | 1.35G/2.04G [02:44<01:02, 12.0MB/s]\n",
      " 66%|██████▌   | 1.35G/2.04G [02:44<01:00, 12.3MB/s]\n",
      " 66%|██████▌   | 1.35G/2.04G [02:44<00:59, 12.4MB/s]\n",
      " 66%|██████▋   | 1.35G/2.04G [02:44<01:00, 12.2MB/s]\n",
      " 66%|██████▋   | 1.35G/2.04G [02:45<01:03, 11.6MB/s]\n",
      " 66%|██████▋   | 1.36G/2.04G [02:45<01:08, 10.8MB/s]\n",
      " 67%|██████▋   | 1.36G/2.04G [02:45<01:11, 10.3MB/s]\n",
      " 67%|██████▋   | 1.36G/2.04G [02:45<01:05, 11.1MB/s]\n",
      " 67%|██████▋   | 1.36G/2.04G [02:45<01:00, 12.0MB/s]\n",
      " 67%|██████▋   | 1.36G/2.04G [02:45<00:50, 14.3MB/s]\n",
      " 67%|██████▋   | 1.37G/2.04G [02:46<00:59, 12.1MB/s]\n",
      " 67%|██████▋   | 1.37G/2.04G [02:46<00:52, 13.7MB/s]\n",
      " 67%|██████▋   | 1.37G/2.04G [02:46<00:57, 12.5MB/s]\n",
      " 67%|██████▋   | 1.37G/2.04G [02:46<01:00, 11.9MB/s]\n",
      " 67%|██████▋   | 1.37G/2.04G [02:46<01:02, 11.4MB/s]\n",
      " 67%|██████▋   | 1.38G/2.04G [02:47<01:04, 11.1MB/s]\n",
      " 68%|██████▊   | 1.38G/2.04G [02:47<01:02, 11.3MB/s]\n",
      " 68%|██████▊   | 1.38G/2.04G [02:47<00:58, 12.2MB/s]\n",
      " 68%|██████▊   | 1.38G/2.04G [02:47<00:56, 12.6MB/s]\n",
      " 68%|██████▊   | 1.38G/2.04G [02:47<00:53, 13.0MB/s]\n",
      " 68%|██████▊   | 1.39G/2.04G [02:47<00:52, 13.3MB/s]\n",
      " 68%|██████▊   | 1.39G/2.04G [02:48<00:52, 13.4MB/s]\n",
      " 68%|██████▊   | 1.39G/2.04G [02:48<01:02, 11.2MB/s]\n",
      " 68%|██████▊   | 1.39G/2.04G [02:48<01:23, 8.35MB/s]\n",
      " 68%|██████▊   | 1.39G/2.04G [02:48<01:30, 7.69MB/s]\n",
      " 68%|██████▊   | 1.39G/2.04G [02:49<01:49, 6.31MB/s]\n",
      " 68%|██████▊   | 1.39G/2.04G [02:49<02:08, 5.37MB/s]\n",
      " 68%|██████▊   | 1.40G/2.04G [02:49<02:34, 4.46MB/s]\n",
      " 68%|██████▊   | 1.40G/2.04G [02:50<02:57, 3.88MB/s]\n",
      " 69%|██████▊   | 1.40G/2.04G [02:50<03:33, 3.23MB/s]\n",
      " 69%|██████▊   | 1.40G/2.04G [02:51<03:44, 3.06MB/s]\n",
      " 69%|██████▊   | 1.40G/2.04G [02:51<03:04, 3.73MB/s]\n",
      " 69%|██████▊   | 1.40G/2.04G [02:51<01:57, 5.81MB/s]\n",
      " 69%|██████▉   | 1.40G/2.04G [02:51<01:12, 9.34MB/s]\n",
      " 69%|██████▉   | 1.41G/2.04G [02:51<00:54, 12.4MB/s]\n",
      " 69%|██████▉   | 1.41G/2.04G [02:51<00:58, 11.5MB/s]\n",
      " 69%|██████▉   | 1.41G/2.04G [02:51<01:00, 11.1MB/s]\n",
      " 69%|██████▉   | 1.41G/2.04G [02:52<00:52, 12.8MB/s]\n",
      " 69%|██████▉   | 1.42G/2.04G [02:52<00:48, 13.8MB/s]\n",
      " 69%|██████▉   | 1.42G/2.04G [02:52<00:49, 13.5MB/s]\n",
      " 70%|██████▉   | 1.42G/2.04G [02:52<00:40, 16.3MB/s]\n",
      " 70%|██████▉   | 1.42G/2.04G [02:52<00:39, 16.6MB/s]\n",
      " 70%|██████▉   | 1.42G/2.04G [02:52<00:37, 17.6MB/s]\n",
      " 70%|██████▉   | 1.43G/2.04G [02:52<00:38, 17.2MB/s]\n",
      " 70%|███████   | 1.43G/2.04G [02:52<00:36, 17.8MB/s]\n",
      " 70%|███████   | 1.43G/2.04G [02:53<00:38, 16.9MB/s]\n",
      " 70%|███████   | 1.43G/2.04G [02:53<00:41, 15.9MB/s]\n",
      " 70%|███████   | 1.44G/2.04G [02:53<00:39, 16.4MB/s]\n",
      " 70%|███████   | 1.44G/2.04G [02:53<00:40, 15.9MB/s]\n",
      " 71%|███████   | 1.44G/2.04G [02:53<00:43, 14.8MB/s]\n",
      " 71%|███████   | 1.44G/2.04G [02:53<00:45, 14.2MB/s]\n",
      " 71%|███████   | 1.44G/2.04G [02:54<00:41, 15.2MB/s]\n",
      " 71%|███████   | 1.45G/2.04G [02:54<00:39, 16.1MB/s]\n",
      " 71%|███████   | 1.45G/2.04G [02:54<00:47, 13.3MB/s]\n",
      " 71%|███████   | 1.45G/2.04G [02:54<00:42, 14.8MB/s]\n",
      " 71%|███████   | 1.45G/2.04G [02:54<00:44, 14.3MB/s]\n",
      " 71%|███████▏  | 1.45G/2.04G [02:54<00:39, 15.7MB/s]\n",
      " 71%|███████▏  | 1.46G/2.04G [02:54<00:36, 17.1MB/s]\n",
      " 72%|███████▏  | 1.46G/2.04G [02:55<00:32, 19.0MB/s]\n",
      " 72%|███████▏  | 1.46G/2.04G [02:55<00:32, 19.3MB/s]\n",
      " 72%|███████▏  | 1.46G/2.04G [02:55<00:32, 19.1MB/s]\n",
      " 72%|███████▏  | 1.46G/2.04G [02:55<00:33, 18.5MB/s]\n",
      " 72%|███████▏  | 1.47G/2.04G [02:55<00:33, 18.5MB/s]\n",
      " 72%|███████▏  | 1.47G/2.04G [02:55<00:32, 18.8MB/s]\n",
      " 72%|███████▏  | 1.47G/2.04G [02:55<00:34, 17.6MB/s]\n",
      " 72%|███████▏  | 1.47G/2.04G [02:55<00:36, 16.5MB/s]\n",
      " 72%|███████▏  | 1.47G/2.04G [02:56<00:37, 16.3MB/s]\n",
      " 72%|███████▏  | 1.48G/2.04G [02:56<00:47, 12.6MB/s]\n",
      " 73%|███████▎  | 1.48G/2.04G [02:56<00:39, 15.4MB/s]\n",
      " 73%|███████▎  | 1.48G/2.04G [02:56<00:33, 17.8MB/s]\n",
      " 73%|███████▎  | 1.48G/2.04G [02:56<00:35, 16.6MB/s]\n",
      " 73%|███████▎  | 1.49G/2.04G [02:56<00:30, 19.7MB/s]\n",
      " 73%|███████▎  | 1.49G/2.04G [02:56<00:32, 18.4MB/s]\n",
      " 73%|███████▎  | 1.49G/2.04G [02:57<00:34, 17.0MB/s]\n",
      " 73%|███████▎  | 1.50G/2.04G [02:57<00:47, 12.3MB/s]\n",
      " 73%|███████▎  | 1.50G/2.04G [02:57<00:42, 13.5MB/s]\n",
      " 74%|███████▎  | 1.50G/2.04G [02:57<00:38, 14.9MB/s]\n",
      " 74%|███████▎  | 1.50G/2.04G [02:58<00:37, 15.3MB/s]\n",
      " 74%|███████▍  | 1.50G/2.04G [02:58<00:36, 15.6MB/s]\n",
      " 74%|███████▍  | 1.51G/2.04G [02:58<00:40, 14.1MB/s]\n",
      " 74%|███████▍  | 1.51G/2.04G [02:58<00:46, 12.2MB/s]\n",
      " 74%|███████▍  | 1.51G/2.04G [02:58<00:47, 11.9MB/s]\n",
      " 74%|███████▍  | 1.51G/2.04G [02:58<00:45, 12.3MB/s]\n",
      " 74%|███████▍  | 1.51G/2.04G [02:59<00:42, 13.4MB/s]\n",
      " 74%|███████▍  | 1.52G/2.04G [02:59<00:39, 14.3MB/s]\n",
      " 74%|███████▍  | 1.52G/2.04G [02:59<00:40, 13.8MB/s]\n",
      " 75%|███████▍  | 1.52G/2.04G [02:59<00:42, 13.3MB/s]\n",
      " 75%|███████▍  | 1.52G/2.04G [02:59<00:46, 11.9MB/s]\n",
      " 75%|███████▍  | 1.52G/2.04G [03:00<01:00, 9.17MB/s]\n",
      " 75%|███████▍  | 1.53G/2.04G [03:00<01:32, 5.92MB/s]\n",
      " 75%|███████▍  | 1.53G/2.04G [03:01<01:45, 5.20MB/s]\n",
      " 75%|███████▍  | 1.53G/2.04G [03:01<02:12, 4.14MB/s]\n",
      " 75%|███████▌  | 1.53G/2.04G [03:02<03:16, 2.79MB/s]\n",
      " 75%|███████▌  | 1.53G/2.04G [03:03<04:54, 1.85MB/s]\n",
      " 75%|███████▌  | 1.53G/2.04G [03:04<05:51, 1.55MB/s]\n",
      " 75%|███████▌  | 1.53G/2.04G [03:05<06:36, 1.37MB/s]\n",
      " 75%|███████▌  | 1.53G/2.04G [03:05<05:28, 1.65MB/s]\n",
      " 75%|███████▌  | 1.54G/2.04G [03:05<03:23, 2.66MB/s]\n",
      " 75%|███████▌  | 1.54G/2.04G [03:06<02:26, 3.67MB/s]\n",
      " 75%|███████▌  | 1.54G/2.04G [03:06<01:54, 4.67MB/s]\n",
      " 76%|███████▌  | 1.54G/2.04G [03:06<01:45, 5.10MB/s]\n",
      " 76%|███████▌  | 1.54G/2.04G [03:06<01:38, 5.40MB/s]\n",
      " 76%|███████▌  | 1.54G/2.04G [03:06<01:32, 5.78MB/s]\n",
      " 76%|███████▌  | 1.54G/2.04G [03:06<01:28, 6.01MB/s]\n",
      " 76%|███████▌  | 1.54G/2.04G [03:07<01:25, 6.22MB/s]\n",
      " 76%|███████▌  | 1.54G/2.04G [03:07<01:21, 6.50MB/s]\n",
      " 76%|███████▌  | 1.55G/2.04G [03:07<01:12, 7.28MB/s]\n",
      " 76%|███████▌  | 1.55G/2.04G [03:07<01:12, 7.31MB/s]\n",
      " 76%|███████▌  | 1.55G/2.04G [03:07<01:07, 7.79MB/s]\n",
      " 76%|███████▌  | 1.55G/2.04G [03:07<01:08, 7.67MB/s]\n",
      " 76%|███████▌  | 1.55G/2.04G [03:07<01:09, 7.57MB/s]\n",
      " 76%|███████▌  | 1.55G/2.04G [03:08<01:14, 6.99MB/s]\n",
      " 76%|███████▌  | 1.55G/2.04G [03:08<01:24, 6.16MB/s]\n",
      " 76%|███████▌  | 1.55G/2.04G [03:08<01:31, 5.70MB/s]\n",
      " 76%|███████▌  | 1.55G/2.04G [03:08<01:30, 5.79MB/s]\n",
      " 76%|███████▌  | 1.55G/2.04G [03:08<01:33, 5.57MB/s]\n",
      " 76%|███████▋  | 1.56G/2.04G [03:09<01:35, 5.44MB/s]\n",
      " 76%|███████▋  | 1.56G/2.04G [03:09<01:36, 5.34MB/s]\n",
      " 76%|███████▋  | 1.56G/2.04G [03:09<01:39, 5.18MB/s]\n",
      " 76%|███████▋  | 1.56G/2.04G [03:09<01:41, 5.07MB/s]\n",
      " 76%|███████▋  | 1.56G/2.04G [03:09<01:34, 5.42MB/s]\n",
      " 77%|███████▋  | 1.56G/2.04G [03:10<01:06, 7.66MB/s]\n",
      " 77%|███████▋  | 1.56G/2.04G [03:10<00:54, 9.34MB/s]\n",
      " 77%|███████▋  | 1.57G/2.04G [03:10<00:47, 10.6MB/s]\n",
      " 77%|███████▋  | 1.57G/2.04G [03:10<00:40, 12.4MB/s]\n",
      " 77%|███████▋  | 1.57G/2.04G [03:10<00:39, 12.8MB/s]\n",
      " 77%|███████▋  | 1.57G/2.04G [03:10<00:38, 13.1MB/s]\n",
      " 77%|███████▋  | 1.57G/2.04G [03:10<00:39, 12.7MB/s]\n",
      " 77%|███████▋  | 1.58G/2.04G [03:11<00:40, 12.4MB/s]\n",
      " 77%|███████▋  | 1.58G/2.04G [03:11<00:42, 11.7MB/s]\n",
      " 77%|███████▋  | 1.58G/2.04G [03:11<00:42, 11.6MB/s]\n",
      " 78%|███████▊  | 1.58G/2.04G [03:11<00:41, 11.9MB/s]\n",
      " 78%|███████▊  | 1.58G/2.04G [03:11<00:37, 12.9MB/s]\n",
      " 78%|███████▊  | 1.58G/2.04G [03:11<00:37, 13.2MB/s]\n",
      " 78%|███████▊  | 1.59G/2.04G [03:12<00:47, 10.2MB/s]\n",
      " 78%|███████▊  | 1.59G/2.04G [03:12<00:45, 10.7MB/s]\n",
      " 78%|███████▊  | 1.59G/2.04G [03:12<00:47, 10.2MB/s]\n",
      " 78%|███████▊  | 1.59G/2.04G [03:12<00:54, 8.76MB/s]\n",
      " 78%|███████▊  | 1.59G/2.04G [03:13<00:58, 8.12MB/s]\n",
      " 78%|███████▊  | 1.59G/2.04G [03:13<01:02, 7.61MB/s]\n",
      " 78%|███████▊  | 1.60G/2.04G [03:13<01:05, 7.24MB/s]\n",
      " 78%|███████▊  | 1.60G/2.04G [03:13<00:55, 8.59MB/s]\n",
      " 78%|███████▊  | 1.60G/2.04G [03:13<00:44, 10.7MB/s]\n",
      " 79%|███████▊  | 1.60G/2.04G [03:13<00:36, 12.7MB/s]\n",
      " 79%|███████▊  | 1.60G/2.04G [03:14<00:37, 12.3MB/s]\n",
      " 79%|███████▊  | 1.61G/2.04G [03:14<00:35, 13.0MB/s]\n",
      " 79%|███████▉  | 1.61G/2.04G [03:14<00:35, 12.9MB/s]\n",
      " 79%|███████▉  | 1.61G/2.04G [03:14<00:34, 13.3MB/s]\n",
      " 79%|███████▉  | 1.61G/2.04G [03:14<00:36, 12.6MB/s]\n",
      " 79%|███████▉  | 1.61G/2.04G [03:14<00:36, 12.4MB/s]\n",
      " 79%|███████▉  | 1.62G/2.04G [03:15<00:37, 12.0MB/s]\n",
      " 79%|███████▉  | 1.62G/2.04G [03:15<00:40, 11.3MB/s]\n",
      " 79%|███████▉  | 1.62G/2.04G [03:15<00:41, 10.7MB/s]\n",
      " 80%|███████▉  | 1.62G/2.04G [03:15<00:43, 10.3MB/s]\n",
      " 80%|███████▉  | 1.62G/2.04G [03:15<00:44, 10.1MB/s]\n",
      " 80%|███████▉  | 1.62G/2.04G [03:16<00:44, 10.0MB/s]\n",
      " 80%|███████▉  | 1.62G/2.04G [03:16<00:44, 10.1MB/s]\n",
      " 80%|███████▉  | 1.63G/2.04G [03:16<00:43, 10.1MB/s]\n",
      " 80%|███████▉  | 1.63G/2.04G [03:16<00:44, 9.89MB/s]\n",
      " 80%|███████▉  | 1.63G/2.04G [03:16<00:41, 10.7MB/s]\n",
      " 80%|███████▉  | 1.63G/2.04G [03:16<00:41, 10.7MB/s]\n",
      " 80%|████████  | 1.63G/2.04G [03:16<00:42, 10.3MB/s]\n",
      " 80%|████████  | 1.63G/2.04G [03:17<00:41, 10.4MB/s]\n",
      " 80%|████████  | 1.64G/2.04G [03:17<00:41, 10.4MB/s]\n",
      " 80%|████████  | 1.64G/2.04G [03:17<00:41, 10.3MB/s]\n",
      " 80%|████████  | 1.64G/2.04G [03:17<00:42, 10.2MB/s]\n",
      " 80%|████████  | 1.64G/2.04G [03:17<00:41, 10.2MB/s]\n",
      " 80%|████████  | 1.64G/2.04G [03:17<00:41, 10.3MB/s]\n",
      " 81%|████████  | 1.64G/2.04G [03:17<00:41, 10.3MB/s]\n",
      " 81%|████████  | 1.64G/2.04G [03:18<00:37, 11.2MB/s]\n",
      " 81%|████████  | 1.65G/2.04G [03:18<00:31, 13.4MB/s]\n",
      " 81%|████████  | 1.65G/2.04G [03:18<00:25, 16.2MB/s]\n",
      " 81%|████████  | 1.65G/2.04G [03:18<00:28, 14.8MB/s]\n",
      " 81%|████████  | 1.65G/2.04G [03:18<00:30, 13.8MB/s]\n",
      " 81%|████████  | 1.65G/2.04G [03:18<00:32, 12.8MB/s]\n",
      " 81%|████████  | 1.66G/2.04G [03:19<00:34, 11.9MB/s]\n",
      " 81%|████████▏ | 1.66G/2.04G [03:19<00:38, 10.7MB/s]\n",
      " 81%|████████▏ | 1.66G/2.04G [03:19<00:36, 11.1MB/s]\n",
      " 82%|████████▏ | 1.66G/2.04G [03:19<00:37, 10.8MB/s]\n",
      " 82%|████████▏ | 1.66G/2.04G [03:19<00:32, 12.2MB/s]\n",
      " 82%|████████▏ | 1.67G/2.04G [03:19<00:24, 16.0MB/s]\n",
      " 82%|████████▏ | 1.67G/2.04G [03:20<00:26, 14.9MB/s]\n",
      " 82%|████████▏ | 1.67G/2.04G [03:20<00:24, 16.1MB/s]\n",
      " 82%|████████▏ | 1.67G/2.04G [03:20<00:23, 16.6MB/s]\n",
      " 82%|████████▏ | 1.67G/2.04G [03:20<00:23, 16.5MB/s]\n",
      " 82%|████████▏ | 1.68G/2.04G [03:20<00:24, 15.7MB/s]\n",
      " 82%|████████▏ | 1.68G/2.04G [03:20<00:23, 16.2MB/s]\n",
      " 82%|████████▏ | 1.68G/2.04G [03:20<00:24, 15.4MB/s]\n",
      " 83%|████████▎ | 1.68G/2.04G [03:20<00:24, 15.5MB/s]\n",
      " 83%|████████▎ | 1.69G/2.04G [03:21<00:27, 13.7MB/s]\n",
      " 83%|████████▎ | 1.69G/2.04G [03:21<00:25, 15.1MB/s]\n",
      " 83%|████████▎ | 1.69G/2.04G [03:21<00:23, 16.0MB/s]\n",
      " 83%|████████▎ | 1.69G/2.04G [03:21<00:21, 17.1MB/s]\n",
      " 83%|████████▎ | 1.69G/2.04G [03:21<00:23, 15.5MB/s]\n",
      " 83%|████████▎ | 1.70G/2.04G [03:21<00:26, 14.0MB/s]\n",
      " 83%|████████▎ | 1.70G/2.04G [03:22<00:28, 12.8MB/s]\n",
      " 83%|████████▎ | 1.70G/2.04G [03:22<00:27, 13.1MB/s]\n",
      " 83%|████████▎ | 1.70G/2.04G [03:22<00:29, 12.2MB/s]\n",
      " 84%|████████▎ | 1.70G/2.04G [03:22<00:31, 11.3MB/s]\n",
      " 84%|████████▎ | 1.71G/2.04G [03:22<00:34, 10.5MB/s]\n",
      " 84%|████████▎ | 1.71G/2.04G [03:23<00:34, 10.2MB/s]\n",
      " 84%|████████▍ | 1.71G/2.04G [03:23<00:39, 8.98MB/s]\n",
      " 84%|████████▍ | 1.71G/2.04G [03:23<00:40, 8.62MB/s]\n",
      " 84%|████████▍ | 1.71G/2.04G [03:23<00:43, 8.19MB/s]\n",
      " 84%|████████▍ | 1.71G/2.04G [03:23<00:44, 7.90MB/s]\n",
      " 84%|████████▍ | 1.71G/2.04G [03:24<00:49, 7.01MB/s]\n",
      " 84%|████████▍ | 1.71G/2.04G [03:24<00:48, 7.23MB/s]\n",
      " 84%|████████▍ | 1.71G/2.04G [03:24<00:46, 7.51MB/s]\n",
      " 84%|████████▍ | 1.72G/2.04G [03:24<00:46, 7.43MB/s]\n",
      " 84%|████████▍ | 1.72G/2.04G [03:24<00:49, 6.97MB/s]\n",
      " 84%|████████▍ | 1.72G/2.04G [03:24<00:46, 7.34MB/s]\n",
      " 84%|████████▍ | 1.72G/2.04G [03:24<00:47, 7.21MB/s]\n",
      " 84%|████████▍ | 1.72G/2.04G [03:25<00:47, 7.24MB/s]\n",
      " 84%|████████▍ | 1.72G/2.04G [03:25<00:48, 7.11MB/s]\n",
      " 84%|████████▍ | 1.72G/2.04G [03:25<00:48, 7.03MB/s]\n",
      " 84%|████████▍ | 1.72G/2.04G [03:25<00:44, 7.58MB/s]\n",
      " 85%|████████▍ | 1.72G/2.04G [03:25<00:34, 9.78MB/s]\n",
      " 85%|████████▍ | 1.73G/2.04G [03:25<00:24, 13.7MB/s]\n",
      " 85%|████████▍ | 1.73G/2.04G [03:25<00:22, 14.6MB/s]\n",
      " 85%|████████▍ | 1.73G/2.04G [03:26<00:26, 12.6MB/s]\n",
      " 85%|████████▌ | 1.73G/2.04G [03:26<00:21, 15.2MB/s]\n",
      " 85%|████████▌ | 1.74G/2.04G [03:26<00:28, 11.5MB/s]\n",
      " 85%|████████▌ | 1.74G/2.04G [03:26<00:27, 11.9MB/s]\n",
      " 85%|████████▌ | 1.74G/2.04G [03:26<00:26, 12.1MB/s]\n",
      " 85%|████████▌ | 1.74G/2.04G [03:26<00:25, 12.7MB/s]\n",
      " 86%|████████▌ | 1.74G/2.04G [03:27<00:26, 11.8MB/s]\n",
      " 86%|████████▌ | 1.75G/2.04G [03:27<00:31, 9.90MB/s]\n",
      " 86%|████████▌ | 1.75G/2.04G [03:27<00:36, 8.62MB/s]\n",
      " 86%|████████▌ | 1.75G/2.04G [03:27<00:35, 8.72MB/s]\n",
      " 86%|████████▌ | 1.75G/2.04G [03:28<00:34, 8.99MB/s]\n",
      " 86%|████████▌ | 1.75G/2.04G [03:28<00:34, 9.04MB/s]\n",
      " 86%|████████▌ | 1.75G/2.04G [03:28<00:30, 10.2MB/s]\n",
      " 86%|████████▌ | 1.75G/2.04G [03:28<00:33, 9.15MB/s]\n",
      " 86%|████████▌ | 1.76G/2.04G [03:28<00:33, 9.08MB/s]\n",
      " 86%|████████▌ | 1.76G/2.04G [03:28<00:34, 8.75MB/s]\n",
      " 86%|████████▌ | 1.76G/2.04G [03:28<00:36, 8.37MB/s]\n",
      " 86%|████████▋ | 1.76G/2.04G [03:29<00:36, 8.24MB/s]\n",
      " 86%|████████▋ | 1.76G/2.04G [03:29<00:40, 7.48MB/s]\n",
      " 86%|████████▋ | 1.76G/2.04G [03:29<00:33, 8.96MB/s]\n",
      " 86%|████████▋ | 1.76G/2.04G [03:29<00:32, 9.23MB/s]\n",
      " 86%|████████▋ | 1.76G/2.04G [03:29<00:32, 9.21MB/s]\n",
      " 87%|████████▋ | 1.76G/2.04G [03:29<00:31, 9.39MB/s]\n",
      " 87%|████████▋ | 1.77G/2.04G [03:29<00:31, 9.45MB/s]\n",
      " 87%|████████▋ | 1.77G/2.04G [03:30<00:40, 7.15MB/s]\n",
      " 87%|████████▋ | 1.77G/2.04G [03:30<00:37, 7.77MB/s]\n",
      " 87%|████████▋ | 1.77G/2.04G [03:30<00:33, 8.74MB/s]\n",
      " 87%|████████▋ | 1.77G/2.04G [03:30<00:31, 9.03MB/s]\n",
      " 87%|████████▋ | 1.77G/2.04G [03:30<00:31, 9.25MB/s]\n",
      " 87%|████████▋ | 1.77G/2.04G [03:30<00:30, 9.44MB/s]\n",
      " 87%|████████▋ | 1.77G/2.04G [03:30<00:30, 9.33MB/s]\n",
      " 87%|████████▋ | 1.77G/2.04G [03:30<00:32, 8.86MB/s]\n",
      " 87%|████████▋ | 1.78G/2.04G [03:31<00:34, 8.30MB/s]\n",
      " 87%|████████▋ | 1.78G/2.04G [03:31<00:33, 8.41MB/s]\n",
      " 87%|████████▋ | 1.78G/2.04G [03:31<00:35, 7.85MB/s]\n",
      " 87%|████████▋ | 1.78G/2.04G [03:31<00:28, 9.96MB/s]\n",
      " 87%|████████▋ | 1.78G/2.04G [03:31<00:21, 12.7MB/s]\n",
      " 88%|████████▊ | 1.79G/2.04G [03:31<00:17, 15.7MB/s]\n",
      " 88%|████████▊ | 1.79G/2.04G [03:31<00:17, 15.7MB/s]\n",
      " 88%|████████▊ | 1.79G/2.04G [03:32<00:17, 15.1MB/s]\n",
      " 88%|████████▊ | 1.79G/2.04G [03:32<00:16, 15.8MB/s]\n",
      " 88%|████████▊ | 1.79G/2.04G [03:32<00:15, 16.8MB/s]\n",
      " 88%|████████▊ | 1.80G/2.04G [03:32<00:17, 14.7MB/s]\n",
      " 88%|████████▊ | 1.80G/2.04G [03:32<00:14, 18.0MB/s]\n",
      " 88%|████████▊ | 1.80G/2.04G [03:32<00:13, 18.2MB/s]\n",
      " 88%|████████▊ | 1.80G/2.04G [03:33<00:14, 17.9MB/s]\n",
      " 89%|████████▊ | 1.81G/2.04G [03:33<00:15, 16.5MB/s]\n",
      " 89%|████████▊ | 1.81G/2.04G [03:33<00:16, 15.1MB/s]\n",
      " 89%|████████▉ | 1.81G/2.04G [03:33<00:14, 16.4MB/s]\n",
      " 89%|████████▉ | 1.81G/2.04G [03:34<00:39, 6.18MB/s]\n",
      " 89%|████████▉ | 1.82G/2.04G [03:34<00:28, 8.33MB/s]\n",
      " 89%|████████▉ | 1.82G/2.04G [03:34<00:24, 9.69MB/s]\n",
      " 89%|████████▉ | 1.82G/2.04G [03:34<00:22, 10.3MB/s]\n",
      " 89%|████████▉ | 1.82G/2.04G [03:35<00:19, 12.1MB/s]\n",
      " 89%|████████▉ | 1.82G/2.04G [03:35<00:17, 13.1MB/s]\n",
      " 90%|████████▉ | 1.83G/2.04G [03:35<00:16, 14.1MB/s]\n",
      " 90%|████████▉ | 1.83G/2.04G [03:35<00:15, 14.5MB/s]\n",
      " 90%|████████▉ | 1.83G/2.04G [03:35<00:15, 14.8MB/s]\n",
      " 90%|████████▉ | 1.83G/2.04G [03:35<00:15, 14.6MB/s]\n",
      " 90%|████████▉ | 1.83G/2.04G [03:35<00:18, 12.1MB/s]\n",
      " 90%|█████████ | 1.84G/2.04G [03:36<00:15, 13.8MB/s]\n",
      " 90%|█████████ | 1.84G/2.04G [03:36<00:13, 15.8MB/s]\n",
      " 90%|█████████ | 1.84G/2.04G [03:36<00:12, 16.8MB/s]\n",
      " 90%|█████████ | 1.84G/2.04G [03:36<00:12, 16.4MB/s]\n",
      " 90%|█████████ | 1.84G/2.04G [03:36<00:13, 15.0MB/s]\n",
      " 91%|█████████ | 1.85G/2.04G [03:36<00:14, 14.3MB/s]\n",
      " 91%|█████████ | 1.85G/2.04G [03:36<00:15, 13.3MB/s]\n",
      " 91%|█████████ | 1.85G/2.04G [03:37<00:15, 12.7MB/s]\n",
      " 91%|█████████ | 1.85G/2.04G [03:37<00:16, 12.3MB/s]\n",
      " 91%|█████████ | 1.85G/2.04G [03:37<00:14, 13.8MB/s]\n",
      " 91%|█████████ | 1.86G/2.04G [03:37<00:12, 15.3MB/s]\n",
      " 91%|█████████ | 1.86G/2.04G [03:37<00:11, 17.4MB/s]\n",
      " 91%|█████████▏| 1.86G/2.04G [03:37<00:11, 17.3MB/s]\n",
      " 91%|█████████▏| 1.86G/2.04G [03:37<00:11, 16.7MB/s]\n",
      " 91%|█████████▏| 1.87G/2.04G [03:38<00:11, 16.4MB/s]\n",
      " 92%|█████████▏| 1.87G/2.04G [03:38<00:11, 16.3MB/s]\n",
      " 92%|█████████▏| 1.87G/2.04G [03:38<00:11, 16.5MB/s]\n",
      " 92%|█████████▏| 1.87G/2.04G [03:38<00:10, 16.7MB/s]\n",
      " 92%|█████████▏| 1.87G/2.04G [03:38<00:11, 16.2MB/s]\n",
      " 92%|█████████▏| 1.88G/2.04G [03:38<00:11, 15.8MB/s]\n",
      " 92%|█████████▏| 1.88G/2.04G [03:38<00:11, 14.8MB/s]\n",
      " 92%|█████████▏| 1.88G/2.04G [03:39<00:11, 14.7MB/s]\n",
      " 92%|█████████▏| 1.88G/2.04G [03:39<00:11, 14.3MB/s]\n",
      " 92%|█████████▏| 1.88G/2.04G [03:39<00:12, 13.5MB/s]\n",
      " 92%|█████████▏| 1.88G/2.04G [03:39<00:11, 15.0MB/s]\n",
      " 93%|█████████▎| 1.89G/2.04G [03:39<00:10, 15.2MB/s]\n",
      " 93%|█████████▎| 1.89G/2.04G [03:39<00:10, 14.8MB/s]\n",
      " 93%|█████████▎| 1.89G/2.04G [03:39<00:10, 14.8MB/s]\n",
      " 93%|█████████▎| 1.89G/2.04G [03:40<00:10, 15.0MB/s]\n",
      " 93%|█████████▎| 1.89G/2.04G [03:40<00:10, 15.0MB/s]\n",
      " 93%|█████████▎| 1.90G/2.04G [03:40<00:10, 14.1MB/s]\n",
      " 93%|█████████▎| 1.90G/2.04G [03:40<00:12, 12.6MB/s]\n",
      " 93%|█████████▎| 1.90G/2.04G [03:40<00:12, 11.9MB/s]\n",
      " 93%|█████████▎| 1.90G/2.04G [03:40<00:11, 12.8MB/s]\n",
      " 93%|█████████▎| 1.90G/2.04G [03:41<00:12, 11.7MB/s]\n",
      " 93%|█████████▎| 1.91G/2.04G [03:41<00:11, 12.6MB/s]\n",
      " 94%|█████████▎| 1.91G/2.04G [03:41<00:11, 12.3MB/s]\n",
      " 94%|█████████▎| 1.91G/2.04G [03:41<00:11, 11.7MB/s]\n",
      " 94%|█████████▍| 1.91G/2.04G [03:41<00:12, 10.8MB/s]\n",
      " 94%|█████████▍| 1.91G/2.04G [03:42<00:13, 10.2MB/s]\n",
      " 94%|█████████▍| 1.92G/2.04G [03:42<00:13, 9.50MB/s]\n",
      " 94%|█████████▍| 1.92G/2.04G [03:42<00:14, 9.01MB/s]\n",
      " 94%|█████████▍| 1.92G/2.04G [03:42<00:15, 8.39MB/s]\n",
      " 94%|█████████▍| 1.92G/2.04G [03:42<00:16, 7.81MB/s]\n",
      " 94%|█████████▍| 1.92G/2.04G [03:42<00:17, 7.37MB/s]\n",
      " 94%|█████████▍| 1.92G/2.04G [03:43<00:18, 6.83MB/s]\n",
      " 94%|█████████▍| 1.92G/2.04G [03:43<00:20, 6.27MB/s]\n",
      " 94%|█████████▍| 1.92G/2.04G [03:43<00:20, 5.99MB/s]\n",
      " 94%|█████████▍| 1.92G/2.04G [03:43<00:20, 5.91MB/s]\n",
      " 94%|█████████▍| 1.93G/2.04G [03:43<00:15, 7.88MB/s]\n",
      " 95%|█████████▍| 1.93G/2.04G [03:44<00:13, 8.87MB/s]\n",
      " 95%|█████████▍| 1.93G/2.04G [03:44<00:10, 11.6MB/s]\n",
      " 95%|█████████▍| 1.93G/2.04G [03:44<00:09, 12.0MB/s]\n",
      " 95%|█████████▍| 1.93G/2.04G [03:44<00:10, 11.0MB/s]\n",
      " 95%|█████████▍| 1.94G/2.04G [03:44<00:10, 10.8MB/s]\n",
      " 95%|█████████▌| 1.94G/2.04G [03:45<00:10, 9.87MB/s]\n",
      " 95%|█████████▌| 1.94G/2.04G [03:45<00:11, 9.56MB/s]\n",
      " 95%|█████████▌| 1.94G/2.04G [03:45<00:12, 8.54MB/s]\n",
      " 95%|█████████▌| 1.94G/2.04G [03:45<00:11, 8.88MB/s]\n",
      " 95%|█████████▌| 1.94G/2.04G [03:45<00:12, 8.57MB/s]\n",
      " 95%|█████████▌| 1.94G/2.04G [03:45<00:15, 6.43MB/s]\n",
      " 95%|█████████▌| 1.94G/2.04G [03:46<00:14, 6.85MB/s]\n",
      " 95%|█████████▌| 1.95G/2.04G [03:46<00:13, 7.34MB/s]\n",
      " 95%|█████████▌| 1.95G/2.04G [03:46<00:13, 7.40MB/s]\n",
      " 95%|█████████▌| 1.95G/2.04G [03:46<00:13, 7.06MB/s]\n",
      " 96%|█████████▌| 1.95G/2.04G [03:46<00:13, 7.12MB/s]\n",
      " 96%|█████████▌| 1.95G/2.04G [03:46<00:15, 6.20MB/s]\n",
      " 96%|█████████▌| 1.95G/2.04G [03:47<00:15, 5.99MB/s]\n",
      " 96%|█████████▌| 1.95G/2.04G [03:47<00:15, 6.10MB/s]\n",
      " 96%|█████████▌| 1.95G/2.04G [03:47<00:16, 5.58MB/s]\n",
      " 96%|█████████▌| 1.95G/2.04G [03:47<00:16, 5.55MB/s]\n",
      " 96%|█████████▌| 1.95G/2.04G [03:47<00:18, 4.85MB/s]\n",
      " 96%|█████████▌| 1.96G/2.04G [03:48<00:16, 5.32MB/s]\n",
      " 96%|█████████▌| 1.96G/2.04G [03:48<00:15, 5.65MB/s]\n",
      " 96%|█████████▌| 1.96G/2.04G [03:48<00:14, 5.90MB/s]\n",
      " 96%|█████████▌| 1.96G/2.04G [03:48<00:15, 5.79MB/s]\n",
      " 96%|█████████▌| 1.96G/2.04G [03:48<00:14, 6.07MB/s]\n",
      " 96%|█████████▌| 1.96G/2.04G [03:48<00:14, 5.94MB/s]\n",
      " 96%|█████████▌| 1.96G/2.04G [03:49<00:13, 6.07MB/s]\n",
      " 96%|█████████▌| 1.96G/2.04G [03:49<00:13, 6.06MB/s]\n",
      " 96%|█████████▋| 1.96G/2.04G [03:49<00:12, 6.51MB/s]\n",
      " 96%|█████████▋| 1.96G/2.04G [03:49<00:09, 8.37MB/s]\n",
      " 96%|█████████▋| 1.97G/2.04G [03:49<00:07, 9.90MB/s]\n",
      " 97%|█████████▋| 1.97G/2.04G [03:49<00:07, 10.3MB/s]\n",
      " 97%|█████████▋| 1.97G/2.04G [03:50<00:06, 10.8MB/s]\n",
      " 97%|█████████▋| 1.97G/2.04G [03:50<00:06, 10.8MB/s]\n",
      " 97%|█████████▋| 1.97G/2.04G [03:50<00:06, 10.1MB/s]\n",
      " 97%|█████████▋| 1.98G/2.04G [03:50<00:07, 9.32MB/s]\n",
      " 97%|█████████▋| 1.98G/2.04G [03:50<00:07, 8.73MB/s]\n",
      " 97%|█████████▋| 1.98G/2.04G [03:50<00:07, 8.56MB/s]\n",
      " 97%|█████████▋| 1.98G/2.04G [03:51<00:08, 7.91MB/s]\n",
      " 97%|█████████▋| 1.98G/2.04G [03:51<00:07, 8.04MB/s]\n",
      " 97%|█████████▋| 1.98G/2.04G [03:51<00:08, 7.82MB/s]\n",
      " 97%|█████████▋| 1.98G/2.04G [03:51<00:08, 7.36MB/s]\n",
      " 97%|█████████▋| 1.98G/2.04G [03:51<00:08, 7.37MB/s]\n",
      " 97%|█████████▋| 1.98G/2.04G [03:51<00:08, 7.20MB/s]\n",
      " 97%|█████████▋| 1.98G/2.04G [03:51<00:08, 7.20MB/s]\n",
      " 97%|█████████▋| 1.99G/2.04G [03:52<00:08, 7.12MB/s]\n",
      " 97%|█████████▋| 1.99G/2.04G [03:52<00:08, 6.50MB/s]\n",
      " 97%|█████████▋| 1.99G/2.04G [03:52<00:08, 6.24MB/s]\n",
      " 98%|█████████▊| 1.99G/2.04G [03:52<00:08, 6.20MB/s]\n",
      " 98%|█████████▊| 1.99G/2.04G [03:52<00:08, 6.16MB/s]\n",
      " 98%|█████████▊| 1.99G/2.04G [03:52<00:08, 6.08MB/s]\n",
      " 98%|█████████▊| 1.99G/2.04G [03:53<00:08, 5.97MB/s]\n",
      " 98%|█████████▊| 1.99G/2.04G [03:53<00:09, 5.34MB/s]\n",
      " 98%|█████████▊| 1.99G/2.04G [03:53<00:08, 5.50MB/s]\n",
      " 98%|█████████▊| 1.99G/2.04G [03:53<00:09, 5.23MB/s]\n",
      " 98%|█████████▊| 2.00G/2.04G [03:54<00:09, 4.81MB/s]\n",
      " 98%|█████████▊| 2.00G/2.04G [03:54<00:09, 4.78MB/s]\n",
      " 98%|█████████▊| 2.00G/2.04G [03:54<00:09, 4.71MB/s]\n",
      " 98%|█████████▊| 2.00G/2.04G [03:54<00:08, 5.33MB/s]\n",
      " 98%|█████████▊| 2.00G/2.04G [03:54<00:08, 5.16MB/s]\n",
      " 98%|█████████▊| 2.00G/2.04G [03:55<00:08, 4.85MB/s]\n",
      " 98%|█████████▊| 2.00G/2.04G [03:55<00:08, 4.66MB/s]\n",
      " 98%|█████████▊| 2.00G/2.04G [03:55<00:08, 4.52MB/s]\n",
      " 98%|█████████▊| 2.00G/2.04G [03:55<00:07, 5.12MB/s]\n",
      " 98%|█████████▊| 2.00G/2.04G [03:55<00:05, 7.24MB/s]\n",
      " 98%|█████████▊| 2.01G/2.04G [03:56<00:03, 10.7MB/s]\n",
      " 99%|█████████▊| 2.01G/2.04G [03:56<00:02, 12.3MB/s]\n",
      " 99%|█████████▊| 2.01G/2.04G [03:56<00:02, 13.2MB/s]\n",
      " 99%|█████████▉| 2.01G/2.04G [03:56<00:02, 12.5MB/s]\n",
      " 99%|█████████▉| 2.02G/2.04G [03:56<00:01, 15.0MB/s]\n",
      " 99%|█████████▉| 2.02G/2.04G [03:56<00:01, 17.6MB/s]\n",
      " 99%|█████████▉| 2.02G/2.04G [03:56<00:01, 17.4MB/s]\n",
      " 99%|█████████▉| 2.02G/2.04G [03:57<00:00, 17.6MB/s]\n",
      " 99%|█████████▉| 2.03G/2.04G [03:57<00:00, 18.1MB/s]\n",
      " 99%|█████████▉| 2.03G/2.04G [03:57<00:00, 15.7MB/s]\n",
      "100%|█████████▉| 2.03G/2.04G [03:57<00:00, 16.8MB/s]\n",
      "100%|█████████▉| 2.03G/2.04G [03:57<00:00, 15.7MB/s]\n",
      "100%|█████████▉| 2.03G/2.04G [03:57<00:00, 14.2MB/s]\n",
      "100%|█████████▉| 2.04G/2.04G [03:57<00:00, 14.6MB/s]\n",
      "100%|█████████▉| 2.04G/2.04G [03:58<00:00, 15.9MB/s]\n",
      "100%|██████████| 2.04G/2.04G [03:58<00:00, 9.20MB/s]\n"
     ]
    },
    {
     "name": "stdout",
     "output_type": "stream",
     "text": [
      "\n",
      "License(s): CC-BY-NC-SA-4.0\n",
      "Downloading plantvillage-dataset.zip to c:\\Users\\adity\\plant-disease-prediction-cnn-deep-leanring-project\\model_training_notebook\n",
      "\n"
     ]
    }
   ],
   "source": [
    "!kaggle datasets download -d abdallahalidev/plantvillage-dataset"
   ]
  },
  {
   "cell_type": "code",
   "execution_count": 1,
   "metadata": {
    "colab": {
     "base_uri": "https://localhost:8080/"
    },
    "id": "20t7J2zctdou",
    "outputId": "71e8ea49-eac0-4f1f-b13c-f59595733d41"
   },
   "outputs": [
    {
     "name": "stdout",
     "output_type": "stream",
     "text": [
      " Volume in drive C is Windows\n",
      " Volume Serial Number is 98FA-EFFA\n",
      "\n",
      " Directory of c:\\Users\\adity\\plant-disease-prediction-cnn-deep-leanring-project\\model_training_notebook\n",
      "\n",
      "03-10-2024  12:43    <DIR>          .\n",
      "02-10-2024  23:53    <DIR>          ..\n",
      "03-10-2024  00:01    <DIR>          .ipynb_checkpoints\n",
      "03-10-2024  02:30             1,316 class_indices.json\n",
      "03-10-2024  02:32    <DIR>          drive\n",
      "03-10-2024  12:40             5,560 model_architecture.json\n",
      "03-10-2024  12:40       191,221,053 model_weights.pkl\n",
      "03-10-2024  01:25    <DIR>          plantvillage dataset\n",
      "28-10-2019  12:25     2,189,386,419 plantvillage-dataset.zip\n",
      "03-10-2024  12:54           432,060 Plant_Disease_Prediction_CNN_Image_Classifier.ipynb\n",
      "03-10-2024  02:32       573,701,104 plant_disease_prediction_model.h5\n",
      "03-10-2024  12:43    <DIR>          saved_model\n",
      "               6 File(s)  2,954,747,512 bytes\n",
      "               6 Dir(s)  27,873,959,936 bytes free\n"
     ]
    }
   ],
   "source": [
    "!dir"
   ]
  },
  {
   "cell_type": "code",
   "execution_count": 19,
   "metadata": {
    "id": "cjVbT1ZItYe2"
   },
   "outputs": [],
   "source": [
    "# Unzip the downloaded dataset\n",
    "with ZipFile(\"plantvillage-dataset.zip\", 'r') as zip_ref:\n",
    "    zip_ref.extractall()"
   ]
  },
  {
   "cell_type": "code",
   "execution_count": 21,
   "metadata": {
    "colab": {
     "base_uri": "https://localhost:8080/"
    },
    "id": "A_5Oa9WPtfXr",
    "outputId": "79a1b2c7-ca9c-4a89-febe-17abc7f399d3"
   },
   "outputs": [
    {
     "name": "stdout",
     "output_type": "stream",
     "text": [
      "['color', 'grayscale', 'segmented']\n",
      "38\n",
      "['Apple___Apple_scab', 'Apple___Black_rot', 'Apple___Cedar_apple_rust', 'Apple___healthy', 'Blueberry___healthy']\n",
      "38\n",
      "['Apple___Apple_scab', 'Apple___Black_rot', 'Apple___Cedar_apple_rust', 'Apple___healthy', 'Blueberry___healthy']\n",
      "38\n",
      "['Apple___Apple_scab', 'Apple___Black_rot', 'Apple___Cedar_apple_rust', 'Apple___healthy', 'Blueberry___healthy']\n"
     ]
    }
   ],
   "source": [
    "print(os.listdir(\"plantvillage dataset\"))\n",
    "\n",
    "\n",
    "print(len(os.listdir(\"plantvillage dataset/segmented\")))\n",
    "print(os.listdir(\"plantvillage dataset/segmented\")[:5])\n",
    "\n",
    "print(len(os.listdir(\"plantvillage dataset/color\")))\n",
    "print(os.listdir(\"plantvillage dataset/color\")[:5])\n",
    "\n",
    "print(len(os.listdir(\"plantvillage dataset/grayscale\")))\n",
    "print(os.listdir(\"plantvillage dataset/grayscale\")[:5])"
   ]
  },
  {
   "cell_type": "markdown",
   "metadata": {
    "id": "snyC_-2jt0z3"
   },
   "source": [
    "**Number of Classes = 38**"
   ]
  },
  {
   "cell_type": "code",
   "execution_count": null,
   "metadata": {},
   "outputs": [],
   "source": []
  },
  {
   "cell_type": "code",
   "execution_count": 22,
   "metadata": {
    "colab": {
     "base_uri": "https://localhost:8080/"
    },
    "id": "CFR52Pk6tp2U",
    "outputId": "4917ce76-17f2-4103-85ca-14d2af84dc06"
   },
   "outputs": [
    {
     "name": "stdout",
     "output_type": "stream",
     "text": [
      "423\n",
      "['00e00912-bf75-4cf8-8b7d-ad64b73bea5f___Mt.N.V_HL 6067.JPG', '0163a6aa-fbf8-47c5-965f-59b6efe8bfe5___Mt.N.V_HL 6103.JPG', '0294ca65-4c29-44be-af28-501df9f715e8___Mt.N.V_HL 6176.JPG', '02f95acb-5d92-4f2a-b7ec-3af8709ee7c9___Mt.N.V_HL 9078.JPG', '03027791-26bb-4c46-960e-8df76e27042c___Mt.N.V_HL 6070.JPG']\n"
     ]
    }
   ],
   "source": [
    "print(len(os.listdir(\"plantvillage dataset/color/Grape___healthy\")))\n",
    "print(os.listdir(\"plantvillage dataset/color/Grape___healthy\")[:5])"
   ]
  },
  {
   "cell_type": "markdown",
   "metadata": {
    "id": "JhEi6mbpt4aD"
   },
   "source": [
    "**Data Preprocessing**"
   ]
  },
  {
   "cell_type": "code",
   "execution_count": 23,
   "metadata": {
    "id": "WlqvsdtBttrh"
   },
   "outputs": [],
   "source": [
    "# Dataset Path\n",
    "base_dir = 'plantvillage dataset/color'"
   ]
  },
  {
   "cell_type": "code",
   "execution_count": 28,
   "metadata": {
    "colab": {
     "base_uri": "https://localhost:8080/",
     "height": 424
    },
    "id": "XQxHLLbKt6oF",
    "outputId": "960d3327-8801-4a10-e6c5-f5551337a781"
   },
   "outputs": [
    {
     "name": "stdout",
     "output_type": "stream",
     "text": [
      "(256, 256, 3)\n"
     ]
    },
    {
     "data": {
      "image/png": "[encoded data removed]",
      "text/plain": [
       "<Figure size 640x480 with 1 Axes>"
      ]
     },
     "metadata": {},
     "output_type": "display_data"
    }
   ],
   "source": [
    "image_path = r'C:\\Users\\adity\\plant-disease-prediction-cnn-deep-leanring-project\\model_training_notebook\\plantvillage dataset\\color\\Apple___Cedar_apple_rust\\0a41c25a-f9a6-4c34-8e5c-7f89a6ac4c40___FREC_C.Rust 9807.JPG'\n",
    "\n",
    "# Read the image\n",
    "img = mpimg.imread(image_path)\n",
    "\n",
    "print(img.shape)\n",
    "# Display the image\n",
    "plt.imshow(img)\n",
    "plt.axis('off')  # Turn off axis numbers\n",
    "plt.show()"
   ]
  },
  {
   "cell_type": "code",
   "execution_count": 29,
   "metadata": {
    "colab": {
     "base_uri": "https://localhost:8080/"
    },
    "id": "YVgo1I9sDP6B",
    "outputId": "302d2d4b-6f7c-4ddf-ab9e-a9d6bd738b7e"
   },
   "outputs": [
    {
     "name": "stdout",
     "output_type": "stream",
     "text": [
      "[[[129 124 121]\n",
      "  [131 126 123]\n",
      "  [131 126 123]\n",
      "  ...\n",
      "  [140 136 133]\n",
      "  [134 130 127]\n",
      "  [130 126 123]]\n",
      "\n",
      " [[131 126 123]\n",
      "  [133 128 125]\n",
      "  [132 127 124]\n",
      "  ...\n",
      "  [142 138 135]\n",
      "  [141 137 134]\n",
      "  [140 136 133]]\n",
      "\n",
      " [[122 117 114]\n",
      "  [124 119 116]\n",
      "  [127 122 119]\n",
      "  ...\n",
      "  [142 138 135]\n",
      "  [145 141 138]\n",
      "  [146 142 139]]\n",
      "\n",
      " ...\n",
      "\n",
      " [[161 151 150]\n",
      "  [163 153 152]\n",
      "  [165 155 154]\n",
      "  ...\n",
      "  [175 169 169]\n",
      "  [179 173 173]\n",
      "  [182 176 176]]\n",
      "\n",
      " [[160 150 149]\n",
      "  [163 153 152]\n",
      "  [167 157 156]\n",
      "  ...\n",
      "  [174 168 168]\n",
      "  [175 169 169]\n",
      "  [177 171 171]]\n",
      "\n",
      " [[172 162 161]\n",
      "  [172 162 161]\n",
      "  [172 162 161]\n",
      "  ...\n",
      "  [172 166 166]\n",
      "  [170 164 164]\n",
      "  [169 163 163]]]\n"
     ]
    }
   ],
   "source": [
    "image_path = r'C:\\Users\\adity\\plant-disease-prediction-cnn-deep-leanring-project\\model_training_notebook\\plantvillage dataset\\color\\Apple___Cedar_apple_rust\\0a41c25a-f9a6-4c34-8e5c-7f89a6ac4c40___FREC_C.Rust 9807.JPG'\n",
    "\n",
    "# Read the image\n",
    "img = mpimg.imread(image_path)\n",
    "\n",
    "print(img)"
   ]
  },
  {
   "cell_type": "code",
   "execution_count": 30,
   "metadata": {
    "id": "w6S1jYo0u5o-"
   },
   "outputs": [],
   "source": [
    "# Image Parameters\n",
    "img_size = 224\n",
    "batch_size = 32"
   ]
  },
  {
   "cell_type": "markdown",
   "metadata": {
    "id": "Lcovy3vxvf31"
   },
   "source": [
    "**Train Test Split**"
   ]
  },
  {
   "cell_type": "code",
   "execution_count": 31,
   "metadata": {
    "id": "zoJjajTcvTae"
   },
   "outputs": [],
   "source": [
    "# Image Data Generators\n",
    "data_gen = ImageDataGenerator(\n",
    "    rescale=1./255,\n",
    "    validation_split=0.2  # Use 20% of data for validation\n",
    ")"
   ]
  },
  {
   "cell_type": "code",
   "execution_count": 32,
   "metadata": {
    "colab": {
     "base_uri": "https://localhost:8080/"
    },
    "id": "pnwsA5IPvWNG",
    "outputId": "be155ed6-aa77-4f28-c202-94fba6ea59bd"
   },
   "outputs": [
    {
     "name": "stdout",
     "output_type": "stream",
     "text": [
      "Found 43456 images belonging to 38 classes.\n"
     ]
    }
   ],
   "source": [
    "# Train Generator\n",
    "train_generator = data_gen.flow_from_directory(\n",
    "    base_dir,\n",
    "    target_size=(img_size, img_size),\n",
    "    batch_size=batch_size,\n",
    "    subset='training',\n",
    "    class_mode='categorical'\n",
    ")"
   ]
  },
  {
   "cell_type": "code",
   "execution_count": 33,
   "metadata": {
    "colab": {
     "base_uri": "https://localhost:8080/"
    },
    "id": "RtxNLvmbvYNX",
    "outputId": "a60d0b2a-bba4-4595-d5e1-e9f6978ddbab"
   },
   "outputs": [
    {
     "name": "stdout",
     "output_type": "stream",
     "text": [
      "Found 10849 images belonging to 38 classes.\n"
     ]
    }
   ],
   "source": [
    "# Validation Generator\n",
    "validation_generator = data_gen.flow_from_directory(\n",
    "    base_dir,\n",
    "    target_size=(img_size, img_size),\n",
    "    batch_size=batch_size,\n",
    "    subset='validation',\n",
    "    class_mode='categorical'\n",
    ")"
   ]
  },
  {
   "cell_type": "markdown",
   "metadata": {
    "id": "fE4vUKMkviT8"
   },
   "source": [
    "**Convolutional Neural Network**"
   ]
  },
  {
   "cell_type": "code",
   "execution_count": 34,
   "metadata": {
    "id": "VUsvwveevZ-m"
   },
   "outputs": [
    {
     "name": "stderr",
     "output_type": "stream",
     "text": [
      "c:\\Users\\adity\\anaconda3\\Lib\\site-packages\\keras\\src\\layers\\convolutional\\base_conv.py:107: UserWarning: Do not pass an `input_shape`/`input_dim` argument to a layer. When using Sequential models, prefer using an `Input(shape)` object as the first layer in the model instead.\n",
      "  super().__init__(activity_regularizer=activity_regularizer, **kwargs)\n"
     ]
    }
   ],
   "source": [
    "# Model Definition\n",
    "model = models.Sequential()\n",
    "\n",
    "model.add(layers.Conv2D(32, (3, 3), activation='relu', input_shape=(img_size, img_size, 3)))\n",
    "model.add(layers.MaxPooling2D(2, 2))\n",
    "\n",
    "model.add(layers.Conv2D(64, (3, 3), activation='relu'))\n",
    "model.add(layers.MaxPooling2D(2, 2))\n",
    "\n",
    "\n",
    "model.add(layers.Flatten())\n",
    "model.add(layers.Dense(256, activation='relu'))\n",
    "model.add(layers.Dense(train_generator.num_classes, activation='softmax'))"
   ]
  },
  {
   "cell_type": "code",
   "execution_count": 35,
   "metadata": {
    "colab": {
     "base_uri": "https://localhost:8080/"
    },
    "id": "T9qJo-GSvoIB",
    "outputId": "56ed059c-85f2-4490-8dfc-63e25516d2ea"
   },
   "outputs": [
    {
     "data": {
      "text/html": [
       "<pre style=\"white-space:pre;overflow-x:auto;line-height:normal;font-family:Menlo,'DejaVu Sans Mono',consolas,'Courier New',monospace\"><span style=\"font-weight: bold\">Model: \"sequential\"</span>\n",
       "</pre>\n"
      ],
      "text/plain": [
       "\u001b[1mModel: \"sequential\"\u001b[0m\n"
      ]
     },
     "metadata": {},
     "output_type": "display_data"
    },
    {
     "data": {
      "text/html": [
       "<pre style=\"white-space:pre;overflow-x:auto;line-height:normal;font-family:Menlo,'DejaVu Sans Mono',consolas,'Courier New',monospace\">┏━━━━━━━━━━━━━━━━━━━━━━━━━━━━━━━━━┳━━━━━━━━━━━━━━━━━━━━━━━━┳━━━━━━━━━━━━━━━┓\n",
       "┃<span style=\"font-weight: bold\"> Layer (type)                    </span>┃<span style=\"font-weight: bold\"> Output Shape           </span>┃<span style=\"font-weight: bold\">       Param # </span>┃\n",
       "┡━━━━━━━━━━━━━━━━━━━━━━━━━━━━━━━━━╇━━━━━━━━━━━━━━━━━━━━━━━━╇━━━━━━━━━━━━━━━┩\n",
       "│ conv2d (<span style=\"color: #0087ff; text-decoration-color: #0087ff\">Conv2D</span>)                 │ (<span style=\"color: #00d7ff; text-decoration-color: #00d7ff\">None</span>, <span style=\"color: #00af00; text-decoration-color: #00af00\">222</span>, <span style=\"color: #00af00; text-decoration-color: #00af00\">222</span>, <span style=\"color: #00af00; text-decoration-color: #00af00\">32</span>)   │           <span style=\"color: #00af00; text-decoration-color: #00af00\">896</span> │\n",
       "├─────────────────────────────────┼────────────────────────┼───────────────┤\n",
       "│ max_pooling2d (<span style=\"color: #0087ff; text-decoration-color: #0087ff\">MaxPooling2D</span>)    │ (<span style=\"color: #00d7ff; text-decoration-color: #00d7ff\">None</span>, <span style=\"color: #00af00; text-decoration-color: #00af00\">111</span>, <span style=\"color: #00af00; text-decoration-color: #00af00\">111</span>, <span style=\"color: #00af00; text-decoration-color: #00af00\">32</span>)   │             <span style=\"color: #00af00; text-decoration-color: #00af00\">0</span> │\n",
       "├─────────────────────────────────┼────────────────────────┼───────────────┤\n",
       "│ conv2d_1 (<span style=\"color: #0087ff; text-decoration-color: #0087ff\">Conv2D</span>)               │ (<span style=\"color: #00d7ff; text-decoration-color: #00d7ff\">None</span>, <span style=\"color: #00af00; text-decoration-color: #00af00\">109</span>, <span style=\"color: #00af00; text-decoration-color: #00af00\">109</span>, <span style=\"color: #00af00; text-decoration-color: #00af00\">64</span>)   │        <span style=\"color: #00af00; text-decoration-color: #00af00\">18,496</span> │\n",
       "├─────────────────────────────────┼────────────────────────┼───────────────┤\n",
       "│ max_pooling2d_1 (<span style=\"color: #0087ff; text-decoration-color: #0087ff\">MaxPooling2D</span>)  │ (<span style=\"color: #00d7ff; text-decoration-color: #00d7ff\">None</span>, <span style=\"color: #00af00; text-decoration-color: #00af00\">54</span>, <span style=\"color: #00af00; text-decoration-color: #00af00\">54</span>, <span style=\"color: #00af00; text-decoration-color: #00af00\">64</span>)     │             <span style=\"color: #00af00; text-decoration-color: #00af00\">0</span> │\n",
       "├─────────────────────────────────┼────────────────────────┼───────────────┤\n",
       "│ flatten (<span style=\"color: #0087ff; text-decoration-color: #0087ff\">Flatten</span>)               │ (<span style=\"color: #00d7ff; text-decoration-color: #00d7ff\">None</span>, <span style=\"color: #00af00; text-decoration-color: #00af00\">186624</span>)         │             <span style=\"color: #00af00; text-decoration-color: #00af00\">0</span> │\n",
       "├─────────────────────────────────┼────────────────────────┼───────────────┤\n",
       "│ dense (<span style=\"color: #0087ff; text-decoration-color: #0087ff\">Dense</span>)                   │ (<span style=\"color: #00d7ff; text-decoration-color: #00d7ff\">None</span>, <span style=\"color: #00af00; text-decoration-color: #00af00\">256</span>)            │    <span style=\"color: #00af00; text-decoration-color: #00af00\">47,776,000</span> │\n",
       "├─────────────────────────────────┼────────────────────────┼───────────────┤\n",
       "│ dense_1 (<span style=\"color: #0087ff; text-decoration-color: #0087ff\">Dense</span>)                 │ (<span style=\"color: #00d7ff; text-decoration-color: #00d7ff\">None</span>, <span style=\"color: #00af00; text-decoration-color: #00af00\">38</span>)             │         <span style=\"color: #00af00; text-decoration-color: #00af00\">9,766</span> │\n",
       "└─────────────────────────────────┴────────────────────────┴───────────────┘\n",
       "</pre>\n"
      ],
      "text/plain": [
       "┏━━━━━━━━━━━━━━━━━━━━━━━━━━━━━━━━━┳━━━━━━━━━━━━━━━━━━━━━━━━┳━━━━━━━━━━━━━━━┓\n",
       "┃\u001b[1m \u001b[0m\u001b[1mLayer (type)                   \u001b[0m\u001b[1m \u001b[0m┃\u001b[1m \u001b[0m\u001b[1mOutput Shape          \u001b[0m\u001b[1m \u001b[0m┃\u001b[1m \u001b[0m\u001b[1m      Param #\u001b[0m\u001b[1m \u001b[0m┃\n",
       "┡━━━━━━━━━━━━━━━━━━━━━━━━━━━━━━━━━╇━━━━━━━━━━━━━━━━━━━━━━━━╇━━━━━━━━━━━━━━━┩\n",
       "│ conv2d (\u001b[38;5;33mConv2D\u001b[0m)                 │ (\u001b[38;5;45mNone\u001b[0m, \u001b[38;5;34m222\u001b[0m, \u001b[38;5;34m222\u001b[0m, \u001b[38;5;34m32\u001b[0m)   │           \u001b[38;5;34m896\u001b[0m │\n",
       "├─────────────────────────────────┼────────────────────────┼───────────────┤\n",
       "│ max_pooling2d (\u001b[38;5;33mMaxPooling2D\u001b[0m)    │ (\u001b[38;5;45mNone\u001b[0m, \u001b[38;5;34m111\u001b[0m, \u001b[38;5;34m111\u001b[0m, \u001b[38;5;34m32\u001b[0m)   │             \u001b[38;5;34m0\u001b[0m │\n",
       "├─────────────────────────────────┼────────────────────────┼───────────────┤\n",
       "│ conv2d_1 (\u001b[38;5;33mConv2D\u001b[0m)               │ (\u001b[38;5;45mNone\u001b[0m, \u001b[38;5;34m109\u001b[0m, \u001b[38;5;34m109\u001b[0m, \u001b[38;5;34m64\u001b[0m)   │        \u001b[38;5;34m18,496\u001b[0m │\n",
       "├─────────────────────────────────┼────────────────────────┼───────────────┤\n",
       "│ max_pooling2d_1 (\u001b[38;5;33mMaxPooling2D\u001b[0m)  │ (\u001b[38;5;45mNone\u001b[0m, \u001b[38;5;34m54\u001b[0m, \u001b[38;5;34m54\u001b[0m, \u001b[38;5;34m64\u001b[0m)     │             \u001b[38;5;34m0\u001b[0m │\n",
       "├─────────────────────────────────┼────────────────────────┼───────────────┤\n",
       "│ flatten (\u001b[38;5;33mFlatten\u001b[0m)               │ (\u001b[38;5;45mNone\u001b[0m, \u001b[38;5;34m186624\u001b[0m)         │             \u001b[38;5;34m0\u001b[0m │\n",
       "├─────────────────────────────────┼────────────────────────┼───────────────┤\n",
       "│ dense (\u001b[38;5;33mDense\u001b[0m)                   │ (\u001b[38;5;45mNone\u001b[0m, \u001b[38;5;34m256\u001b[0m)            │    \u001b[38;5;34m47,776,000\u001b[0m │\n",
       "├─────────────────────────────────┼────────────────────────┼───────────────┤\n",
       "│ dense_1 (\u001b[38;5;33mDense\u001b[0m)                 │ (\u001b[38;5;45mNone\u001b[0m, \u001b[38;5;34m38\u001b[0m)             │         \u001b[38;5;34m9,766\u001b[0m │\n",
       "└─────────────────────────────────┴────────────────────────┴───────────────┘\n"
      ]
     },
     "metadata": {},
     "output_type": "display_data"
    },
    {
     "data": {
      "text/html": [
       "<pre style=\"white-space:pre;overflow-x:auto;line-height:normal;font-family:Menlo,'DejaVu Sans Mono',consolas,'Courier New',monospace\"><span style=\"font-weight: bold\"> Total params: </span><span style=\"color: #00af00; text-decoration-color: #00af00\">47,805,158</span> (182.36 MB)\n",
       "</pre>\n"
      ],
      "text/plain": [
       "\u001b[1m Total params: \u001b[0m\u001b[38;5;34m47,805,158\u001b[0m (182.36 MB)\n"
      ]
     },
     "metadata": {},
     "output_type": "display_data"
    },
    {
     "data": {
      "text/html": [
       "<pre style=\"white-space:pre;overflow-x:auto;line-height:normal;font-family:Menlo,'DejaVu Sans Mono',consolas,'Courier New',monospace\"><span style=\"font-weight: bold\"> Trainable params: </span><span style=\"color: #00af00; text-decoration-color: #00af00\">47,805,158</span> (182.36 MB)\n",
       "</pre>\n"
      ],
      "text/plain": [
       "\u001b[1m Trainable params: \u001b[0m\u001b[38;5;34m47,805,158\u001b[0m (182.36 MB)\n"
      ]
     },
     "metadata": {},
     "output_type": "display_data"
    },
    {
     "data": {
      "text/html": [
       "<pre style=\"white-space:pre;overflow-x:auto;line-height:normal;font-family:Menlo,'DejaVu Sans Mono',consolas,'Courier New',monospace\"><span style=\"font-weight: bold\"> Non-trainable params: </span><span style=\"color: #00af00; text-decoration-color: #00af00\">0</span> (0.00 B)\n",
       "</pre>\n"
      ],
      "text/plain": [
       "\u001b[1m Non-trainable params: \u001b[0m\u001b[38;5;34m0\u001b[0m (0.00 B)\n"
      ]
     },
     "metadata": {},
     "output_type": "display_data"
    }
   ],
   "source": [
    "# model summary\n",
    "model.summary()"
   ]
  },
  {
   "cell_type": "code",
   "execution_count": 36,
   "metadata": {
    "id": "PKi-ot0xvpC8"
   },
   "outputs": [],
   "source": [
    "# Compile the Model\n",
    "model.compile(optimizer='adam',\n",
    "              loss='categorical_crossentropy',\n",
    "              metrics=['accuracy'])"
   ]
  },
  {
   "cell_type": "markdown",
   "metadata": {
    "id": "dCBezWyLv1hF"
   },
   "source": [
    "**Model training**"
   ]
  },
  {
   "cell_type": "code",
   "execution_count": 37,
   "metadata": {
    "colab": {
     "base_uri": "https://localhost:8080/"
    },
    "id": "bSvHhJqevyjE",
    "outputId": "51052757-e403-4ed0-87b0-42ff1ff6451b"
   },
   "outputs": [
    {
     "name": "stdout",
     "output_type": "stream",
     "text": [
      "Epoch 1/5\n"
     ]
    },
    {
     "name": "stderr",
     "output_type": "stream",
     "text": [
      "c:\\Users\\adity\\anaconda3\\Lib\\site-packages\\keras\\src\\trainers\\data_adapters\\py_dataset_adapter.py:122: UserWarning: Your `PyDataset` class should call `super().__init__(**kwargs)` in its constructor. `**kwargs` can include `workers`, `use_multiprocessing`, `max_queue_size`. Do not pass these arguments to `fit()`, as they will be ignored.\n",
      "  self._warn_if_super_not_called()\n"
     ]
    },
    {
     "name": "stdout",
     "output_type": "stream",
     "text": [
      "\u001b[1m1358/1358\u001b[0m \u001b[32m━━━━━━━━━━━━━━━━━━━━\u001b[0m\u001b[37m\u001b[0m \u001b[1m1254s\u001b[0m 921ms/step - accuracy: 0.5934 - loss: 1.8807 - val_accuracy: 0.8516 - val_loss: 0.4718\n",
      "Epoch 2/5\n",
      "\u001b[1m1358/1358\u001b[0m \u001b[32m━━━━━━━━━━━━━━━━━━━━\u001b[0m\u001b[37m\u001b[0m \u001b[1m0s\u001b[0m 84us/step - accuracy: 0.0000e+00 - loss: 0.0000e+00 - val_accuracy: 1.0000 - val_loss: 0.2947\n",
      "Epoch 3/5\n"
     ]
    },
    {
     "name": "stderr",
     "output_type": "stream",
     "text": [
      "c:\\Users\\adity\\anaconda3\\Lib\\contextlib.py:158: UserWarning: Your input ran out of data; interrupting training. Make sure that your dataset or generator can generate at least `steps_per_epoch * epochs` batches. You may need to use the `.repeat()` function when building your dataset.\n",
      "  self.gen.throw(value)\n"
     ]
    },
    {
     "name": "stdout",
     "output_type": "stream",
     "text": [
      "\u001b[1m1358/1358\u001b[0m \u001b[32m━━━━━━━━━━━━━━━━━━━━\u001b[0m\u001b[37m\u001b[0m \u001b[1m883s\u001b[0m 650ms/step - accuracy: 0.9151 - loss: 0.2664 - val_accuracy: 0.8776 - val_loss: 0.3936\n",
      "Epoch 4/5\n",
      "\u001b[1m1358/1358\u001b[0m \u001b[32m━━━━━━━━━━━━━━━━━━━━\u001b[0m\u001b[37m\u001b[0m \u001b[1m0s\u001b[0m 88us/step - accuracy: 0.0000e+00 - loss: 0.0000e+00 - val_accuracy: 1.0000 - val_loss: 2.2650e-06\n",
      "Epoch 5/5\n",
      "\u001b[1m1358/1358\u001b[0m \u001b[32m━━━━━━━━━━━━━━━━━━━━\u001b[0m\u001b[37m\u001b[0m \u001b[1m937s\u001b[0m 690ms/step - accuracy: 0.9672 - loss: 0.1041 - val_accuracy: 0.8852 - val_loss: 0.4289\n"
     ]
    }
   ],
   "source": [
    "# Training the Model\n",
    "history = model.fit(\n",
    "    train_generator,\n",
    "    steps_per_epoch=train_generator.samples // batch_size,  # Number of steps per epoch\n",
    "    epochs=5,  # Number of epochs\n",
    "    validation_data=validation_generator,\n",
    "    validation_steps=validation_generator.samples // batch_size  # Validation steps\n",
    ")"
   ]
  },
  {
   "cell_type": "markdown",
   "metadata": {
    "id": "RjQfNu7QwZjw"
   },
   "source": [
    "**Model Evaluation**"
   ]
  },
  {
   "cell_type": "code",
   "execution_count": 38,
   "metadata": {
    "colab": {
     "base_uri": "https://localhost:8080/"
    },
    "id": "q9SRLiOMv3qm",
    "outputId": "c5680df7-67df-41c9-84c7-bee0b17b7f0c"
   },
   "outputs": [
    {
     "name": "stdout",
     "output_type": "stream",
     "text": [
      "Evaluating model...\n",
      "\u001b[1m339/339\u001b[0m \u001b[32m━━━━━━━━━━━━━━━━━━━━\u001b[0m\u001b[37m\u001b[0m \u001b[1m46s\u001b[0m 134ms/step - accuracy: 0.8884 - loss: 0.4114\n",
      "Validation Accuracy: 88.52%\n"
     ]
    }
   ],
   "source": [
    "# Model Evaluation\n",
    "print(\"Evaluating model...\")\n",
    "val_loss, val_accuracy = model.evaluate(validation_generator, steps=validation_generator.samples // batch_size)\n",
    "print(f\"Validation Accuracy: {val_accuracy * 100:.2f}%\")"
   ]
  },
  {
   "cell_type": "code",
   "execution_count": 11,
   "metadata": {
    "colab": {
     "base_uri": "https://localhost:8080/",
     "height": 927
    },
    "id": "ZxP07UNywYPj",
    "outputId": "228b5e7e-2a21-4cbb-931f-55708ed0cc34"
   },
   "outputs": [
    {
     "ename": "NameError",
     "evalue": "name 'history' is not defined",
     "output_type": "error",
     "traceback": [
      "\u001b[1;31m---------------------------------------------------------------------------\u001b[0m",
      "\u001b[1;31mNameError\u001b[0m                                 Traceback (most recent call last)",
      "Cell \u001b[1;32mIn[11], line 2\u001b[0m\n\u001b[0;32m      1\u001b[0m \u001b[38;5;66;03m# Plot training & validation accuracy values\u001b[39;00m\n\u001b[1;32m----> 2\u001b[0m plt\u001b[38;5;241m.\u001b[39mplot(history\u001b[38;5;241m.\u001b[39mhistory[\u001b[38;5;124m'\u001b[39m\u001b[38;5;124maccuracy\u001b[39m\u001b[38;5;124m'\u001b[39m])\n\u001b[0;32m      3\u001b[0m plt\u001b[38;5;241m.\u001b[39mplot(history\u001b[38;5;241m.\u001b[39mhistory[\u001b[38;5;124m'\u001b[39m\u001b[38;5;124mval_accuracy\u001b[39m\u001b[38;5;124m'\u001b[39m])\n\u001b[0;32m      4\u001b[0m plt\u001b[38;5;241m.\u001b[39mtitle(\u001b[38;5;124m'\u001b[39m\u001b[38;5;124mModel accuracy\u001b[39m\u001b[38;5;124m'\u001b[39m)\n",
      "\u001b[1;31mNameError\u001b[0m: name 'history' is not defined"
     ]
    }
   ],
   "source": [
    "# Plot training & validation accuracy values\n",
    "plt.plot(history.history['accuracy'])\n",
    "plt.plot(history.history['val_accuracy'])\n",
    "plt.title('Model accuracy')\n",
    "plt.ylabel('Accuracy')\n",
    "plt.xlabel('Epoch')\n",
    "plt.legend(['Train', 'Test'], loc='upper left')\n",
    "plt.show()\n",
    "\n",
    "# Plot training & validation loss values\n",
    "plt.plot(history.history['loss'])\n",
    "plt.plot(history.history['val_loss'])\n",
    "plt.title('Model loss')\n",
    "plt.ylabel('Loss')\n",
    "plt.xlabel('Epoch')\n",
    "plt.legend(['Train', 'Test'], loc='upper left')\n",
    "plt.show()"
   ]
  },
  {
   "cell_type": "code",
   "execution_count": 7,
   "metadata": {},
   "outputs": [
    {
     "data": {
      "text/html": [
       "<pre style=\"white-space:pre;overflow-x:auto;line-height:normal;font-family:Menlo,'DejaVu Sans Mono',consolas,'Courier New',monospace\"><span style=\"font-weight: bold\">Model: \"sequential_1\"</span>\n",
       "</pre>\n"
      ],
      "text/plain": [
       "\u001b[1mModel: \"sequential_1\"\u001b[0m\n"
      ]
     },
     "metadata": {},
     "output_type": "display_data"
    },
    {
     "data": {
      "text/html": [
       "<pre style=\"white-space:pre;overflow-x:auto;line-height:normal;font-family:Menlo,'DejaVu Sans Mono',consolas,'Courier New',monospace\">┏━━━━━━━━━━━━━━━━━━━━━━━━━━━━━━━━━┳━━━━━━━━━━━━━━━━━━━━━━━━┳━━━━━━━━━━━━━━━┓\n",
       "┃<span style=\"font-weight: bold\"> Layer (type)                    </span>┃<span style=\"font-weight: bold\"> Output Shape           </span>┃<span style=\"font-weight: bold\">       Param # </span>┃\n",
       "┡━━━━━━━━━━━━━━━━━━━━━━━━━━━━━━━━━╇━━━━━━━━━━━━━━━━━━━━━━━━╇━━━━━━━━━━━━━━━┩\n",
       "│ conv2d_2 (<span style=\"color: #0087ff; text-decoration-color: #0087ff\">Conv2D</span>)               │ (<span style=\"color: #00d7ff; text-decoration-color: #00d7ff\">None</span>, <span style=\"color: #00af00; text-decoration-color: #00af00\">222</span>, <span style=\"color: #00af00; text-decoration-color: #00af00\">222</span>, <span style=\"color: #00af00; text-decoration-color: #00af00\">32</span>)   │           <span style=\"color: #00af00; text-decoration-color: #00af00\">896</span> │\n",
       "├─────────────────────────────────┼────────────────────────┼───────────────┤\n",
       "│ batch_normalization_2           │ (<span style=\"color: #00d7ff; text-decoration-color: #00d7ff\">None</span>, <span style=\"color: #00af00; text-decoration-color: #00af00\">222</span>, <span style=\"color: #00af00; text-decoration-color: #00af00\">222</span>, <span style=\"color: #00af00; text-decoration-color: #00af00\">32</span>)   │           <span style=\"color: #00af00; text-decoration-color: #00af00\">128</span> │\n",
       "│ (<span style=\"color: #0087ff; text-decoration-color: #0087ff\">BatchNormalization</span>)            │                        │               │\n",
       "├─────────────────────────────────┼────────────────────────┼───────────────┤\n",
       "│ max_pooling2d_2 (<span style=\"color: #0087ff; text-decoration-color: #0087ff\">MaxPooling2D</span>)  │ (<span style=\"color: #00d7ff; text-decoration-color: #00d7ff\">None</span>, <span style=\"color: #00af00; text-decoration-color: #00af00\">111</span>, <span style=\"color: #00af00; text-decoration-color: #00af00\">111</span>, <span style=\"color: #00af00; text-decoration-color: #00af00\">32</span>)   │             <span style=\"color: #00af00; text-decoration-color: #00af00\">0</span> │\n",
       "├─────────────────────────────────┼────────────────────────┼───────────────┤\n",
       "│ conv2d_3 (<span style=\"color: #0087ff; text-decoration-color: #0087ff\">Conv2D</span>)               │ (<span style=\"color: #00d7ff; text-decoration-color: #00d7ff\">None</span>, <span style=\"color: #00af00; text-decoration-color: #00af00\">109</span>, <span style=\"color: #00af00; text-decoration-color: #00af00\">109</span>, <span style=\"color: #00af00; text-decoration-color: #00af00\">64</span>)   │        <span style=\"color: #00af00; text-decoration-color: #00af00\">18,496</span> │\n",
       "├─────────────────────────────────┼────────────────────────┼───────────────┤\n",
       "│ batch_normalization_3           │ (<span style=\"color: #00d7ff; text-decoration-color: #00d7ff\">None</span>, <span style=\"color: #00af00; text-decoration-color: #00af00\">109</span>, <span style=\"color: #00af00; text-decoration-color: #00af00\">109</span>, <span style=\"color: #00af00; text-decoration-color: #00af00\">64</span>)   │           <span style=\"color: #00af00; text-decoration-color: #00af00\">256</span> │\n",
       "│ (<span style=\"color: #0087ff; text-decoration-color: #0087ff\">BatchNormalization</span>)            │                        │               │\n",
       "├─────────────────────────────────┼────────────────────────┼───────────────┤\n",
       "│ max_pooling2d_3 (<span style=\"color: #0087ff; text-decoration-color: #0087ff\">MaxPooling2D</span>)  │ (<span style=\"color: #00d7ff; text-decoration-color: #00d7ff\">None</span>, <span style=\"color: #00af00; text-decoration-color: #00af00\">54</span>, <span style=\"color: #00af00; text-decoration-color: #00af00\">54</span>, <span style=\"color: #00af00; text-decoration-color: #00af00\">64</span>)     │             <span style=\"color: #00af00; text-decoration-color: #00af00\">0</span> │\n",
       "├─────────────────────────────────┼────────────────────────┼───────────────┤\n",
       "│ flatten_1 (<span style=\"color: #0087ff; text-decoration-color: #0087ff\">Flatten</span>)             │ (<span style=\"color: #00d7ff; text-decoration-color: #00d7ff\">None</span>, <span style=\"color: #00af00; text-decoration-color: #00af00\">186624</span>)         │             <span style=\"color: #00af00; text-decoration-color: #00af00\">0</span> │\n",
       "├─────────────────────────────────┼────────────────────────┼───────────────┤\n",
       "│ dense_1 (<span style=\"color: #0087ff; text-decoration-color: #0087ff\">Dense</span>)                 │ (<span style=\"color: #00d7ff; text-decoration-color: #00d7ff\">None</span>, <span style=\"color: #00af00; text-decoration-color: #00af00\">256</span>)            │    <span style=\"color: #00af00; text-decoration-color: #00af00\">47,776,000</span> │\n",
       "├─────────────────────────────────┼────────────────────────┼───────────────┤\n",
       "│ dropout_1 (<span style=\"color: #0087ff; text-decoration-color: #0087ff\">Dropout</span>)             │ (<span style=\"color: #00d7ff; text-decoration-color: #00d7ff\">None</span>, <span style=\"color: #00af00; text-decoration-color: #00af00\">256</span>)            │             <span style=\"color: #00af00; text-decoration-color: #00af00\">0</span> │\n",
       "├─────────────────────────────────┼────────────────────────┼───────────────┤\n",
       "│ dense_2 (<span style=\"color: #0087ff; text-decoration-color: #0087ff\">Dense</span>)                 │ (<span style=\"color: #00d7ff; text-decoration-color: #00d7ff\">None</span>, <span style=\"color: #00af00; text-decoration-color: #00af00\">38</span>)             │         <span style=\"color: #00af00; text-decoration-color: #00af00\">9,766</span> │\n",
       "└─────────────────────────────────┴────────────────────────┴───────────────┘\n",
       "</pre>\n"
      ],
      "text/plain": [
       "┏━━━━━━━━━━━━━━━━━━━━━━━━━━━━━━━━━┳━━━━━━━━━━━━━━━━━━━━━━━━┳━━━━━━━━━━━━━━━┓\n",
       "┃\u001b[1m \u001b[0m\u001b[1mLayer (type)                   \u001b[0m\u001b[1m \u001b[0m┃\u001b[1m \u001b[0m\u001b[1mOutput Shape          \u001b[0m\u001b[1m \u001b[0m┃\u001b[1m \u001b[0m\u001b[1m      Param #\u001b[0m\u001b[1m \u001b[0m┃\n",
       "┡━━━━━━━━━━━━━━━━━━━━━━━━━━━━━━━━━╇━━━━━━━━━━━━━━━━━━━━━━━━╇━━━━━━━━━━━━━━━┩\n",
       "│ conv2d_2 (\u001b[38;5;33mConv2D\u001b[0m)               │ (\u001b[38;5;45mNone\u001b[0m, \u001b[38;5;34m222\u001b[0m, \u001b[38;5;34m222\u001b[0m, \u001b[38;5;34m32\u001b[0m)   │           \u001b[38;5;34m896\u001b[0m │\n",
       "├─────────────────────────────────┼────────────────────────┼───────────────┤\n",
       "│ batch_normalization_2           │ (\u001b[38;5;45mNone\u001b[0m, \u001b[38;5;34m222\u001b[0m, \u001b[38;5;34m222\u001b[0m, \u001b[38;5;34m32\u001b[0m)   │           \u001b[38;5;34m128\u001b[0m │\n",
       "│ (\u001b[38;5;33mBatchNormalization\u001b[0m)            │                        │               │\n",
       "├─────────────────────────────────┼────────────────────────┼───────────────┤\n",
       "│ max_pooling2d_2 (\u001b[38;5;33mMaxPooling2D\u001b[0m)  │ (\u001b[38;5;45mNone\u001b[0m, \u001b[38;5;34m111\u001b[0m, \u001b[38;5;34m111\u001b[0m, \u001b[38;5;34m32\u001b[0m)   │             \u001b[38;5;34m0\u001b[0m │\n",
       "├─────────────────────────────────┼────────────────────────┼───────────────┤\n",
       "│ conv2d_3 (\u001b[38;5;33mConv2D\u001b[0m)               │ (\u001b[38;5;45mNone\u001b[0m, \u001b[38;5;34m109\u001b[0m, \u001b[38;5;34m109\u001b[0m, \u001b[38;5;34m64\u001b[0m)   │        \u001b[38;5;34m18,496\u001b[0m │\n",
       "├─────────────────────────────────┼────────────────────────┼───────────────┤\n",
       "│ batch_normalization_3           │ (\u001b[38;5;45mNone\u001b[0m, \u001b[38;5;34m109\u001b[0m, \u001b[38;5;34m109\u001b[0m, \u001b[38;5;34m64\u001b[0m)   │           \u001b[38;5;34m256\u001b[0m │\n",
       "│ (\u001b[38;5;33mBatchNormalization\u001b[0m)            │                        │               │\n",
       "├─────────────────────────────────┼────────────────────────┼───────────────┤\n",
       "│ max_pooling2d_3 (\u001b[38;5;33mMaxPooling2D\u001b[0m)  │ (\u001b[38;5;45mNone\u001b[0m, \u001b[38;5;34m54\u001b[0m, \u001b[38;5;34m54\u001b[0m, \u001b[38;5;34m64\u001b[0m)     │             \u001b[38;5;34m0\u001b[0m │\n",
       "├─────────────────────────────────┼────────────────────────┼───────────────┤\n",
       "│ flatten_1 (\u001b[38;5;33mFlatten\u001b[0m)             │ (\u001b[38;5;45mNone\u001b[0m, \u001b[38;5;34m186624\u001b[0m)         │             \u001b[38;5;34m0\u001b[0m │\n",
       "├─────────────────────────────────┼────────────────────────┼───────────────┤\n",
       "│ dense_1 (\u001b[38;5;33mDense\u001b[0m)                 │ (\u001b[38;5;45mNone\u001b[0m, \u001b[38;5;34m256\u001b[0m)            │    \u001b[38;5;34m47,776,000\u001b[0m │\n",
       "├─────────────────────────────────┼────────────────────────┼───────────────┤\n",
       "│ dropout_1 (\u001b[38;5;33mDropout\u001b[0m)             │ (\u001b[38;5;45mNone\u001b[0m, \u001b[38;5;34m256\u001b[0m)            │             \u001b[38;5;34m0\u001b[0m │\n",
       "├─────────────────────────────────┼────────────────────────┼───────────────┤\n",
       "│ dense_2 (\u001b[38;5;33mDense\u001b[0m)                 │ (\u001b[38;5;45mNone\u001b[0m, \u001b[38;5;34m38\u001b[0m)             │         \u001b[38;5;34m9,766\u001b[0m │\n",
       "└─────────────────────────────────┴────────────────────────┴───────────────┘\n"
      ]
     },
     "metadata": {},
     "output_type": "display_data"
    },
    {
     "data": {
      "text/html": [
       "<pre style=\"white-space:pre;overflow-x:auto;line-height:normal;font-family:Menlo,'DejaVu Sans Mono',consolas,'Courier New',monospace\"><span style=\"font-weight: bold\"> Total params: </span><span style=\"color: #00af00; text-decoration-color: #00af00\">47,805,542</span> (182.36 MB)\n",
       "</pre>\n"
      ],
      "text/plain": [
       "\u001b[1m Total params: \u001b[0m\u001b[38;5;34m47,805,542\u001b[0m (182.36 MB)\n"
      ]
     },
     "metadata": {},
     "output_type": "display_data"
    },
    {
     "data": {
      "text/html": [
       "<pre style=\"white-space:pre;overflow-x:auto;line-height:normal;font-family:Menlo,'DejaVu Sans Mono',consolas,'Courier New',monospace\"><span style=\"font-weight: bold\"> Trainable params: </span><span style=\"color: #00af00; text-decoration-color: #00af00\">47,805,350</span> (182.36 MB)\n",
       "</pre>\n"
      ],
      "text/plain": [
       "\u001b[1m Trainable params: \u001b[0m\u001b[38;5;34m47,805,350\u001b[0m (182.36 MB)\n"
      ]
     },
     "metadata": {},
     "output_type": "display_data"
    },
    {
     "data": {
      "text/html": [
       "<pre style=\"white-space:pre;overflow-x:auto;line-height:normal;font-family:Menlo,'DejaVu Sans Mono',consolas,'Courier New',monospace\"><span style=\"font-weight: bold\"> Non-trainable params: </span><span style=\"color: #00af00; text-decoration-color: #00af00\">192</span> (768.00 B)\n",
       "</pre>\n"
      ],
      "text/plain": [
       "\u001b[1m Non-trainable params: \u001b[0m\u001b[38;5;34m192\u001b[0m (768.00 B)\n"
      ]
     },
     "metadata": {},
     "output_type": "display_data"
    }
   ],
   "source": [
    "import json\n",
    "from tensorflow.keras.models import Sequential\n",
    "from tensorflow.keras.layers import Conv2D, MaxPooling2D, Flatten, Dense, Dropout, BatchNormalization\n",
    "\n",
    "# Load class indices from JSON file (make sure the path is correct)\n",
    "# Option 1: Using raw string literal\n",
    "with open(r'C:\\Users\\adity\\plant-disease-prediction-cnn-deep-leanring-project\\model_training_notebook\\class_indices.json') as f:\n",
    "    class_indices = json.load(f)\n",
    "\n",
    "# Option 2: Using forward slashes\n",
    "# with open('C:/Users/adity/plant-disease-prediction-cnn-deep-leanring-project/model_training_notebook/class_indices.json') as f:\n",
    "#     class_indices = json.load(f)\n",
    "\n",
    "# Define the number of classes\n",
    "num_classes = len(class_indices)  # This will give you the total number of classes\n",
    "\n",
    "model = Sequential()\n",
    "\n",
    "# First convolutional layer\n",
    "model.add(Conv2D(32, (3, 3), activation='relu', input_shape=(224, 224, 3)))\n",
    "model.add(BatchNormalization())\n",
    "model.add(MaxPooling2D(pool_size=(2, 2)))\n",
    "\n",
    "# Second convolutional layer\n",
    "model.add(Conv2D(64, (3, 3), activation='relu'))\n",
    "model.add(BatchNormalization())\n",
    "model.add(MaxPooling2D(pool_size=(2, 2)))\n",
    "\n",
    "# Flatten the layers\n",
    "model.add(Flatten())\n",
    "\n",
    "# Fully connected layer\n",
    "model.add(Dense(256, activation='relu'))\n",
    "model.add(Dropout(0.5))  # Dropout to reduce overfitting\n",
    "\n",
    "# Output layer\n",
    "model.add(Dense(num_classes, activation='softmax'))  # Use the defined num_classes\n",
    "\n",
    "# Compile the model\n",
    "model.compile(optimizer='adam', loss='categorical_crossentropy', metrics=['accuracy'])\n",
    "\n",
    "# Optionally, print the model summary to verify the architecture\n",
    "model.summary()\n"
   ]
  },
  {
   "cell_type": "markdown",
   "metadata": {
    "id": "zIeDSJa5xkpy"
   },
   "source": [
    "**Building a Predictive System**"
   ]
  },
  {
   "cell_type": "code",
   "execution_count": 42,
   "metadata": {
    "id": "0onhRrVkv9-M"
   },
   "outputs": [],
   "source": [
    "# Function to Load and Preprocess the Image using Pillow\n",
    "def load_and_preprocess_image(image_path, target_size=(224, 224)):\n",
    "    # Load the image\n",
    "    img = Image.open(image_path)\n",
    "    # Resize the image\n",
    "    img = img.resize(target_size)\n",
    "    # Convert the image to a numpy array\n",
    "    img_array = np.array(img)\n",
    "    # Add batch dimension\n",
    "    img_array = np.expand_dims(img_array, axis=0)\n",
    "    # Scale the image values to [0, 1]\n",
    "    img_array = img_array.astype('float32') / 255.\n",
    "    return img_array\n",
    "\n",
    "# Function to Predict the Class of an Image\n",
    "def predict_image_class(model, image_path, class_indices):\n",
    "    preprocessed_img = load_and_preprocess_image(image_path)\n",
    "    predictions = model.predict(preprocessed_img)\n",
    "    predicted_class_index = np.argmax(predictions, axis=1)[0]\n",
    "    predicted_class_name = class_indices[predicted_class_index]\n",
    "    return predicted_class_name"
   ]
  },
  {
   "cell_type": "code",
   "execution_count": 43,
   "metadata": {
    "id": "YZkE2k6gwgOR"
   },
   "outputs": [],
   "source": [
    "# Create a mapping from class indices to class names\n",
    "class_indices = {v: k for k, v in train_generator.class_indices.items()}"
   ]
  },
  {
   "cell_type": "code",
   "execution_count": 44,
   "metadata": {
    "colab": {
     "base_uri": "https://localhost:8080/"
    },
    "id": "3dja767dwzFH",
    "outputId": "d0344da3-a583-459c-94dc-d63027b1f4a5"
   },
   "outputs": [
    {
     "data": {
      "text/plain": [
       "{0: 'Apple___Apple_scab',\n",
       " 1: 'Apple___Black_rot',\n",
       " 2: 'Apple___Cedar_apple_rust',\n",
       " 3: 'Apple___healthy',\n",
       " 4: 'Blueberry___healthy',\n",
       " 5: 'Cherry_(including_sour)___Powdery_mildew',\n",
       " 6: 'Cherry_(including_sour)___healthy',\n",
       " 7: 'Corn_(maize)___Cercospora_leaf_spot Gray_leaf_spot',\n",
       " 8: 'Corn_(maize)___Common_rust_',\n",
       " 9: 'Corn_(maize)___Northern_Leaf_Blight',\n",
       " 10: 'Corn_(maize)___healthy',\n",
       " 11: 'Grape___Black_rot',\n",
       " 12: 'Grape___Esca_(Black_Measles)',\n",
       " 13: 'Grape___Leaf_blight_(Isariopsis_Leaf_Spot)',\n",
       " 14: 'Grape___healthy',\n",
       " 15: 'Orange___Haunglongbing_(Citrus_greening)',\n",
       " 16: 'Peach___Bacterial_spot',\n",
       " 17: 'Peach___healthy',\n",
       " 18: 'Pepper,_bell___Bacterial_spot',\n",
       " 19: 'Pepper,_bell___healthy',\n",
       " 20: 'Potato___Early_blight',\n",
       " 21: 'Potato___Late_blight',\n",
       " 22: 'Potato___healthy',\n",
       " 23: 'Raspberry___healthy',\n",
       " 24: 'Soybean___healthy',\n",
       " 25: 'Squash___Powdery_mildew',\n",
       " 26: 'Strawberry___Leaf_scorch',\n",
       " 27: 'Strawberry___healthy',\n",
       " 28: 'Tomato___Bacterial_spot',\n",
       " 29: 'Tomato___Early_blight',\n",
       " 30: 'Tomato___Late_blight',\n",
       " 31: 'Tomato___Leaf_Mold',\n",
       " 32: 'Tomato___Septoria_leaf_spot',\n",
       " 33: 'Tomato___Spider_mites Two-spotted_spider_mite',\n",
       " 34: 'Tomato___Target_Spot',\n",
       " 35: 'Tomato___Tomato_Yellow_Leaf_Curl_Virus',\n",
       " 36: 'Tomato___Tomato_mosaic_virus',\n",
       " 37: 'Tomato___healthy'}"
      ]
     },
     "execution_count": 44,
     "metadata": {},
     "output_type": "execute_result"
    }
   ],
   "source": [
    "class_indices"
   ]
  },
  {
   "cell_type": "code",
   "execution_count": 45,
   "metadata": {
    "id": "StM3_I3UwjFV"
   },
   "outputs": [],
   "source": [
    "# saving the class names as json file\n",
    "json.dump(class_indices, open('class_indices.json', 'w'))"
   ]
  },
  {
   "cell_type": "code",
   "execution_count": 50,
   "metadata": {
    "colab": {
     "base_uri": "https://localhost:8080/"
    },
    "id": "kJb9gQGRw2Ln",
    "outputId": "f329cc1c-2945-416a-f42d-174a433ff60c"
   },
   "outputs": [
    {
     "name": "stdout",
     "output_type": "stream",
     "text": [
      "\u001b[1m1/1\u001b[0m \u001b[32m━━━━━━━━━━━━━━━━━━━━\u001b[0m\u001b[37m\u001b[0m \u001b[1m0s\u001b[0m 498ms/step\n",
      "Predicted Class Name: Apple___Black_rot\n"
     ]
    }
   ],
   "source": [
    "# Example Usage\n",
    "image_path = 'C:\\\\Users\\\\adity\\\\plant-disease-prediction-cnn-deep-leanring-project\\\\test_images\\\\test_apple_black_rot.JPG'\n",
    "\n",
    "#image_path = '/content/test_blueberry_healthy.jpg'\n",
    "#image_path = '/content/test_potato_early_blight.jpg'\n",
    "predicted_class_name = predict_image_class(model, image_path, class_indices)\n",
    "\n",
    "# Output the result\n",
    "print(\"Predicted Class Name:\", predicted_class_name)"
   ]
  },
  {
   "cell_type": "markdown",
   "metadata": {
    "id": "QBkknsKMyDbs"
   },
   "source": [
    "**Save the model to Google drive or local**"
   ]
  },
  {
   "cell_type": "code",
   "execution_count": 51,
   "metadata": {
    "id": "OfoTNemcxjk5"
   },
   "outputs": [
    {
     "name": "stderr",
     "output_type": "stream",
     "text": [
      "WARNING:absl:You are saving your model as an HDF5 file via `model.save()` or `keras.saving.save_model(model)`. This file format is considered legacy. We recommend using instead the native Keras format, e.g. `model.save('my_model.keras')` or `keras.saving.save_model(model, 'my_model.keras')`. \n"
     ]
    }
   ],
   "source": [
    "model.save('drive/MyDrive/Youtube/trained_models/plant_disease_prediction_model.h5')"
   ]
  },
  {
   "cell_type": "code",
   "execution_count": 52,
   "metadata": {
    "colab": {
     "base_uri": "https://localhost:8080/"
    },
    "id": "J8ByAMH6ykbN",
    "outputId": "8836c7a9-6d35-421f-b36c-f6fb50fd5cf7"
   },
   "outputs": [
    {
     "name": "stderr",
     "output_type": "stream",
     "text": [
      "WARNING:absl:You are saving your model as an HDF5 file via `model.save()` or `keras.saving.save_model(model)`. This file format is considered legacy. We recommend using instead the native Keras format, e.g. `model.save('my_model.keras')` or `keras.saving.save_model(model, 'my_model.keras')`. \n"
     ]
    }
   ],
   "source": [
    "model.save('plant_disease_prediction_model.h5')"
   ]
  },
  {
   "cell_type": "code",
   "execution_count": 53,
   "metadata": {
    "id": "ln01Rmj0L8Hg"
   },
   "outputs": [
    {
     "name": "stderr",
     "output_type": "stream",
     "text": [
      "WARNING:absl:Compiled the loaded model, but the compiled metrics have yet to be built. `model.compile_metrics` will be empty until you train or evaluate the model.\n"
     ]
    }
   ],
   "source": [
    "import pickle\n",
    "from tensorflow.keras.models import model_from_json\n",
    "\n",
    "# Load the model you saved\n",
    "from tensorflow.keras.models import load_model\n",
    "model = load_model('drive/MyDrive/Youtube/trained_models/plant_disease_prediction_model.h5')\n",
    "\n",
    "# Serialize model to JSON\n",
    "model_json = model.to_json()\n",
    "with open('model_architecture.json', 'w') as json_file:\n",
    "    json_file.write(model_json)\n",
    "\n",
    "# Serialize weights using pickle\n",
    "weights = model.get_weights()\n",
    "with open('model_weights.pkl', 'wb') as pkl_file:\n",
    "    pickle.dump(weights, pkl_file)\n"
   ]
  },
  {
   "cell_type": "code",
   "execution_count": 54,
   "metadata": {},
   "outputs": [],
   "source": [
    "# Load the architecture\n",
    "with open('model_architecture.json', 'r') as json_file:\n",
    "    loaded_model_json = json_file.read()\n",
    "model = model_from_json(loaded_model_json)\n",
    "\n",
    "# Load weights\n",
    "with open('model_weights.pkl', 'rb') as pkl_file:\n",
    "    weights = pickle.load(pkl_file)\n",
    "model.set_weights(weights)\n",
    "\n",
    "# Now the model is ready for inference\n"
   ]
  },
  {
   "cell_type": "code",
   "execution_count": 56,
   "metadata": {},
   "outputs": [
    {
     "name": "stdout",
     "output_type": "stream",
     "text": [
      "INFO:tensorflow:Assets written to: saved_model/assets\n"
     ]
    },
    {
     "name": "stderr",
     "output_type": "stream",
     "text": [
      "INFO:tensorflow:Assets written to: saved_model/assets\n"
     ]
    },
    {
     "name": "stdout",
     "output_type": "stream",
     "text": [
      "Saved artifact at 'saved_model/'. The following endpoints are available:\n",
      "\n",
      "* Endpoint 'serve'\n",
      "  args_0 (POSITIONAL_ONLY): TensorSpec(shape=(None, 224, 224, 3), dtype=tf.float32, name='input_layer')\n",
      "Output Type:\n",
      "  TensorSpec(shape=(None, 38), dtype=tf.float32, name=None)\n",
      "Captures:\n",
      "  1116596246800: TensorSpec(shape=(), dtype=tf.resource, name=None)\n",
      "  1116596247568: TensorSpec(shape=(), dtype=tf.resource, name=None)\n",
      "  1116596245456: TensorSpec(shape=(), dtype=tf.resource, name=None)\n",
      "  1116596248528: TensorSpec(shape=(), dtype=tf.resource, name=None)\n",
      "  1116596248720: TensorSpec(shape=(), dtype=tf.resource, name=None)\n",
      "  1116596249296: TensorSpec(shape=(), dtype=tf.resource, name=None)\n",
      "  1116596249488: TensorSpec(shape=(), dtype=tf.resource, name=None)\n",
      "  1116596250064: TensorSpec(shape=(), dtype=tf.resource, name=None)\n"
     ]
    },
    {
     "ename": "ValueError",
     "evalue": "File format not supported: filepath=saved_model/. Keras 3 only supports V3 `.keras` files and legacy H5 format files (`.h5` extension). Note that the legacy SavedModel format is not supported by `load_model()` in Keras 3. In order to reload a TensorFlow SavedModel as an inference-only layer in Keras 3, use `keras.layers.TFSMLayer(saved_model/, call_endpoint='serving_default')` (note that your `call_endpoint` might have a different name).",
     "output_type": "error",
     "traceback": [
      "\u001b[1;31m---------------------------------------------------------------------------\u001b[0m",
      "\u001b[1;31mValueError\u001b[0m                                Traceback (most recent call last)",
      "Cell \u001b[1;32mIn[56], line 5\u001b[0m\n\u001b[0;32m      2\u001b[0m model\u001b[38;5;241m.\u001b[39mexport(\u001b[38;5;124m'\u001b[39m\u001b[38;5;124msaved_model/\u001b[39m\u001b[38;5;124m'\u001b[39m)\n\u001b[0;32m      4\u001b[0m \u001b[38;5;66;03m# Load it later using\u001b[39;00m\n\u001b[1;32m----> 5\u001b[0m new_model \u001b[38;5;241m=\u001b[39m tf\u001b[38;5;241m.\u001b[39mkeras\u001b[38;5;241m.\u001b[39mmodels\u001b[38;5;241m.\u001b[39mload_model(\u001b[38;5;124m'\u001b[39m\u001b[38;5;124msaved_model/\u001b[39m\u001b[38;5;124m'\u001b[39m)\n",
      "File \u001b[1;32mc:\\Users\\adity\\anaconda3\\Lib\\site-packages\\keras\\src\\saving\\saving_api.py:204\u001b[0m, in \u001b[0;36mload_model\u001b[1;34m(filepath, custom_objects, compile, safe_mode)\u001b[0m\n\u001b[0;32m    198\u001b[0m     \u001b[38;5;28;01mraise\u001b[39;00m \u001b[38;5;167;01mValueError\u001b[39;00m(\n\u001b[0;32m    199\u001b[0m         \u001b[38;5;124mf\u001b[39m\u001b[38;5;124m\"\u001b[39m\u001b[38;5;124mFile not found: filepath=\u001b[39m\u001b[38;5;132;01m{\u001b[39;00mfilepath\u001b[38;5;132;01m}\u001b[39;00m\u001b[38;5;124m. \u001b[39m\u001b[38;5;124m\"\u001b[39m\n\u001b[0;32m    200\u001b[0m         \u001b[38;5;124m\"\u001b[39m\u001b[38;5;124mPlease ensure the file is an accessible `.keras` \u001b[39m\u001b[38;5;124m\"\u001b[39m\n\u001b[0;32m    201\u001b[0m         \u001b[38;5;124m\"\u001b[39m\u001b[38;5;124mzip file.\u001b[39m\u001b[38;5;124m\"\u001b[39m\n\u001b[0;32m    202\u001b[0m     )\n\u001b[0;32m    203\u001b[0m \u001b[38;5;28;01melse\u001b[39;00m:\n\u001b[1;32m--> 204\u001b[0m     \u001b[38;5;28;01mraise\u001b[39;00m \u001b[38;5;167;01mValueError\u001b[39;00m(\n\u001b[0;32m    205\u001b[0m         \u001b[38;5;124mf\u001b[39m\u001b[38;5;124m\"\u001b[39m\u001b[38;5;124mFile format not supported: filepath=\u001b[39m\u001b[38;5;132;01m{\u001b[39;00mfilepath\u001b[38;5;132;01m}\u001b[39;00m\u001b[38;5;124m. \u001b[39m\u001b[38;5;124m\"\u001b[39m\n\u001b[0;32m    206\u001b[0m         \u001b[38;5;124m\"\u001b[39m\u001b[38;5;124mKeras 3 only supports V3 `.keras` files and \u001b[39m\u001b[38;5;124m\"\u001b[39m\n\u001b[0;32m    207\u001b[0m         \u001b[38;5;124m\"\u001b[39m\u001b[38;5;124mlegacy H5 format files (`.h5` extension). \u001b[39m\u001b[38;5;124m\"\u001b[39m\n\u001b[0;32m    208\u001b[0m         \u001b[38;5;124m\"\u001b[39m\u001b[38;5;124mNote that the legacy SavedModel format is not \u001b[39m\u001b[38;5;124m\"\u001b[39m\n\u001b[0;32m    209\u001b[0m         \u001b[38;5;124m\"\u001b[39m\u001b[38;5;124msupported by `load_model()` in Keras 3. In \u001b[39m\u001b[38;5;124m\"\u001b[39m\n\u001b[0;32m    210\u001b[0m         \u001b[38;5;124m\"\u001b[39m\u001b[38;5;124morder to reload a TensorFlow SavedModel as an \u001b[39m\u001b[38;5;124m\"\u001b[39m\n\u001b[0;32m    211\u001b[0m         \u001b[38;5;124m\"\u001b[39m\u001b[38;5;124minference-only layer in Keras 3, use \u001b[39m\u001b[38;5;124m\"\u001b[39m\n\u001b[0;32m    212\u001b[0m         \u001b[38;5;124m\"\u001b[39m\u001b[38;5;124m`keras.layers.TFSMLayer(\u001b[39m\u001b[38;5;124m\"\u001b[39m\n\u001b[0;32m    213\u001b[0m         \u001b[38;5;124mf\u001b[39m\u001b[38;5;124m\"\u001b[39m\u001b[38;5;132;01m{\u001b[39;00mfilepath\u001b[38;5;132;01m}\u001b[39;00m\u001b[38;5;124m, call_endpoint=\u001b[39m\u001b[38;5;124m'\u001b[39m\u001b[38;5;124mserving_default\u001b[39m\u001b[38;5;124m'\u001b[39m\u001b[38;5;124m)` \u001b[39m\u001b[38;5;124m\"\u001b[39m\n\u001b[0;32m    214\u001b[0m         \u001b[38;5;124m\"\u001b[39m\u001b[38;5;124m(note that your `call_endpoint` \u001b[39m\u001b[38;5;124m\"\u001b[39m\n\u001b[0;32m    215\u001b[0m         \u001b[38;5;124m\"\u001b[39m\u001b[38;5;124mmight have a different name).\u001b[39m\u001b[38;5;124m\"\u001b[39m\n\u001b[0;32m    216\u001b[0m     )\n",
      "\u001b[1;31mValueError\u001b[0m: File format not supported: filepath=saved_model/. Keras 3 only supports V3 `.keras` files and legacy H5 format files (`.h5` extension). Note that the legacy SavedModel format is not supported by `load_model()` in Keras 3. In order to reload a TensorFlow SavedModel as an inference-only layer in Keras 3, use `keras.layers.TFSMLayer(saved_model/, call_endpoint='serving_default')` (note that your `call_endpoint` might have a different name)."
     ]
    }
   ],
   "source": [
    "# Save the model in the SavedModel format\n",
    "model.export('saved_model/')\n",
    "\n",
    "# Load it later using\n",
    "new_model = tf.keras.models.load_model('saved_model/')\n"
   ]
  }
 ],
 "metadata": {
  "accelerator": "GPU",
  "colab": {
   "gpuType": "T4",
   "provenance": []
  },
  "kernelspec": {
   "display_name": "Python 3 (ipykernel)",
   "language": "python",
   "name": "python3"
  },
  "language_info": {
   "codemirror_mode": {
    "name": "ipython",
    "version": 3
   },
   "file_extension": ".py",
   "mimetype": "text/x-python",
   "name": "python",
   "nbconvert_exporter": "python",
   "pygments_lexer": "ipython3",
   "version": "3.12.4"
  }
 },
 "nbformat": 4,
 "nbformat_minor": 4
}
